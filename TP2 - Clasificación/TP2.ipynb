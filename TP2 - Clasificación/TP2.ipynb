{
 "cells": [
  {
   "cell_type": "markdown",
   "metadata": {},
   "source": [
    "###PRIMERA PARTE: ANALIZANDO LA BASE###"
   ]
  },
  {
   "cell_type": "markdown",
   "metadata": {},
   "source": [
    "EJERCICIO 2:LIMPIEZA DE BASE DE DATOS"
   ]
  },
  {
   "cell_type": "code",
   "execution_count": 29,
   "metadata": {},
   "outputs": [],
   "source": [
    "import pandas as pd\n",
    "import numpy as np\n",
    "\n",
    "#Abrimos la base\n",
    "\n",
    "df = pd.read_excel('./EPH_usu_1er_Trim_2022_xlsx/usu_individual_T122.xlsx')"
   ]
  },
  {
   "cell_type": "markdown",
   "metadata": {},
   "source": [
    "INCISO a_: eliminamos todos los aglomerados que no correspondan a CABA (cód 32) o GBA (cód 33)"
   ]
  },
  {
   "cell_type": "code",
   "execution_count": 30,
   "metadata": {},
   "outputs": [
    {
     "name": "stdout",
     "output_type": "stream",
     "text": [
      "6706\n"
     ]
    },
    {
     "data": {
      "text/html": [
       "<div>\n",
       "<style scoped>\n",
       "    .dataframe tbody tr th:only-of-type {\n",
       "        vertical-align: middle;\n",
       "    }\n",
       "\n",
       "    .dataframe tbody tr th {\n",
       "        vertical-align: top;\n",
       "    }\n",
       "\n",
       "    .dataframe thead th {\n",
       "        text-align: right;\n",
       "    }\n",
       "</style>\n",
       "<table border=\"1\" class=\"dataframe\">\n",
       "  <thead>\n",
       "    <tr style=\"text-align: right;\">\n",
       "      <th></th>\n",
       "      <th>CODUSU</th>\n",
       "      <th>ANO4</th>\n",
       "      <th>TRIMESTRE</th>\n",
       "      <th>NRO_HOGAR</th>\n",
       "      <th>COMPONENTE</th>\n",
       "      <th>H15</th>\n",
       "      <th>REGION</th>\n",
       "      <th>MAS_500</th>\n",
       "      <th>AGLOMERADO</th>\n",
       "      <th>PONDERA</th>\n",
       "      <th>...</th>\n",
       "      <th>PDECIFR</th>\n",
       "      <th>ADECIFR</th>\n",
       "      <th>IPCF</th>\n",
       "      <th>DECCFR</th>\n",
       "      <th>IDECCFR</th>\n",
       "      <th>RDECCFR</th>\n",
       "      <th>GDECCFR</th>\n",
       "      <th>PDECCFR</th>\n",
       "      <th>ADECCFR</th>\n",
       "      <th>PONDIH</th>\n",
       "    </tr>\n",
       "  </thead>\n",
       "  <tbody>\n",
       "    <tr>\n",
       "      <th>27519</th>\n",
       "      <td>TQRMNOPQXHJMPOCDEIJAH00719444</td>\n",
       "      <td>2022</td>\n",
       "      <td>1</td>\n",
       "      <td>1</td>\n",
       "      <td>2</td>\n",
       "      <td>1</td>\n",
       "      <td>1</td>\n",
       "      <td>S</td>\n",
       "      <td>33</td>\n",
       "      <td>1834</td>\n",
       "      <td>...</td>\n",
       "      <td>NaN</td>\n",
       "      <td>12</td>\n",
       "      <td>0.0</td>\n",
       "      <td>12</td>\n",
       "      <td>NaN</td>\n",
       "      <td>12</td>\n",
       "      <td>12.0</td>\n",
       "      <td>NaN</td>\n",
       "      <td>12</td>\n",
       "      <td>0</td>\n",
       "    </tr>\n",
       "    <tr>\n",
       "      <th>34835</th>\n",
       "      <td>TQRMNOQUQHKMQRCDEIJAH00780733</td>\n",
       "      <td>2022</td>\n",
       "      <td>1</td>\n",
       "      <td>1</td>\n",
       "      <td>1</td>\n",
       "      <td>1</td>\n",
       "      <td>1</td>\n",
       "      <td>S</td>\n",
       "      <td>33</td>\n",
       "      <td>2928</td>\n",
       "      <td>...</td>\n",
       "      <td>NaN</td>\n",
       "      <td>1</td>\n",
       "      <td>16000.0</td>\n",
       "      <td>2</td>\n",
       "      <td>NaN</td>\n",
       "      <td>2</td>\n",
       "      <td>2.0</td>\n",
       "      <td>NaN</td>\n",
       "      <td>2</td>\n",
       "      <td>4459</td>\n",
       "    </tr>\n",
       "    <tr>\n",
       "      <th>2252</th>\n",
       "      <td>TQRMNOXTXHJLMOCDEIJAH00719465</td>\n",
       "      <td>2022</td>\n",
       "      <td>1</td>\n",
       "      <td>1</td>\n",
       "      <td>1</td>\n",
       "      <td>1</td>\n",
       "      <td>1</td>\n",
       "      <td>S</td>\n",
       "      <td>33</td>\n",
       "      <td>834</td>\n",
       "      <td>...</td>\n",
       "      <td>NaN</td>\n",
       "      <td>8</td>\n",
       "      <td>40000.0</td>\n",
       "      <td>6</td>\n",
       "      <td>NaN</td>\n",
       "      <td>6</td>\n",
       "      <td>6.0</td>\n",
       "      <td>NaN</td>\n",
       "      <td>7</td>\n",
       "      <td>2096</td>\n",
       "    </tr>\n",
       "    <tr>\n",
       "      <th>8060</th>\n",
       "      <td>TQRMNORWSHMOLTCDEIJAH00780271</td>\n",
       "      <td>2022</td>\n",
       "      <td>1</td>\n",
       "      <td>1</td>\n",
       "      <td>5</td>\n",
       "      <td>1</td>\n",
       "      <td>1</td>\n",
       "      <td>S</td>\n",
       "      <td>33</td>\n",
       "      <td>2562</td>\n",
       "      <td>...</td>\n",
       "      <td>NaN</td>\n",
       "      <td>7</td>\n",
       "      <td>23600.0</td>\n",
       "      <td>3</td>\n",
       "      <td>NaN</td>\n",
       "      <td>3</td>\n",
       "      <td>3.0</td>\n",
       "      <td>NaN</td>\n",
       "      <td>4</td>\n",
       "      <td>7132</td>\n",
       "    </tr>\n",
       "    <tr>\n",
       "      <th>45019</th>\n",
       "      <td>TQRMNORVPHKLMRCDEIJAH00780839</td>\n",
       "      <td>2022</td>\n",
       "      <td>1</td>\n",
       "      <td>1</td>\n",
       "      <td>2</td>\n",
       "      <td>1</td>\n",
       "      <td>1</td>\n",
       "      <td>S</td>\n",
       "      <td>33</td>\n",
       "      <td>3005</td>\n",
       "      <td>...</td>\n",
       "      <td>NaN</td>\n",
       "      <td>12</td>\n",
       "      <td>0.0</td>\n",
       "      <td>12</td>\n",
       "      <td>NaN</td>\n",
       "      <td>12</td>\n",
       "      <td>12.0</td>\n",
       "      <td>NaN</td>\n",
       "      <td>12</td>\n",
       "      <td>0</td>\n",
       "    </tr>\n",
       "    <tr>\n",
       "      <th>6289</th>\n",
       "      <td>TQRMNORUVHLNMQCDEIJAH00719271</td>\n",
       "      <td>2022</td>\n",
       "      <td>1</td>\n",
       "      <td>1</td>\n",
       "      <td>3</td>\n",
       "      <td>0</td>\n",
       "      <td>1</td>\n",
       "      <td>S</td>\n",
       "      <td>33</td>\n",
       "      <td>3556</td>\n",
       "      <td>...</td>\n",
       "      <td>NaN</td>\n",
       "      <td>12</td>\n",
       "      <td>0.0</td>\n",
       "      <td>12</td>\n",
       "      <td>NaN</td>\n",
       "      <td>12</td>\n",
       "      <td>12.0</td>\n",
       "      <td>NaN</td>\n",
       "      <td>12</td>\n",
       "      <td>0</td>\n",
       "    </tr>\n",
       "    <tr>\n",
       "      <th>1294</th>\n",
       "      <td>TQRMNOQQUHJMRMCDEIJAH00719522</td>\n",
       "      <td>2022</td>\n",
       "      <td>1</td>\n",
       "      <td>1</td>\n",
       "      <td>3</td>\n",
       "      <td>0</td>\n",
       "      <td>1</td>\n",
       "      <td>S</td>\n",
       "      <td>33</td>\n",
       "      <td>3668</td>\n",
       "      <td>...</td>\n",
       "      <td>NaN</td>\n",
       "      <td>5</td>\n",
       "      <td>30000.0</td>\n",
       "      <td>5</td>\n",
       "      <td>NaN</td>\n",
       "      <td>4</td>\n",
       "      <td>4.0</td>\n",
       "      <td>NaN</td>\n",
       "      <td>5</td>\n",
       "      <td>5248</td>\n",
       "    </tr>\n",
       "    <tr>\n",
       "      <th>32132</th>\n",
       "      <td>TQRMNOTXWHMOQQCDEIJAH00780758</td>\n",
       "      <td>2022</td>\n",
       "      <td>1</td>\n",
       "      <td>1</td>\n",
       "      <td>1</td>\n",
       "      <td>1</td>\n",
       "      <td>1</td>\n",
       "      <td>S</td>\n",
       "      <td>33</td>\n",
       "      <td>3798</td>\n",
       "      <td>...</td>\n",
       "      <td>NaN</td>\n",
       "      <td>5</td>\n",
       "      <td>22550.0</td>\n",
       "      <td>3</td>\n",
       "      <td>NaN</td>\n",
       "      <td>3</td>\n",
       "      <td>3.0</td>\n",
       "      <td>NaN</td>\n",
       "      <td>3</td>\n",
       "      <td>5719</td>\n",
       "    </tr>\n",
       "    <tr>\n",
       "      <th>17164</th>\n",
       "      <td>TQSMNOSQSHJMOSCDEIJAH00780436</td>\n",
       "      <td>2022</td>\n",
       "      <td>1</td>\n",
       "      <td>1</td>\n",
       "      <td>3</td>\n",
       "      <td>1</td>\n",
       "      <td>1</td>\n",
       "      <td>S</td>\n",
       "      <td>33</td>\n",
       "      <td>1817</td>\n",
       "      <td>...</td>\n",
       "      <td>NaN</td>\n",
       "      <td>7</td>\n",
       "      <td>31250.0</td>\n",
       "      <td>5</td>\n",
       "      <td>NaN</td>\n",
       "      <td>4</td>\n",
       "      <td>5.0</td>\n",
       "      <td>NaN</td>\n",
       "      <td>5</td>\n",
       "      <td>3702</td>\n",
       "    </tr>\n",
       "    <tr>\n",
       "      <th>28484</th>\n",
       "      <td>TQRMNOSRSHKMKQCDEIJAH00780650</td>\n",
       "      <td>2022</td>\n",
       "      <td>1</td>\n",
       "      <td>1</td>\n",
       "      <td>1</td>\n",
       "      <td>1</td>\n",
       "      <td>1</td>\n",
       "      <td>S</td>\n",
       "      <td>33</td>\n",
       "      <td>5469</td>\n",
       "      <td>...</td>\n",
       "      <td>NaN</td>\n",
       "      <td>1</td>\n",
       "      <td>2000.0</td>\n",
       "      <td>1</td>\n",
       "      <td>NaN</td>\n",
       "      <td>1</td>\n",
       "      <td>1.0</td>\n",
       "      <td>NaN</td>\n",
       "      <td>1</td>\n",
       "      <td>6471</td>\n",
       "    </tr>\n",
       "  </tbody>\n",
       "</table>\n",
       "<p>10 rows × 177 columns</p>\n",
       "</div>"
      ],
      "text/plain": [
       "                              CODUSU  ANO4  TRIMESTRE  NRO_HOGAR  COMPONENTE  \\\n",
       "27519  TQRMNOPQXHJMPOCDEIJAH00719444  2022          1          1           2   \n",
       "34835  TQRMNOQUQHKMQRCDEIJAH00780733  2022          1          1           1   \n",
       "2252   TQRMNOXTXHJLMOCDEIJAH00719465  2022          1          1           1   \n",
       "8060   TQRMNORWSHMOLTCDEIJAH00780271  2022          1          1           5   \n",
       "45019  TQRMNORVPHKLMRCDEIJAH00780839  2022          1          1           2   \n",
       "6289   TQRMNORUVHLNMQCDEIJAH00719271  2022          1          1           3   \n",
       "1294   TQRMNOQQUHJMRMCDEIJAH00719522  2022          1          1           3   \n",
       "32132  TQRMNOTXWHMOQQCDEIJAH00780758  2022          1          1           1   \n",
       "17164  TQSMNOSQSHJMOSCDEIJAH00780436  2022          1          1           3   \n",
       "28484  TQRMNOSRSHKMKQCDEIJAH00780650  2022          1          1           1   \n",
       "\n",
       "       H15  REGION MAS_500  AGLOMERADO  PONDERA  ...  PDECIFR  ADECIFR  \\\n",
       "27519    1       1       S          33     1834  ...      NaN       12   \n",
       "34835    1       1       S          33     2928  ...      NaN        1   \n",
       "2252     1       1       S          33      834  ...      NaN        8   \n",
       "8060     1       1       S          33     2562  ...      NaN        7   \n",
       "45019    1       1       S          33     3005  ...      NaN       12   \n",
       "6289     0       1       S          33     3556  ...      NaN       12   \n",
       "1294     0       1       S          33     3668  ...      NaN        5   \n",
       "32132    1       1       S          33     3798  ...      NaN        5   \n",
       "17164    1       1       S          33     1817  ...      NaN        7   \n",
       "28484    1       1       S          33     5469  ...      NaN        1   \n",
       "\n",
       "          IPCF  DECCFR  IDECCFR  RDECCFR  GDECCFR  PDECCFR  ADECCFR  PONDIH  \n",
       "27519      0.0      12      NaN       12     12.0      NaN       12       0  \n",
       "34835  16000.0       2      NaN        2      2.0      NaN        2    4459  \n",
       "2252   40000.0       6      NaN        6      6.0      NaN        7    2096  \n",
       "8060   23600.0       3      NaN        3      3.0      NaN        4    7132  \n",
       "45019      0.0      12      NaN       12     12.0      NaN       12       0  \n",
       "6289       0.0      12      NaN       12     12.0      NaN       12       0  \n",
       "1294   30000.0       5      NaN        4      4.0      NaN        5    5248  \n",
       "32132  22550.0       3      NaN        3      3.0      NaN        3    5719  \n",
       "17164  31250.0       5      NaN        4      5.0      NaN        5    3702  \n",
       "28484   2000.0       1      NaN        1      1.0      NaN        1    6471  \n",
       "\n",
       "[10 rows x 177 columns]"
      ]
     },
     "execution_count": 30,
     "metadata": {},
     "output_type": "execute_result"
    }
   ],
   "source": [
    "df_cortado = df.query(\"AGLOMERADO in (32, 33)\") # la manera mas rapida y facil de hacerlo\n",
    "\n",
    "print(len(df_cortado))\n",
    "\n",
    "df_cortado.sample(10)"
   ]
  },
  {
   "cell_type": "markdown",
   "metadata": {},
   "source": [
    "INCISO b_ : eliminamos obs que no tienen sentido"
   ]
  },
  {
   "cell_type": "code",
   "execution_count": 31,
   "metadata": {},
   "outputs": [
    {
     "name": "stdout",
     "output_type": "stream",
     "text": [
      "5992\n"
     ]
    }
   ],
   "source": [
    "#Las variables PP08 son ingresos por la actividad principal por lo que si el indiv no es ocupado estas variables son missing, entonces si nos quedamos con las obs mayores o iguales a 0 estaríamos eliminando a todos los no ocupados.\n",
    "#Eliminamos obs con valores de ingreso y edad negativos\n",
    "df_cortado = df_cortado.query(\"CH06 >= 0\")\n",
    "df_cortado = df_cortado.drop(df_cortado[df_cortado['PP08D1']<0].index)\n",
    "df_cortado = df_cortado.drop(df_cortado[df_cortado['PP08D4']<0].index)\n",
    "df_cortado = df_cortado.drop(df_cortado[df_cortado['PP08F1']<0].index)\n",
    "df_cortado = df_cortado.drop(df_cortado[df_cortado['PP08F2']<0].index)\n",
    "df_cortado = df_cortado.drop(df_cortado[df_cortado['PP08J1']<0].index)\n",
    "df_cortado = df_cortado.drop(df_cortado[df_cortado['PP08J2']<0].index)\n",
    "df_cortado = df_cortado.drop(df_cortado[df_cortado['PP08J3']<0].index)\n",
    "df_cortado = df_cortado.drop(df_cortado[df_cortado['IPCF']<0].index)\n",
    "df_cortado = df_cortado.drop(df_cortado[df_cortado['ITF']<0].index)\n",
    "\n",
    "print(len(df_cortado))"
   ]
  },
  {
   "cell_type": "markdown",
   "metadata": {},
   "source": [
    "INCISO c_ : gráfico de barras composición por sexo"
   ]
  },
  {
   "cell_type": "code",
   "execution_count": 32,
   "metadata": {},
   "outputs": [
    {
     "data": {
      "image/png": "[encoded data removed]",
      "text/plain": [
       "<Figure size 432x288 with 1 Axes>"
      ]
     },
     "metadata": {
      "needs_background": "light"
     },
     "output_type": "display_data"
    }
   ],
   "source": [
    "import matplotlib.pyplot as plt\n",
    "\n",
    "varones = df_cortado.query(\"CH04 == 1\")\n",
    "mujeres = df_cortado.query(\"CH04 == 2\")\n",
    "\n",
    "plt.bar(['Varones', 'Mujeres'], [len(varones), len(mujeres)])\n",
    "plt.title(\"Composición de la muestra por sexo\")\n",
    "plt.show()"
   ]
  },
  {
   "cell_type": "markdown",
   "metadata": {},
   "source": [
    "INCISO d_ : correlaciones "
   ]
  },
  {
   "cell_type": "code",
   "execution_count": 33,
   "metadata": {},
   "outputs": [
    {
     "data": {
      "text/plain": [
       "<AxesSubplot:>"
      ]
     },
     "execution_count": 33,
     "metadata": {},
     "output_type": "execute_result"
    },
    {
     "data": {
      "image/png": "[encoded data removed]",
      "text/plain": [
       "<Figure size 432x288 with 2 Axes>"
      ]
     },
     "metadata": {
      "needs_background": "light"
     },
     "output_type": "display_data"
    }
   ],
   "source": [
    "import seaborn as sns\n",
    "\n",
    "df_corr=df_cortado[[\"CH04\", \"CH07\",\"CH08\", \"NIVEL_ED\", \"ESTADO\", \"CAT_INAC\", \"IPCF\"]]\n",
    "sns.heatmap(df_corr.corr(), vmin = -1, vmax = +1, annot = True, cmap = 'coolwarm')\n"
   ]
  },
  {
   "cell_type": "markdown",
   "metadata": {},
   "source": [
    "INCISO e_ : cantidad de Desocupados"
   ]
  },
  {
   "cell_type": "code",
   "execution_count": 34,
   "metadata": {},
   "outputs": [
    {
     "name": "stdout",
     "output_type": "stream",
     "text": [
      "      Desocupados    Inactivos    Ocupados    Mean_IPCF_ocup    Mean_IPCF_desocup    Mean_IPCF_inac\n",
      "--  -------------  -----------  ----------  ----------------  -------------------  ----------------\n",
      " 0            232         2695        2324             39839                14758             22350\n"
     ]
    }
   ],
   "source": [
    "from tabulate import tabulate\n",
    "\n",
    "des=0\n",
    "inac=0\n",
    "ocup=0\n",
    "for elem in df_cortado[\"ESTADO\"]: #ESTADO=0(NO RESPONDE), ESTADO=1 (OCUPADO), ESTADO=2(DESOCUPADO), ESTADO=3(INACTIVO), ESTADO=4(MENOR DE 10)\n",
    "    if elem==2:\n",
    "        des=des+1\n",
    "    elif elem==3:\n",
    "        inac=inac+1\n",
    "    elif elem==1:\n",
    "        ocup=ocup+1\n",
    "\n",
    "\n",
    "df_inc=df_cortado[[\"ESTADO\", \"IPCF\"]]\n",
    "mean=df_inc.groupby(by=\"ESTADO\").mean()\n",
    "mean=mean.drop(0) #Eliminamos ESTADO=0 que son los que no respondieron\n",
    "\n",
    "table=pd.DataFrame(columns=[\"Desocupados\",\"Inactivos\",\"Ocupados\", \"Mean_IPCF_ocup\",\"Mean_IPCF_desocup\",\"Mean_IPCF_inac\"])\n",
    "table.loc[0]=[des,inac,ocup,round(mean.loc[1, \"IPCF\"]),round(mean.loc[2, \"IPCF\"]),round(mean.loc[3, \"IPCF\"])]\n",
    "\n",
    "#Imprimos una tabla con datos solicitados.\n",
    "print(tabulate(table,headers=\"keys\"))\n",
    "\n",
    "#Exportamos tabla\n",
    "with open('mean_table.tex','w') as tf:\n",
    "    tf.write(table.to_latex())\n",
    "\n"
   ]
  },
  {
   "cell_type": "markdown",
   "metadata": {},
   "source": [
    "INCISO f_ : agregamos las variables adulto_equiv y ad_equiv_hogar:"
   ]
  },
  {
   "cell_type": "markdown",
   "metadata": {},
   "source": [
    "Abrimos  y limpiamos la base de equivalencias"
   ]
  },
  {
   "cell_type": "code",
   "execution_count": 35,
   "metadata": {},
   "outputs": [
    {
     "name": "stdout",
     "output_type": "stream",
     "text": [
      "      CH06  Mujeres  Varones\n",
      "0        0     0.35     0.35\n",
      "1        1     0.37     0.37\n",
      "2        2     0.46     0.46\n",
      "3        3     0.51     0.51\n",
      "4        4     0.55     0.55\n",
      "..     ...      ...      ...\n",
      "101  101.0     0.63     0.74\n",
      "102  102.0     0.63     0.74\n",
      "103  103.0     0.63     0.74\n",
      "104  104.0     0.63     0.74\n",
      "105  105.0     0.63     0.74\n",
      "\n",
      "[106 rows x 3 columns]\n"
     ]
    }
   ],
   "source": [
    "df_equiv = pd.read_excel('tabla_adulto_equiv.xlsx')\n",
    "\n",
    "df_equiv.loc[1,\"Edad\"]=1\n",
    "\n",
    "\n",
    "for i in range(0,18):\n",
    "    df_equiv.loc[i,\"Edad\"]= i \n",
    "\n",
    "for i in range(18,30): #18-29 años 0.76/1.02\n",
    "    df_equiv.loc[i]= [i,0.76,1.02] \n",
    "\n",
    "for i in range(30,46): #30-45 años 0.77/1\n",
    "    df_equiv.loc[i]= [i,0.77,1] \n",
    "\n",
    "for i in range(46,61): #46-60 años 0.76/1\n",
    "    df_equiv.loc[i]= [i,0.76,1] \n",
    "\n",
    "for i in range(61,76): #61-75 años 0.67/0.83\n",
    "    df_equiv.loc[i]= [i,0.67,0.83]\n",
    "\n",
    "for i in range(76,106): #18-29 años 0.63/0.74. La edad max en la EPH es 105 años. \n",
    "    df_equiv.loc[i]= [i,0.63,0.74] \n",
    "\n",
    "df_equiv = df_equiv.rename(columns={'Edad':'CH06'})\n",
    "print(df_equiv)"
   ]
  },
  {
   "cell_type": "markdown",
   "metadata": {},
   "source": [
    "Añadimos la variable 'adulto_equiv' a la base de la EPH"
   ]
  },
  {
   "cell_type": "code",
   "execution_count": 36,
   "metadata": {},
   "outputs": [],
   "source": [
    "df_merge=df_cortado.merge(df_equiv, on='CH06')\n",
    "\n",
    "for i in range(len(df_merge)):\n",
    "    if df_merge.loc[i,\"CH04\"]==1:\n",
    "        df_merge.loc[i,\"adulto_equiv\"]=df_merge.loc[i,\"Varones\"]\n",
    "    elif df_merge.loc[i,\"CH04\"]==2:\n",
    "        df_merge.loc[i,\"adulto_equiv\"]=df_merge.loc[i,\"Mujeres\"]\n",
    "\n",
    "\n",
    "df_merge.drop ([\"Varones\",\"Mujeres\"] , axis =1 , inplace = True)\n",
    "\n",
    "#El data frame relevante ahora es df_merge\n"
   ]
  },
  {
   "cell_type": "markdown",
   "metadata": {},
   "source": [
    "Creamos la variable 'ad_equiv_hogar' agrupando por CODUSO Y NRO_HOGAR"
   ]
  },
  {
   "cell_type": "code",
   "execution_count": 37,
   "metadata": {},
   "outputs": [
    {
     "data": {
      "text/html": [
       "<div>\n",
       "<style scoped>\n",
       "    .dataframe tbody tr th:only-of-type {\n",
       "        vertical-align: middle;\n",
       "    }\n",
       "\n",
       "    .dataframe tbody tr th {\n",
       "        vertical-align: top;\n",
       "    }\n",
       "\n",
       "    .dataframe thead th {\n",
       "        text-align: right;\n",
       "    }\n",
       "</style>\n",
       "<table border=\"1\" class=\"dataframe\">\n",
       "  <thead>\n",
       "    <tr style=\"text-align: right;\">\n",
       "      <th></th>\n",
       "      <th>CODUSU</th>\n",
       "      <th>ANO4</th>\n",
       "      <th>TRIMESTRE</th>\n",
       "      <th>NRO_HOGAR</th>\n",
       "      <th>COMPONENTE</th>\n",
       "      <th>H15</th>\n",
       "      <th>REGION</th>\n",
       "      <th>MAS_500</th>\n",
       "      <th>AGLOMERADO</th>\n",
       "      <th>PONDERA</th>\n",
       "      <th>...</th>\n",
       "      <th>IPCF</th>\n",
       "      <th>DECCFR</th>\n",
       "      <th>IDECCFR</th>\n",
       "      <th>RDECCFR</th>\n",
       "      <th>GDECCFR</th>\n",
       "      <th>PDECCFR</th>\n",
       "      <th>ADECCFR</th>\n",
       "      <th>PONDIH</th>\n",
       "      <th>adulto_equiv</th>\n",
       "      <th>ad_equiv_hogar</th>\n",
       "    </tr>\n",
       "  </thead>\n",
       "  <tbody>\n",
       "    <tr>\n",
       "      <th>4273</th>\n",
       "      <td>TQRMNOPPQHJMNRCDEIJAH00693035</td>\n",
       "      <td>2022</td>\n",
       "      <td>1</td>\n",
       "      <td>1</td>\n",
       "      <td>1</td>\n",
       "      <td>1</td>\n",
       "      <td>1</td>\n",
       "      <td>S</td>\n",
       "      <td>33</td>\n",
       "      <td>1427</td>\n",
       "      <td>...</td>\n",
       "      <td>26000.00</td>\n",
       "      <td>4</td>\n",
       "      <td>NaN</td>\n",
       "      <td>4</td>\n",
       "      <td>4.0</td>\n",
       "      <td>NaN</td>\n",
       "      <td>4</td>\n",
       "      <td>2359</td>\n",
       "      <td>1.02</td>\n",
       "      <td>2.88</td>\n",
       "    </tr>\n",
       "    <tr>\n",
       "      <th>4275</th>\n",
       "      <td>TQRMNOPPQHJMNRCDEIJAH00693035</td>\n",
       "      <td>2022</td>\n",
       "      <td>1</td>\n",
       "      <td>1</td>\n",
       "      <td>3</td>\n",
       "      <td>0</td>\n",
       "      <td>1</td>\n",
       "      <td>S</td>\n",
       "      <td>33</td>\n",
       "      <td>1427</td>\n",
       "      <td>...</td>\n",
       "      <td>26000.00</td>\n",
       "      <td>4</td>\n",
       "      <td>NaN</td>\n",
       "      <td>4</td>\n",
       "      <td>4.0</td>\n",
       "      <td>NaN</td>\n",
       "      <td>4</td>\n",
       "      <td>2359</td>\n",
       "      <td>0.64</td>\n",
       "      <td>2.88</td>\n",
       "    </tr>\n",
       "    <tr>\n",
       "      <th>4276</th>\n",
       "      <td>TQRMNOPPQHJMNRCDEIJAH00693035</td>\n",
       "      <td>2022</td>\n",
       "      <td>1</td>\n",
       "      <td>1</td>\n",
       "      <td>4</td>\n",
       "      <td>0</td>\n",
       "      <td>1</td>\n",
       "      <td>S</td>\n",
       "      <td>33</td>\n",
       "      <td>1427</td>\n",
       "      <td>...</td>\n",
       "      <td>26000.00</td>\n",
       "      <td>4</td>\n",
       "      <td>NaN</td>\n",
       "      <td>4</td>\n",
       "      <td>4.0</td>\n",
       "      <td>NaN</td>\n",
       "      <td>4</td>\n",
       "      <td>2359</td>\n",
       "      <td>0.46</td>\n",
       "      <td>2.88</td>\n",
       "    </tr>\n",
       "    <tr>\n",
       "      <th>4274</th>\n",
       "      <td>TQRMNOPPQHJMNRCDEIJAH00693035</td>\n",
       "      <td>2022</td>\n",
       "      <td>1</td>\n",
       "      <td>1</td>\n",
       "      <td>2</td>\n",
       "      <td>1</td>\n",
       "      <td>1</td>\n",
       "      <td>S</td>\n",
       "      <td>33</td>\n",
       "      <td>1427</td>\n",
       "      <td>...</td>\n",
       "      <td>26000.00</td>\n",
       "      <td>4</td>\n",
       "      <td>NaN</td>\n",
       "      <td>4</td>\n",
       "      <td>4.0</td>\n",
       "      <td>NaN</td>\n",
       "      <td>4</td>\n",
       "      <td>2359</td>\n",
       "      <td>0.76</td>\n",
       "      <td>2.88</td>\n",
       "    </tr>\n",
       "    <tr>\n",
       "      <th>5368</th>\n",
       "      <td>TQRMNOPPQHJMQLCDEIJAH00702455</td>\n",
       "      <td>2022</td>\n",
       "      <td>1</td>\n",
       "      <td>1</td>\n",
       "      <td>1</td>\n",
       "      <td>1</td>\n",
       "      <td>1</td>\n",
       "      <td>S</td>\n",
       "      <td>33</td>\n",
       "      <td>2054</td>\n",
       "      <td>...</td>\n",
       "      <td>55000.00</td>\n",
       "      <td>8</td>\n",
       "      <td>NaN</td>\n",
       "      <td>7</td>\n",
       "      <td>8.0</td>\n",
       "      <td>NaN</td>\n",
       "      <td>8</td>\n",
       "      <td>3275</td>\n",
       "      <td>0.67</td>\n",
       "      <td>1.67</td>\n",
       "    </tr>\n",
       "    <tr>\n",
       "      <th>...</th>\n",
       "      <td>...</td>\n",
       "      <td>...</td>\n",
       "      <td>...</td>\n",
       "      <td>...</td>\n",
       "      <td>...</td>\n",
       "      <td>...</td>\n",
       "      <td>...</td>\n",
       "      <td>...</td>\n",
       "      <td>...</td>\n",
       "      <td>...</td>\n",
       "      <td>...</td>\n",
       "      <td>...</td>\n",
       "      <td>...</td>\n",
       "      <td>...</td>\n",
       "      <td>...</td>\n",
       "      <td>...</td>\n",
       "      <td>...</td>\n",
       "      <td>...</td>\n",
       "      <td>...</td>\n",
       "      <td>...</td>\n",
       "      <td>...</td>\n",
       "    </tr>\n",
       "    <tr>\n",
       "      <th>4235</th>\n",
       "      <td>TQUMNORTQHLMNUCDEIJAH00780261</td>\n",
       "      <td>2022</td>\n",
       "      <td>1</td>\n",
       "      <td>1</td>\n",
       "      <td>6</td>\n",
       "      <td>0</td>\n",
       "      <td>1</td>\n",
       "      <td>S</td>\n",
       "      <td>33</td>\n",
       "      <td>2031</td>\n",
       "      <td>...</td>\n",
       "      <td>32257.14</td>\n",
       "      <td>5</td>\n",
       "      <td>NaN</td>\n",
       "      <td>5</td>\n",
       "      <td>5.0</td>\n",
       "      <td>NaN</td>\n",
       "      <td>5</td>\n",
       "      <td>4308</td>\n",
       "      <td>0.60</td>\n",
       "      <td>5.64</td>\n",
       "    </tr>\n",
       "    <tr>\n",
       "      <th>4236</th>\n",
       "      <td>TQUMNORTQHLMNUCDEIJAH00780261</td>\n",
       "      <td>2022</td>\n",
       "      <td>1</td>\n",
       "      <td>1</td>\n",
       "      <td>2</td>\n",
       "      <td>1</td>\n",
       "      <td>1</td>\n",
       "      <td>S</td>\n",
       "      <td>33</td>\n",
       "      <td>2031</td>\n",
       "      <td>...</td>\n",
       "      <td>32257.14</td>\n",
       "      <td>5</td>\n",
       "      <td>NaN</td>\n",
       "      <td>5</td>\n",
       "      <td>5.0</td>\n",
       "      <td>NaN</td>\n",
       "      <td>5</td>\n",
       "      <td>4308</td>\n",
       "      <td>1.02</td>\n",
       "      <td>5.64</td>\n",
       "    </tr>\n",
       "    <tr>\n",
       "      <th>4237</th>\n",
       "      <td>TQUMNORTQHLMNUCDEIJAH00780261</td>\n",
       "      <td>2022</td>\n",
       "      <td>1</td>\n",
       "      <td>1</td>\n",
       "      <td>1</td>\n",
       "      <td>1</td>\n",
       "      <td>1</td>\n",
       "      <td>S</td>\n",
       "      <td>33</td>\n",
       "      <td>2031</td>\n",
       "      <td>...</td>\n",
       "      <td>32257.14</td>\n",
       "      <td>5</td>\n",
       "      <td>NaN</td>\n",
       "      <td>5</td>\n",
       "      <td>5.0</td>\n",
       "      <td>NaN</td>\n",
       "      <td>5</td>\n",
       "      <td>4308</td>\n",
       "      <td>0.77</td>\n",
       "      <td>5.64</td>\n",
       "    </tr>\n",
       "    <tr>\n",
       "      <th>4238</th>\n",
       "      <td>TQUMNORTQHLMNUCDEIJAH00780261</td>\n",
       "      <td>2022</td>\n",
       "      <td>1</td>\n",
       "      <td>1</td>\n",
       "      <td>5</td>\n",
       "      <td>1</td>\n",
       "      <td>1</td>\n",
       "      <td>S</td>\n",
       "      <td>33</td>\n",
       "      <td>2031</td>\n",
       "      <td>...</td>\n",
       "      <td>32257.14</td>\n",
       "      <td>5</td>\n",
       "      <td>NaN</td>\n",
       "      <td>5</td>\n",
       "      <td>5.0</td>\n",
       "      <td>NaN</td>\n",
       "      <td>5</td>\n",
       "      <td>4308</td>\n",
       "      <td>0.82</td>\n",
       "      <td>5.64</td>\n",
       "    </tr>\n",
       "    <tr>\n",
       "      <th>4232</th>\n",
       "      <td>TQUMNORTQHLMNUCDEIJAH00780261</td>\n",
       "      <td>2022</td>\n",
       "      <td>1</td>\n",
       "      <td>1</td>\n",
       "      <td>3</td>\n",
       "      <td>1</td>\n",
       "      <td>1</td>\n",
       "      <td>S</td>\n",
       "      <td>33</td>\n",
       "      <td>2031</td>\n",
       "      <td>...</td>\n",
       "      <td>32257.14</td>\n",
       "      <td>5</td>\n",
       "      <td>NaN</td>\n",
       "      <td>5</td>\n",
       "      <td>5.0</td>\n",
       "      <td>NaN</td>\n",
       "      <td>5</td>\n",
       "      <td>4308</td>\n",
       "      <td>1.02</td>\n",
       "      <td>5.64</td>\n",
       "    </tr>\n",
       "  </tbody>\n",
       "</table>\n",
       "<p>5992 rows × 179 columns</p>\n",
       "</div>"
      ],
      "text/plain": [
       "                             CODUSU  ANO4  TRIMESTRE  NRO_HOGAR  COMPONENTE  \\\n",
       "4273  TQRMNOPPQHJMNRCDEIJAH00693035  2022          1          1           1   \n",
       "4275  TQRMNOPPQHJMNRCDEIJAH00693035  2022          1          1           3   \n",
       "4276  TQRMNOPPQHJMNRCDEIJAH00693035  2022          1          1           4   \n",
       "4274  TQRMNOPPQHJMNRCDEIJAH00693035  2022          1          1           2   \n",
       "5368  TQRMNOPPQHJMQLCDEIJAH00702455  2022          1          1           1   \n",
       "...                             ...   ...        ...        ...         ...   \n",
       "4235  TQUMNORTQHLMNUCDEIJAH00780261  2022          1          1           6   \n",
       "4236  TQUMNORTQHLMNUCDEIJAH00780261  2022          1          1           2   \n",
       "4237  TQUMNORTQHLMNUCDEIJAH00780261  2022          1          1           1   \n",
       "4238  TQUMNORTQHLMNUCDEIJAH00780261  2022          1          1           5   \n",
       "4232  TQUMNORTQHLMNUCDEIJAH00780261  2022          1          1           3   \n",
       "\n",
       "      H15  REGION MAS_500  AGLOMERADO  PONDERA  ...      IPCF  DECCFR IDECCFR  \\\n",
       "4273    1       1       S          33     1427  ...  26000.00       4     NaN   \n",
       "4275    0       1       S          33     1427  ...  26000.00       4     NaN   \n",
       "4276    0       1       S          33     1427  ...  26000.00       4     NaN   \n",
       "4274    1       1       S          33     1427  ...  26000.00       4     NaN   \n",
       "5368    1       1       S          33     2054  ...  55000.00       8     NaN   \n",
       "...   ...     ...     ...         ...      ...  ...       ...     ...     ...   \n",
       "4235    0       1       S          33     2031  ...  32257.14       5     NaN   \n",
       "4236    1       1       S          33     2031  ...  32257.14       5     NaN   \n",
       "4237    1       1       S          33     2031  ...  32257.14       5     NaN   \n",
       "4238    1       1       S          33     2031  ...  32257.14       5     NaN   \n",
       "4232    1       1       S          33     2031  ...  32257.14       5     NaN   \n",
       "\n",
       "     RDECCFR  GDECCFR  PDECCFR  ADECCFR  PONDIH  adulto_equiv  ad_equiv_hogar  \n",
       "4273       4      4.0      NaN        4    2359          1.02            2.88  \n",
       "4275       4      4.0      NaN        4    2359          0.64            2.88  \n",
       "4276       4      4.0      NaN        4    2359          0.46            2.88  \n",
       "4274       4      4.0      NaN        4    2359          0.76            2.88  \n",
       "5368       7      8.0      NaN        8    3275          0.67            1.67  \n",
       "...      ...      ...      ...      ...     ...           ...             ...  \n",
       "4235       5      5.0      NaN        5    4308          0.60            5.64  \n",
       "4236       5      5.0      NaN        5    4308          1.02            5.64  \n",
       "4237       5      5.0      NaN        5    4308          0.77            5.64  \n",
       "4238       5      5.0      NaN        5    4308          0.82            5.64  \n",
       "4232       5      5.0      NaN        5    4308          1.02            5.64  \n",
       "\n",
       "[5992 rows x 179 columns]"
      ]
     },
     "execution_count": 37,
     "metadata": {},
     "output_type": "execute_result"
    }
   ],
   "source": [
    "df_sum=df_merge.groupby(['CODUSU', 'NRO_HOGAR'])[['adulto_equiv']].agg('sum')\n",
    "df_sum.reset_index( inplace = True )\n",
    "df_sum = df_sum.rename(columns={'adulto_equiv':'ad_equiv_hogar'})\n",
    "\n",
    "df_merge_1=df_merge.merge(df_sum, on=[\"CODUSU\", \"NRO_HOGAR\"])\n",
    "df_merge_1.sort_values(by=\"CODUSU\")\n",
    "\n",
    "#El data frame relevante ahora es df_merge_1\n"
   ]
  },
  {
   "cell_type": "markdown",
   "metadata": {},
   "source": [
    "EJERCICIO 3: Cuantos no respondieron ingreso"
   ]
  },
  {
   "cell_type": "code",
   "execution_count": 38,
   "metadata": {},
   "outputs": [
    {
     "name": "stdout",
     "output_type": "stream",
     "text": [
      "No respondieron ingreso 2250 personas de 5992\n",
      "2250\n"
     ]
    }
   ],
   "source": [
    "#Contamos cuando no respondieron\n",
    "no_resp=0\n",
    "for elem in df_merge_1[\"ITF\"]:\n",
    "    if elem==0:\n",
    "        no_resp=no_resp+1\n",
    "print(\"No respondieron ingreso\", no_resp, \"personas\", \"de\", len(df_merge_1))\n",
    "\n",
    "#Guardamos las obs que respondieron en el df 'df_respondieron':\n",
    "df_respondieron = df_merge_1.drop(df_merge_1[df_merge_1['ITF']<=0].index)\n",
    "df_respondieron.reset_index(inplace=True, drop=True)\n",
    "\n",
    "##Guardamos las obs que no respondieron en el df 'df_norespondieron':\n",
    "df_norespondieron= df_merge_1.drop(df_merge_1[df_merge_1['ITF']>0].index) \n",
    "df_norespondieron.reset_index( inplace = True )\n",
    "print(len(df_norespondieron)) #chequeamos que la cantidad de obs sea igual a no_resp\n",
    "\n"
   ]
  },
  {
   "cell_type": "markdown",
   "metadata": {},
   "source": [
    "EJERCICO 4: agregamos la variable 'ingreso_necesario' que establece la LP para cada individuo"
   ]
  },
  {
   "cell_type": "code",
   "execution_count": 39,
   "metadata": {},
   "outputs": [],
   "source": [
    "df_respondieron[\"ingreso_necesario\"]=df_respondieron[\"ad_equiv_hogar\"]*(27197.64) #$27197.64 es la CBA"
   ]
  },
  {
   "cell_type": "markdown",
   "metadata": {},
   "source": [
    "EJERCICIO 5: agregamos la variable 'Pobre' "
   ]
  },
  {
   "cell_type": "code",
   "execution_count": 40,
   "metadata": {},
   "outputs": [
    {
     "name": "stdout",
     "output_type": "stream",
     "text": [
      "La cantidad de pobres en la muestra que respondio es de: 278 de 3742\n",
      "La tasa pobreza en la muestra es de los que respondieron es de: 7.43 %\n"
     ]
    }
   ],
   "source": [
    "df_respondieron[\"Pobre\"]=0\n",
    "\n",
    "for i in range(len(df_respondieron)):\n",
    "    if df_respondieron.loc[i,\"ingreso_necesario\"] < 27197.64 :\n",
    "        df_respondieron.loc[i,\"Pobre\"]= 1\n",
    "\n",
    "pobres=0\n",
    "for elem in df_respondieron[\"Pobre\"]:\n",
    "    if elem==1:\n",
    "        pobres=pobres+1\n",
    "\n",
    "tasa_pobreza=pobres/len(df_respondieron)\n",
    "\n",
    "print(\"La cantidad de pobres en la muestra que respondio es de:\", pobres, \"de\", len(df_respondieron))\n",
    "print(\"La tasa pobreza en la muestra es de los que respondieron es de:\", round(tasa_pobreza*100,2), \"%\")\n",
    "\n",
    "\n",
    "\n"
   ]
  },
  {
   "cell_type": "markdown",
   "metadata": {},
   "source": [
    "PARTE II: Clasificación"
   ]
  },
  {
   "cell_type": "markdown",
   "metadata": {},
   "source": [
    "EJERCICIO 1: Eliminamos la variables de ingreso de las dos bases de datos"
   ]
  },
  {
   "cell_type": "code",
   "execution_count": 41,
   "metadata": {},
   "outputs": [],
   "source": [
    "#Recordemos que tenemos 2 data base relevantes: df_respondieron y df_norespondieron\n",
    "#Pasamos a float la variable MAS_500 que es de tipo String:\n",
    "for i in range(len(df_respondieron)):\n",
    "    if df_respondieron.loc[i,\"MAS_500\"] == \"S\" :\n",
    "        df_respondieron.loc[i,\"MAS_500\"]= 1\n",
    "    elif df_respondieron.loc[i,\"MAS_500\"] == \"N\":\n",
    "        df_respondieron.loc[i,\"MAS_500\"]=0 \n",
    "\n",
    "for i in range(len(df_norespondieron)):\n",
    "    if df_norespondieron.loc[i,\"MAS_500\"] == \"S\" :\n",
    "        df_norespondieron.loc[i,\"MAS_500\"]= 1\n",
    "    elif df_norespondieron.loc[i,\"MAS_500\"] == \"N\":\n",
    "        df_norespondieron.loc[i,\"MAS_500\"]=0 \n",
    "        \n"
   ]
  },
  {
   "cell_type": "code",
   "execution_count": 42,
   "metadata": {},
   "outputs": [],
   "source": [
    "#Eliminamos las variables de \"Ingreso total familiar\"\n",
    "df_respondieron.drop ([\"ITF\",\"DECIFR\",\"IDECIFR\",\"RDECIFR\",\"GDECIFR\", \"PDECIFR\",\"ADECIFR\"] ,axis =1, inplace = True)\n",
    "df_norespondieron.drop ([\"ITF\",\"DECIFR\",\"IDECIFR\",\"RDECIFR\",\"GDECIFR\", \"PDECIFR\",\"ADECIFR\"] ,axis =1,  inplace = True)\n",
    "\n"
   ]
  },
  {
   "cell_type": "code",
   "execution_count": 43,
   "metadata": {},
   "outputs": [],
   "source": [
    "\n",
    "#Eliminamos las variables de \"Ingreso per capita familiar\"\n",
    "df_respondieron.drop ([ \"IPCF\", \"DECCFR\", \"IDECCFR\", \"RDECCFR\", \"GDECCFR\", \"PDECCFR\", \"ADECCFR\", \"PONDIH\"] , axis =1 , inplace = True)\n",
    "df_norespondieron.drop ([ \"IPCF\", \"DECCFR\", \"IDECCFR\", \"RDECCFR\", \"GDECCFR\", \"PDECCFR\", \"ADECCFR\", \"PONDIH\"] , axis =1 , inplace = True)\n"
   ]
  },
  {
   "cell_type": "code",
   "execution_count": 44,
   "metadata": {},
   "outputs": [],
   "source": [
    "\n",
    "#Eliminamos las variables de \"Ingresos de la ocupación principal de los trabajadores independientes\"\n",
    "df_respondieron.drop ([ \"PP06A\", \"PP06C\", \"PP06D\", \"PP06E\", \"PP06H\"] , axis =1 , inplace = True)\n",
    "df_norespondieron.drop ([ \"PP06A\", \"PP06C\", \"PP06D\", \"PP06E\", \"PP06H\"] , axis =1 , inplace = True)\n"
   ]
  },
  {
   "cell_type": "code",
   "execution_count": 45,
   "metadata": {},
   "outputs": [],
   "source": [
    "\n",
    "#Eliminamos las variables de \"Ingresos de la ocupación principal de los asalariados\"\n",
    "df_respondieron.drop ([ \"PP08D1\", \"PP08D4\", \"PP08F1\", \"PP08F2\", \"PP08J1\", \"PP08J2\", \"PP08J3\"] , axis =1 , inplace = True)\n",
    "df_norespondieron.drop ([ \"PP08D1\", \"PP08D4\", \"PP08F1\", \"PP08F2\", \"PP08J1\", \"PP08J2\", \"PP08J3\"] , axis =1 , inplace = True)\n"
   ]
  },
  {
   "cell_type": "code",
   "execution_count": 46,
   "metadata": {},
   "outputs": [],
   "source": [
    "\n",
    "#Eliminamos las variables de \"Ingresos de la ocupación principal\"\n",
    "df_respondieron.drop ([ \"P21\", \"DECOCUR\", \"IDECOCUR\", \"RDECOCUR\", \"GDECOCUR\", \"PDECOCUR\", \"ADECOCUR\", \"PONDIIO\"] , axis =1 , inplace = True)\n",
    "df_norespondieron.drop ([ \"P21\", \"DECOCUR\", \"IDECOCUR\", \"RDECOCUR\", \"GDECOCUR\", \"PDECOCUR\", \"ADECOCUR\", \"PONDIIO\"] , axis =1 , inplace = True)\n",
    "\n"
   ]
  },
  {
   "cell_type": "code",
   "execution_count": 47,
   "metadata": {},
   "outputs": [],
   "source": [
    "\n",
    "#Eliminamos las variables de \"Ingreso de otras ocupaciones\"\n",
    "df_respondieron.drop ([ \"TOT_P12\"] , axis =1 , inplace = True)\n",
    "df_norespondieron.drop ([ \"TOT_P12\"] , axis =1 , inplace = True)\n"
   ]
  },
  {
   "cell_type": "code",
   "execution_count": 48,
   "metadata": {},
   "outputs": [],
   "source": [
    "\n",
    "#Eliminamos las variables de \"Ingreso total individual\"\n",
    "df_respondieron.drop ([\"P47T\", \"DECINDR\", \"IDECINDR\", \"RDECINDR\", \"GDECINDR\", \"PDECINDR\", \"ADECINDR\", \"PONDII\"] , axis =1 , inplace = True)\n",
    "df_norespondieron.drop ([\"P47T\", \"DECINDR\", \"IDECINDR\", \"RDECINDR\", \"GDECINDR\", \"PDECINDR\", \"ADECINDR\", \"PONDII\"] , axis =1 , inplace = True)\n"
   ]
  },
  {
   "cell_type": "code",
   "execution_count": 49,
   "metadata": {},
   "outputs": [],
   "source": [
    "\n",
    "#Eliminamos las variables de \"Ingresos no laborales\"\n",
    "df_respondieron.drop ([ \"V2_M\", \"V3_M\", \"V4_M\", \"V5_M\", \"V8_M\", \"V9_M\", \"V10_M\", \"V11_M\", \"V12_M\", \"V18_M\", \"V19_AM\", \"V21_M\", \"T_VI\"] , axis =1 , inplace = True)\n",
    "df_norespondieron.drop ([ \"V2_M\", \"V3_M\", \"V4_M\", \"V5_M\", \"V8_M\", \"V9_M\", \"V10_M\", \"V11_M\", \"V12_M\", \"V18_M\", \"V19_AM\", \"V21_M\", \"T_VI\"] , axis =1 , inplace = True)\n"
   ]
  },
  {
   "cell_type": "code",
   "execution_count": 50,
   "metadata": {},
   "outputs": [],
   "source": [
    "\n",
    "#Eliminamos las variables adulto_equiv, ad_equiv_hogar e ingreso_necesario:\n",
    "df_respondieron.drop ([\"adulto_equiv\", \"ad_equiv_hogar\",  \"ingreso_necesario\"] , axis =1 , inplace = True)\n",
    "df_norespondieron.drop ([\"adulto_equiv\", \"ad_equiv_hogar\"] , axis =1 , inplace = True)\n",
    "\n"
   ]
  },
  {
   "cell_type": "markdown",
   "metadata": {},
   "source": [
    "EJERCICIO 2: Dividimos la base en Test y Train"
   ]
  },
  {
   "cell_type": "code",
   "execution_count": 51,
   "metadata": {},
   "outputs": [],
   "source": [
    "#Importamos bibliotecas necesarias \n",
    "from sklearn import datasets\n",
    "from sklearn.linear_model import LogisticRegression\n",
    "from sklearn.model_selection import train_test_split\n",
    "from sklearn.metrics import confusion_matrix\n",
    "from sklearn.metrics import accuracy_score \n",
    "from sklearn.metrics import roc_curve\n",
    "from sklearn.metrics import roc_auc_score\n",
    "from sklearn.metrics import RocCurveDisplay\n",
    "from sklearn.metrics import plot_roc_curve\n",
    "from sklearn.discriminant_analysis import LinearDiscriminantAnalysis\n",
    "from sklearn.discriminant_analysis import LinearDiscriminantAnalysis\n",
    "from sklearn.discriminant_analysis import QuadraticDiscriminantAnalysis\n",
    "from sklearn.neighbors import KNeighborsClassifier\n",
    "from scipy.special import expit\n"
   ]
  },
  {
   "cell_type": "code",
   "execution_count": 52,
   "metadata": {},
   "outputs": [
    {
     "name": "stdout",
     "output_type": "stream",
     "text": [
      "La base X Test corresponde al 30 % de los datos\n",
      "La base X Train corresponde al 70 % de los datos\n",
      "La base y Test corresponde al 30 % de los datos\n",
      "La base y Train corresponde al 70 % de los datos\n"
     ]
    }
   ],
   "source": [
    "\n",
    "X_train, X_test, y_train, y_test = train_test_split(df_respondieron.loc[:, df_respondieron.columns!=\"Pobre\" ], df_respondieron[\"Pobre\"],test_size=0.3, random_state=101)\n",
    "\n",
    "print(\"La base X Test corresponde al\",round(len(X_test)/len(df_respondieron)*100), \"% de los datos\") #Vemos que test es el 30% de la muestra \n",
    "print(\"La base X Train corresponde al\", round(len(X_train)/len(df_respondieron)*100),  \"% de los datos\") #Vemos que test es el 70% de la muestra \n",
    "print(\"La base y Test corresponde al\",round(len(y_test)/len(df_respondieron)*100), \"% de los datos\") #Vemos que test es el 30% de la muestra \n",
    "print(\"La base y Train corresponde al\", round(len(y_train)/len(df_respondieron)*100),  \"% de los datos\") #Vemos que test es el 70% de la muestra \n",
    "\n",
    "#Agregamos una columna de 1 a la base X_train:\n",
    "X_train[\"intercept\"]=1\n",
    "X_test[\"intercept\"]=1\n"
   ]
  },
  {
   "cell_type": "code",
   "execution_count": 91,
   "metadata": {},
   "outputs": [
    {
     "ename": "KeyError",
     "evalue": "\"['CODUSU' 'CH05' 'PP09A_ESP'] not found in axis\"",
     "output_type": "error",
     "traceback": [
      "\u001b[1;31m---------------------------------------------------------------------------\u001b[0m",
      "\u001b[1;31mKeyError\u001b[0m                                  Traceback (most recent call last)",
      "\u001b[1;32m~\\AppData\\Local\\Temp/ipykernel_10780/890020550.py\u001b[0m in \u001b[0;36m<module>\u001b[1;34m\u001b[0m\n\u001b[0;32m      1\u001b[0m \u001b[1;31m#Eliminamos la varible CODUSU y CH05 (fecha de nacimiento) de las bases ya que son variables que no están en formato numérico y no son relevantes:\u001b[0m\u001b[1;33m\u001b[0m\u001b[1;33m\u001b[0m\u001b[0m\n\u001b[1;32m----> 2\u001b[1;33m \u001b[0mX_test\u001b[0m\u001b[1;33m.\u001b[0m\u001b[0mdrop\u001b[0m \u001b[1;33m(\u001b[0m\u001b[1;33m[\u001b[0m\u001b[1;34m\"CODUSU\"\u001b[0m\u001b[1;33m,\u001b[0m \u001b[1;34m\"CH05\"\u001b[0m\u001b[1;33m,\u001b[0m \u001b[1;34m\"PP09A_ESP\"\u001b[0m\u001b[1;33m]\u001b[0m \u001b[1;33m,\u001b[0m \u001b[0maxis\u001b[0m \u001b[1;33m=\u001b[0m\u001b[1;36m1\u001b[0m \u001b[1;33m,\u001b[0m \u001b[0minplace\u001b[0m \u001b[1;33m=\u001b[0m \u001b[1;32mTrue\u001b[0m\u001b[1;33m)\u001b[0m\u001b[1;33m\u001b[0m\u001b[1;33m\u001b[0m\u001b[0m\n\u001b[0m\u001b[0;32m      3\u001b[0m \u001b[0mX_train\u001b[0m\u001b[1;33m.\u001b[0m\u001b[0mdrop\u001b[0m \u001b[1;33m(\u001b[0m\u001b[1;33m[\u001b[0m\u001b[1;34m\"CODUSU\"\u001b[0m\u001b[1;33m,\u001b[0m \u001b[1;34m\"CH05\"\u001b[0m\u001b[1;33m,\u001b[0m \u001b[1;34m\"PP09A_ESP\"\u001b[0m\u001b[1;33m]\u001b[0m \u001b[1;33m,\u001b[0m \u001b[0maxis\u001b[0m \u001b[1;33m=\u001b[0m\u001b[1;36m1\u001b[0m \u001b[1;33m,\u001b[0m \u001b[0minplace\u001b[0m \u001b[1;33m=\u001b[0m \u001b[1;32mTrue\u001b[0m\u001b[1;33m)\u001b[0m\u001b[1;33m\u001b[0m\u001b[1;33m\u001b[0m\u001b[0m\n\u001b[0;32m      4\u001b[0m \u001b[0mdf_norespondieron\u001b[0m\u001b[1;33m.\u001b[0m\u001b[0mdrop\u001b[0m \u001b[1;33m(\u001b[0m\u001b[1;33m[\u001b[0m\u001b[1;34m\"CODUSU\"\u001b[0m\u001b[1;33m,\u001b[0m \u001b[1;34m\"CH05\"\u001b[0m\u001b[1;33m,\u001b[0m \u001b[1;34m\"PP09A_ESP\"\u001b[0m\u001b[1;33m]\u001b[0m \u001b[1;33m,\u001b[0m \u001b[0maxis\u001b[0m \u001b[1;33m=\u001b[0m\u001b[1;36m1\u001b[0m \u001b[1;33m,\u001b[0m \u001b[0minplace\u001b[0m \u001b[1;33m=\u001b[0m \u001b[1;32mTrue\u001b[0m\u001b[1;33m)\u001b[0m\u001b[1;33m\u001b[0m\u001b[1;33m\u001b[0m\u001b[0m\n\u001b[0;32m      5\u001b[0m \u001b[1;33m\u001b[0m\u001b[0m\n",
      "\u001b[1;32mc:\\Users\\Valentin\\anaconda3\\lib\\site-packages\\pandas\\util\\_decorators.py\u001b[0m in \u001b[0;36mwrapper\u001b[1;34m(*args, **kwargs)\u001b[0m\n\u001b[0;32m    309\u001b[0m                     \u001b[0mstacklevel\u001b[0m\u001b[1;33m=\u001b[0m\u001b[0mstacklevel\u001b[0m\u001b[1;33m,\u001b[0m\u001b[1;33m\u001b[0m\u001b[1;33m\u001b[0m\u001b[0m\n\u001b[0;32m    310\u001b[0m                 )\n\u001b[1;32m--> 311\u001b[1;33m             \u001b[1;32mreturn\u001b[0m \u001b[0mfunc\u001b[0m\u001b[1;33m(\u001b[0m\u001b[1;33m*\u001b[0m\u001b[0margs\u001b[0m\u001b[1;33m,\u001b[0m \u001b[1;33m**\u001b[0m\u001b[0mkwargs\u001b[0m\u001b[1;33m)\u001b[0m\u001b[1;33m\u001b[0m\u001b[1;33m\u001b[0m\u001b[0m\n\u001b[0m\u001b[0;32m    312\u001b[0m \u001b[1;33m\u001b[0m\u001b[0m\n\u001b[0;32m    313\u001b[0m         \u001b[1;32mreturn\u001b[0m \u001b[0mwrapper\u001b[0m\u001b[1;33m\u001b[0m\u001b[1;33m\u001b[0m\u001b[0m\n",
      "\u001b[1;32mc:\\Users\\Valentin\\anaconda3\\lib\\site-packages\\pandas\\core\\frame.py\u001b[0m in \u001b[0;36mdrop\u001b[1;34m(self, labels, axis, index, columns, level, inplace, errors)\u001b[0m\n\u001b[0;32m   4904\u001b[0m                 \u001b[0mweight\u001b[0m  \u001b[1;36m1.0\u001b[0m     \u001b[1;36m0.8\u001b[0m\u001b[1;33m\u001b[0m\u001b[1;33m\u001b[0m\u001b[0m\n\u001b[0;32m   4905\u001b[0m         \"\"\"\n\u001b[1;32m-> 4906\u001b[1;33m         return super().drop(\n\u001b[0m\u001b[0;32m   4907\u001b[0m             \u001b[0mlabels\u001b[0m\u001b[1;33m=\u001b[0m\u001b[0mlabels\u001b[0m\u001b[1;33m,\u001b[0m\u001b[1;33m\u001b[0m\u001b[1;33m\u001b[0m\u001b[0m\n\u001b[0;32m   4908\u001b[0m             \u001b[0maxis\u001b[0m\u001b[1;33m=\u001b[0m\u001b[0maxis\u001b[0m\u001b[1;33m,\u001b[0m\u001b[1;33m\u001b[0m\u001b[1;33m\u001b[0m\u001b[0m\n",
      "\u001b[1;32mc:\\Users\\Valentin\\anaconda3\\lib\\site-packages\\pandas\\core\\generic.py\u001b[0m in \u001b[0;36mdrop\u001b[1;34m(self, labels, axis, index, columns, level, inplace, errors)\u001b[0m\n\u001b[0;32m   4148\u001b[0m         \u001b[1;32mfor\u001b[0m \u001b[0maxis\u001b[0m\u001b[1;33m,\u001b[0m \u001b[0mlabels\u001b[0m \u001b[1;32min\u001b[0m \u001b[0maxes\u001b[0m\u001b[1;33m.\u001b[0m\u001b[0mitems\u001b[0m\u001b[1;33m(\u001b[0m\u001b[1;33m)\u001b[0m\u001b[1;33m:\u001b[0m\u001b[1;33m\u001b[0m\u001b[1;33m\u001b[0m\u001b[0m\n\u001b[0;32m   4149\u001b[0m             \u001b[1;32mif\u001b[0m \u001b[0mlabels\u001b[0m \u001b[1;32mis\u001b[0m \u001b[1;32mnot\u001b[0m \u001b[1;32mNone\u001b[0m\u001b[1;33m:\u001b[0m\u001b[1;33m\u001b[0m\u001b[1;33m\u001b[0m\u001b[0m\n\u001b[1;32m-> 4150\u001b[1;33m                 \u001b[0mobj\u001b[0m \u001b[1;33m=\u001b[0m \u001b[0mobj\u001b[0m\u001b[1;33m.\u001b[0m\u001b[0m_drop_axis\u001b[0m\u001b[1;33m(\u001b[0m\u001b[0mlabels\u001b[0m\u001b[1;33m,\u001b[0m \u001b[0maxis\u001b[0m\u001b[1;33m,\u001b[0m \u001b[0mlevel\u001b[0m\u001b[1;33m=\u001b[0m\u001b[0mlevel\u001b[0m\u001b[1;33m,\u001b[0m \u001b[0merrors\u001b[0m\u001b[1;33m=\u001b[0m\u001b[0merrors\u001b[0m\u001b[1;33m)\u001b[0m\u001b[1;33m\u001b[0m\u001b[1;33m\u001b[0m\u001b[0m\n\u001b[0m\u001b[0;32m   4151\u001b[0m \u001b[1;33m\u001b[0m\u001b[0m\n\u001b[0;32m   4152\u001b[0m         \u001b[1;32mif\u001b[0m \u001b[0minplace\u001b[0m\u001b[1;33m:\u001b[0m\u001b[1;33m\u001b[0m\u001b[1;33m\u001b[0m\u001b[0m\n",
      "\u001b[1;32mc:\\Users\\Valentin\\anaconda3\\lib\\site-packages\\pandas\\core\\generic.py\u001b[0m in \u001b[0;36m_drop_axis\u001b[1;34m(self, labels, axis, level, errors)\u001b[0m\n\u001b[0;32m   4183\u001b[0m                 \u001b[0mnew_axis\u001b[0m \u001b[1;33m=\u001b[0m \u001b[0maxis\u001b[0m\u001b[1;33m.\u001b[0m\u001b[0mdrop\u001b[0m\u001b[1;33m(\u001b[0m\u001b[0mlabels\u001b[0m\u001b[1;33m,\u001b[0m \u001b[0mlevel\u001b[0m\u001b[1;33m=\u001b[0m\u001b[0mlevel\u001b[0m\u001b[1;33m,\u001b[0m \u001b[0merrors\u001b[0m\u001b[1;33m=\u001b[0m\u001b[0merrors\u001b[0m\u001b[1;33m)\u001b[0m\u001b[1;33m\u001b[0m\u001b[1;33m\u001b[0m\u001b[0m\n\u001b[0;32m   4184\u001b[0m             \u001b[1;32melse\u001b[0m\u001b[1;33m:\u001b[0m\u001b[1;33m\u001b[0m\u001b[1;33m\u001b[0m\u001b[0m\n\u001b[1;32m-> 4185\u001b[1;33m                 \u001b[0mnew_axis\u001b[0m \u001b[1;33m=\u001b[0m \u001b[0maxis\u001b[0m\u001b[1;33m.\u001b[0m\u001b[0mdrop\u001b[0m\u001b[1;33m(\u001b[0m\u001b[0mlabels\u001b[0m\u001b[1;33m,\u001b[0m \u001b[0merrors\u001b[0m\u001b[1;33m=\u001b[0m\u001b[0merrors\u001b[0m\u001b[1;33m)\u001b[0m\u001b[1;33m\u001b[0m\u001b[1;33m\u001b[0m\u001b[0m\n\u001b[0m\u001b[0;32m   4186\u001b[0m             \u001b[0mresult\u001b[0m \u001b[1;33m=\u001b[0m \u001b[0mself\u001b[0m\u001b[1;33m.\u001b[0m\u001b[0mreindex\u001b[0m\u001b[1;33m(\u001b[0m\u001b[1;33m**\u001b[0m\u001b[1;33m{\u001b[0m\u001b[0maxis_name\u001b[0m\u001b[1;33m:\u001b[0m \u001b[0mnew_axis\u001b[0m\u001b[1;33m}\u001b[0m\u001b[1;33m)\u001b[0m\u001b[1;33m\u001b[0m\u001b[1;33m\u001b[0m\u001b[0m\n\u001b[0;32m   4187\u001b[0m \u001b[1;33m\u001b[0m\u001b[0m\n",
      "\u001b[1;32mc:\\Users\\Valentin\\anaconda3\\lib\\site-packages\\pandas\\core\\indexes\\base.py\u001b[0m in \u001b[0;36mdrop\u001b[1;34m(self, labels, errors)\u001b[0m\n\u001b[0;32m   6015\u001b[0m         \u001b[1;32mif\u001b[0m \u001b[0mmask\u001b[0m\u001b[1;33m.\u001b[0m\u001b[0many\u001b[0m\u001b[1;33m(\u001b[0m\u001b[1;33m)\u001b[0m\u001b[1;33m:\u001b[0m\u001b[1;33m\u001b[0m\u001b[1;33m\u001b[0m\u001b[0m\n\u001b[0;32m   6016\u001b[0m             \u001b[1;32mif\u001b[0m \u001b[0merrors\u001b[0m \u001b[1;33m!=\u001b[0m \u001b[1;34m\"ignore\"\u001b[0m\u001b[1;33m:\u001b[0m\u001b[1;33m\u001b[0m\u001b[1;33m\u001b[0m\u001b[0m\n\u001b[1;32m-> 6017\u001b[1;33m                 \u001b[1;32mraise\u001b[0m \u001b[0mKeyError\u001b[0m\u001b[1;33m(\u001b[0m\u001b[1;34mf\"{labels[mask]} not found in axis\"\u001b[0m\u001b[1;33m)\u001b[0m\u001b[1;33m\u001b[0m\u001b[1;33m\u001b[0m\u001b[0m\n\u001b[0m\u001b[0;32m   6018\u001b[0m             \u001b[0mindexer\u001b[0m \u001b[1;33m=\u001b[0m \u001b[0mindexer\u001b[0m\u001b[1;33m[\u001b[0m\u001b[1;33m~\u001b[0m\u001b[0mmask\u001b[0m\u001b[1;33m]\u001b[0m\u001b[1;33m\u001b[0m\u001b[1;33m\u001b[0m\u001b[0m\n\u001b[0;32m   6019\u001b[0m         \u001b[1;32mreturn\u001b[0m \u001b[0mself\u001b[0m\u001b[1;33m.\u001b[0m\u001b[0mdelete\u001b[0m\u001b[1;33m(\u001b[0m\u001b[0mindexer\u001b[0m\u001b[1;33m)\u001b[0m\u001b[1;33m\u001b[0m\u001b[1;33m\u001b[0m\u001b[0m\n",
      "\u001b[1;31mKeyError\u001b[0m: \"['CODUSU' 'CH05' 'PP09A_ESP'] not found in axis\""
     ]
    }
   ],
   "source": [
    "\n",
    "#Eliminamos la varible CODUSU y CH05 (fecha de nacimiento) de las bases ya que son variables que no están en formato numérico y no son relevantes:\n",
    "X_test.drop ([\"CODUSU\", \"CH05\", \"PP09A_ESP\"] , axis =1 , inplace = True)\n",
    "X_train.drop ([\"CODUSU\", \"CH05\", \"PP09A_ESP\"] , axis =1 , inplace = True)\n",
    "df_norespondieron.drop ([\"CODUSU\", \"CH05\", \"PP09A_ESP\"] , axis =1 , inplace = True)\n",
    "\n",
    "#Pasamos los valores Nan a 0 ya que esto no afecta la estimación ???!!!\n",
    "X_train = X_train.replace(np.nan,0)\n",
    "X_test = X_test.replace(np.nan,0)\n",
    "df_norespondieron = X_test.replace(np.nan,0)\n",
    "\n",
    "#Pasamos el vector y_test a tipo np array\n",
    "y_test=y_test.to_numpy()\n"
   ]
  },
  {
   "cell_type": "markdown",
   "metadata": {},
   "source": [
    "EJERCICIO 3"
   ]
  },
  {
   "cell_type": "markdown",
   "metadata": {},
   "source": [
    "##LOGIT"
   ]
  },
  {
   "cell_type": "code",
   "execution_count": 54,
   "metadata": {},
   "outputs": [
    {
     "name": "stderr",
     "output_type": "stream",
     "text": [
      "c:\\Users\\Valentin\\anaconda3\\lib\\site-packages\\sklearn\\linear_model\\_logistic.py:763: ConvergenceWarning: lbfgs failed to converge (status=1):\n",
      "STOP: TOTAL NO. of ITERATIONS REACHED LIMIT.\n",
      "\n",
      "Increase the number of iterations (max_iter) or scale the data as shown in:\n",
      "    https://scikit-learn.org/stable/modules/preprocessing.html\n",
      "Please also refer to the documentation for alternative solver options:\n",
      "    https://scikit-learn.org/stable/modules/linear_model.html#logistic-regression\n",
      "  n_iter_i = _check_optimize_result(\n"
     ]
    }
   ],
   "source": [
    "# Estimamo el modelo logit con las bases Train:\n",
    "log_reg = LogisticRegression().fit(X_train, y_train)\n",
    "\n",
    "#Creamos el vector de predicciones (basado en la regla de bayes)\n",
    "y_pred_log = log_reg.predict(X_test)"
   ]
  },
  {
   "cell_type": "markdown",
   "metadata": {},
   "source": [
    "#Metricas de la predicción del Logit:"
   ]
  },
  {
   "cell_type": "markdown",
   "metadata": {},
   "source": [
    "Matriz de confusión:"
   ]
  },
  {
   "cell_type": "code",
   "execution_count": 55,
   "metadata": {},
   "outputs": [],
   "source": [
    "#y_test=y_test.to_numpy()"
   ]
  },
  {
   "cell_type": "code",
   "execution_count": 56,
   "metadata": {},
   "outputs": [
    {
     "name": "stdout",
     "output_type": "stream",
     "text": [
      "Confusion Matrix :\n",
      "[[1030    2]\n",
      " [  90    1]]\n"
     ]
    },
    {
     "data": {
      "text/plain": [
       "[Text(0, 0.5, 'False'), Text(0, 1.5, 'True')]"
      ]
     },
     "execution_count": 56,
     "metadata": {},
     "output_type": "execute_result"
    },
    {
     "data": {
      "image/png": "[encoded data removed]",
      "text/plain": [
       "<Figure size 432x288 with 2 Axes>"
      ]
     },
     "metadata": {
      "needs_background": "light"
     },
     "output_type": "display_data"
    }
   ],
   "source": [
    "matriz_confusion_log = confusion_matrix(y_test, y_pred_log)\n",
    "\n",
    "print('Confusion Matrix :')\n",
    "print(matriz_confusion_log)\n",
    "\n",
    "#Plot de la Matriz\n",
    "group_names = ['True Neg','False Pos','False Neg','True Pos']\n",
    "\n",
    "group_counts = [\"{0:0.0f}\".format(value) for value in\n",
    "                matriz_confusion_log.flatten()]\n",
    "\n",
    "group_percentages = [\"{0:.2%}\".format(value) for value in\n",
    "                     matriz_confusion_log.flatten()/np.sum(matriz_confusion_log)]\n",
    "\n",
    "labels = [f\"{v1}\\n{v2}\\n{v3}\" for v1, v2, v3 in\n",
    "          zip(group_names,group_counts,group_percentages)]\n",
    "\n",
    "labels = np.asarray(labels).reshape(2,2)\n",
    "\n",
    "ax = sns.heatmap(matriz_confusion_log, annot=labels, fmt='', cmap='Blues')\n",
    "\n",
    "ax.set_title('Confusion Matrix of Logit Model\\n\\n');\n",
    "ax.set_xlabel('\\nPredicted Values')\n",
    "ax.set_ylabel('Actual Values ');\n",
    "ax.xaxis.set_ticklabels(['False','True'])\n",
    "ax.yaxis.set_ticklabels(['False','True'])\n",
    "#La matriz de confusión tiene en las filas los valores ciertos y en las columnas los valores predichos"
   ]
  },
  {
   "cell_type": "markdown",
   "metadata": {},
   "source": [
    "Accuracy Score:"
   ]
  },
  {
   "cell_type": "code",
   "execution_count": 83,
   "metadata": {},
   "outputs": [
    {
     "name": "stdout",
     "output_type": "stream",
     "text": [
      "Accuracy Score : 0.918\n"
     ]
    }
   ],
   "source": [
    "ac_log= accuracy_score(y_test, y_pred_log)\n",
    "print('Accuracy Score :','%.3f' % ac_log) #suma de los % de la diagonal de la matriz "
   ]
  },
  {
   "cell_type": "markdown",
   "metadata": {},
   "source": [
    "AUC y ROC"
   ]
  },
  {
   "cell_type": "code",
   "execution_count": 58,
   "metadata": {},
   "outputs": [
    {
     "name": "stdout",
     "output_type": "stream",
     "text": [
      "AUC Logit: 0.50\n"
     ]
    },
    {
     "data": {
      "image/png": "[encoded data removed]",
      "text/plain": [
       "<Figure size 432x288 with 1 Axes>"
      ]
     },
     "metadata": {
      "needs_background": "light"
     },
     "output_type": "display_data"
    }
   ],
   "source": [
    "auc_log = roc_auc_score(y_test, y_pred_log)\n",
    "print('AUC Logit: %.2f' % auc_log)\n",
    "\n",
    "fpr_log, tpr_log, thresholds_log = roc_curve(y_test, y_pred_log)\n",
    "\n",
    "display = RocCurveDisplay(fpr=fpr_log, tpr=tpr_log, roc_auc=auc_log, estimator_name='Reg_log')\n",
    "display.plot()  \n",
    "plt.plot([0, 1], [0, 1], color='red', linestyle='--')\n",
    "plt.show() \n",
    "\n",
    "#Vemos que el clasificador tiene el mismo desempeño que un clasificador aleatorio."
   ]
  },
  {
   "cell_type": "markdown",
   "metadata": {},
   "source": [
    "##ANÁLISIS DE DISCRIMINANTE LINEAL"
   ]
  },
  {
   "cell_type": "code",
   "execution_count": 61,
   "metadata": {},
   "outputs": [],
   "source": [
    "lda = LinearDiscriminantAnalysis(n_components=1)\n",
    "lda = lda.fit(X_train, y_train)"
   ]
  },
  {
   "cell_type": "code",
   "execution_count": 62,
   "metadata": {},
   "outputs": [],
   "source": [
    "# Predecimos con el modelo de Análisis discriminante lineal sobre las X test\n",
    "y_pred_lda = lda.predict(X_test) "
   ]
  },
  {
   "cell_type": "markdown",
   "metadata": {},
   "source": [
    "#Metricas de la predicción de LDA:"
   ]
  },
  {
   "cell_type": "markdown",
   "metadata": {},
   "source": [
    "Matriz de confusión:"
   ]
  },
  {
   "cell_type": "code",
   "execution_count": 76,
   "metadata": {},
   "outputs": [
    {
     "name": "stdout",
     "output_type": "stream",
     "text": [
      "Confusion Matrix :\n",
      "[[1009   23]\n",
      " [  44   47]]\n"
     ]
    },
    {
     "data": {
      "text/plain": [
       "[Text(0, 0.5, 'False'), Text(0, 1.5, 'True')]"
      ]
     },
     "execution_count": 76,
     "metadata": {},
     "output_type": "execute_result"
    },
    {
     "data": {
      "image/png": "[encoded data removed]",
      "text/plain": [
       "<Figure size 432x288 with 2 Axes>"
      ]
     },
     "metadata": {
      "needs_background": "light"
     },
     "output_type": "display_data"
    }
   ],
   "source": [
    "matriz_confusion_lda = confusion_matrix(y_test, y_pred_lda)\n",
    "\n",
    "print('Confusion Matrix :')\n",
    "print(matriz_confusion_lda)\n",
    "\n",
    "#Plot de la Matriz\n",
    "group_names = ['True Neg','False Pos','False Neg','True Pos']\n",
    "\n",
    "group_counts = [\"{0:0.0f}\".format(value) for value in\n",
    "                matriz_confusion_lda.flatten()]\n",
    "\n",
    "group_percentages = [\"{0:.2%}\".format(value) for value in\n",
    "                     matriz_confusion_lda.flatten()/np.sum(matriz_confusion_lda)]\n",
    "\n",
    "labels = [f\"{v1}\\n{v2}\\n{v3}\" for v1, v2, v3 in\n",
    "          zip(group_names,group_counts,group_percentages)]\n",
    "\n",
    "labels = np.asarray(labels).reshape(2,2)\n",
    "\n",
    "ax = sns.heatmap(matriz_confusion_lda, annot=labels, fmt='', cmap='Blues')\n",
    "\n",
    "ax.set_title('Confusion Matrix of LDA Model\\n\\n');\n",
    "ax.set_xlabel('\\nPredicted Values')\n",
    "ax.set_ylabel('Actual Values ');\n",
    "ax.xaxis.set_ticklabels(['False','True'])\n",
    "ax.yaxis.set_ticklabels(['False','True'])"
   ]
  },
  {
   "cell_type": "markdown",
   "metadata": {},
   "source": [
    "Accuracy Score:"
   ]
  },
  {
   "cell_type": "code",
   "execution_count": 86,
   "metadata": {},
   "outputs": [
    {
     "name": "stdout",
     "output_type": "stream",
     "text": [
      "\n",
      " Accuracy Score LDA: 0.940\n"
     ]
    }
   ],
   "source": [
    "ac_lda= accuracy_score(y_test, y_pred_lda)\n",
    "print('\\n','Accuracy Score LDA:','%.3f' % ac_lda) "
   ]
  },
  {
   "cell_type": "markdown",
   "metadata": {},
   "source": [
    "AUC y ROC"
   ]
  },
  {
   "cell_type": "code",
   "execution_count": 87,
   "metadata": {},
   "outputs": [
    {
     "name": "stdout",
     "output_type": "stream",
     "text": [
      "\n",
      " AUC Linear discriminant analysis: 0.75 \n",
      "\n"
     ]
    },
    {
     "data": {
      "image/png": "[encoded data removed]",
      "text/plain": [
       "<Figure size 432x288 with 1 Axes>"
      ]
     },
     "metadata": {
      "needs_background": "light"
     },
     "output_type": "display_data"
    }
   ],
   "source": [
    "auc_lda = roc_auc_score(y_test, y_pred_lda)\n",
    "print('\\n','AUC Linear discriminant analysis:', '%.2f' % auc_lda,'\\n')\n",
    "\n",
    "fpr_lda, tpr_lda, thresholds_lda = roc_curve(y_test, y_pred_lda)\n",
    "\n",
    "display = RocCurveDisplay(fpr=fpr_lda, tpr=tpr_lda, roc_auc=auc_lda, estimator_name='LDA')\n",
    "display.plot()  \n",
    "plt.plot([0, 1], [0, 1], color='red', linestyle='--')\n",
    "plt.show() "
   ]
  },
  {
   "cell_type": "markdown",
   "metadata": {},
   "source": [
    "##KNN"
   ]
  },
  {
   "cell_type": "code",
   "execution_count": 77,
   "metadata": {},
   "outputs": [
    {
     "data": {
      "text/plain": [
       "KNeighborsClassifier(n_neighbors=3)"
      ]
     },
     "execution_count": 77,
     "metadata": {},
     "output_type": "execute_result"
    }
   ],
   "source": [
    "knn = KNeighborsClassifier(n_neighbors=3)\n",
    "knn.fit(X_train, y_train)\n"
   ]
  },
  {
   "cell_type": "code",
   "execution_count": 78,
   "metadata": {},
   "outputs": [],
   "source": [
    "# Predecimos con el modelo KNN sobre las X test\n",
    "y_pred_knn = knn.predict(X_test)\n"
   ]
  },
  {
   "cell_type": "markdown",
   "metadata": {},
   "source": [
    "#Metricas de la predicción de KNN:"
   ]
  },
  {
   "cell_type": "markdown",
   "metadata": {},
   "source": [
    "Matriz de confusión:"
   ]
  },
  {
   "cell_type": "code",
   "execution_count": 79,
   "metadata": {},
   "outputs": [
    {
     "name": "stdout",
     "output_type": "stream",
     "text": [
      "Confusion Matrix :\n",
      "[[1002   30]\n",
      " [  79   12]]\n"
     ]
    },
    {
     "data": {
      "text/plain": [
       "[Text(0, 0.5, 'False'), Text(0, 1.5, 'True')]"
      ]
     },
     "execution_count": 79,
     "metadata": {},
     "output_type": "execute_result"
    },
    {
     "data": {
      "image/png": "[encoded data removed]",
      "text/plain": [
       "<Figure size 432x288 with 2 Axes>"
      ]
     },
     "metadata": {
      "needs_background": "light"
     },
     "output_type": "display_data"
    }
   ],
   "source": [
    "matriz_confusion_knn = confusion_matrix(y_test, y_pred_knn)\n",
    "\n",
    "print('Confusion Matrix :')\n",
    "print(matriz_confusion_knn)\n",
    "\n",
    "#Plot de la Matriz\n",
    "group_names = ['True Neg','False Pos','False Neg','True Pos']\n",
    "\n",
    "group_counts = [\"{0:0.0f}\".format(value) for value in\n",
    "                matriz_confusion_knn.flatten()]\n",
    "\n",
    "group_percentages = [\"{0:.2%}\".format(value) for value in\n",
    "                     matriz_confusion_knn.flatten()/np.sum(matriz_confusion_knn)]\n",
    "\n",
    "labels = [f\"{v1}\\n{v2}\\n{v3}\" for v1, v2, v3 in\n",
    "          zip(group_names,group_counts,group_percentages)]\n",
    "\n",
    "labels = np.asarray(labels).reshape(2,2)\n",
    "\n",
    "ax = sns.heatmap(matriz_confusion_knn, annot=labels, fmt='', cmap='Blues')\n",
    "\n",
    "ax.set_title('Confusion Matrix of KNN\\n\\n');\n",
    "ax.set_xlabel('\\nPredicted Values')\n",
    "ax.set_ylabel('Actual Values ');\n",
    "ax.xaxis.set_ticklabels(['False','True'])\n",
    "ax.yaxis.set_ticklabels(['False','True'])"
   ]
  },
  {
   "cell_type": "markdown",
   "metadata": {},
   "source": [
    "Accuracy Score:"
   ]
  },
  {
   "cell_type": "code",
   "execution_count": 88,
   "metadata": {},
   "outputs": [
    {
     "name": "stdout",
     "output_type": "stream",
     "text": [
      "\n",
      " La precisión del modelo KNN: 0.903\n"
     ]
    }
   ],
   "source": [
    "ac_knn = accuracy_score(y_test, y_pred_knn)\n",
    "print('\\n',\"La precisión del modelo KNN: %.3f\" %ac_knn)     \n"
   ]
  },
  {
   "cell_type": "markdown",
   "metadata": {},
   "source": [
    "AUC y ROC"
   ]
  },
  {
   "cell_type": "code",
   "execution_count": 89,
   "metadata": {},
   "outputs": [
    {
     "name": "stdout",
     "output_type": "stream",
     "text": [
      "\n",
      " AUC KNN: 0.55 \n",
      "\n"
     ]
    },
    {
     "data": {
      "image/png": "[encoded data removed]",
      "text/plain": [
       "<Figure size 432x288 with 1 Axes>"
      ]
     },
     "metadata": {
      "needs_background": "light"
     },
     "output_type": "display_data"
    }
   ],
   "source": [
    "auc_knn = roc_auc_score(y_test, y_pred_knn)\n",
    "print('\\n','AUC KNN:', '%.2f' % auc_knn,'\\n')\n",
    "\n",
    "fpr_knn, tpr_knn, thresholds_knn = roc_curve(y_test, y_pred_knn)\n",
    "\n",
    "display = RocCurveDisplay(fpr=fpr_knn, tpr=tpr_knn, roc_auc=auc_knn, estimator_name='KNN')\n",
    "display.plot()  \n",
    "plt.plot([0, 1], [0, 1], color='red', linestyle='--')\n",
    "plt.show() "
   ]
  },
  {
   "cell_type": "markdown",
   "metadata": {},
   "source": [
    "Basado en las metricas el mejor modelo es LDA.\n",
    "\n",
    "A continuación aplicamos este modelo para predecir \"pobreza\" en la base en la que los indivisuos no respondieron ingresos."
   ]
  },
  {
   "cell_type": "code",
   "execution_count": 95,
   "metadata": {},
   "outputs": [],
   "source": [
    "# Predecimos con el modelo LDA sobre la base df_norespondieron:\n",
    "y_pred_nr = lda.predict(df_norespondieron) \n"
   ]
  },
  {
   "cell_type": "code",
   "execution_count": 98,
   "metadata": {},
   "outputs": [
    {
     "name": "stdout",
     "output_type": "stream",
     "text": [
      "\n",
      " La cantidad de pobres predicha en la muestra que no respondio es de: 70 de 1123 \n",
      "\n",
      "La tasa pobreza predicha en la muestra es de los que no respondieron es de: 6.23 %\n"
     ]
    }
   ],
   "source": [
    "#Contamos la cantidad de pobres predicha\n",
    "\n",
    "pobres_nr=np.sum(y_pred_nr)\n",
    "tasa_pobreza_nr=np.sum(y_pred_nr)/len(y_pred_nr)\n",
    "\n",
    "\n",
    "print('\\n',\"La cantidad de pobres predicha en la muestra que no respondio es de:\", pobres_nr, \"de\", len(y_pred_nr),'\\n')\n",
    "print(\"La tasa pobreza predicha en la muestra es de los que no respondieron es de:\", round(tasa_pobreza_nr*100,2), \"%\")\n",
    "\n",
    "\n"
   ]
  }
 ],
 "metadata": {
  "kernelspec": {
   "display_name": "Python 3.9.7 ('base')",
   "language": "python",
   "name": "python3"
  },
  "language_info": {
   "codemirror_mode": {
    "name": "ipython",
    "version": 3
   },
   "file_extension": ".py",
   "mimetype": "text/x-python",
   "name": "python",
   "nbconvert_exporter": "python",
   "pygments_lexer": "ipython3",
   "version": "3.9.7"
  },
  "orig_nbformat": 4,
  "vscode": {
   "interpreter": {
    "hash": "8bffcb00b7ac34bf829d2aec2cc2dc2ffd9f66546b23bd1c848b28266b45973a"
   }
  }
 },
 "nbformat": 4,
 "nbformat_minor": 2
}
