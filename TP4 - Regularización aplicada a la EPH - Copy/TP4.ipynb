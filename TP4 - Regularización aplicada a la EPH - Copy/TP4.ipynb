{
 "cells": [
  {
   "cell_type": "markdown",
   "id": "28d78ab3",
   "metadata": {},
   "source": [
    "# Botón Para Esconder Código"
   ]
  },
  {
   "cell_type": "code",
   "execution_count": 1,
   "id": "8b83b4fe",
   "metadata": {},
   "outputs": [
    {
     "data": {
      "text/html": [
       "<script>\n",
       "code_show=true; \n",
       "function code_toggle() {\n",
       " if (code_show){\n",
       " $('div.input').hide();\n",
       " } else {\n",
       " $('div.input').show();\n",
       " }\n",
       " code_show = !code_show\n",
       "} \n",
       "$( document ).ready(code_toggle);\n",
       "</script>\n",
       "<form action=\"javascript:code_toggle()\"><input type=\"submit\" value=\"Aprete aqui para visualizar/esconder bloques de codigo.\"></form>"
      ],
      "text/plain": [
       "<IPython.core.display.HTML object>"
      ]
     },
     "execution_count": 1,
     "metadata": {},
     "output_type": "execute_result"
    }
   ],
   "source": [
    "#Sacado de https://mljar.com/blog/jupyter-notebook-hide-code/\n",
    "from IPython.display import HTML\n",
    "\n",
    "HTML('''<script>\n",
    "code_show=true; \n",
    "function code_toggle() {\n",
    " if (code_show){\n",
    " $('div.input').hide();\n",
    " } else {\n",
    " $('div.input').show();\n",
    " }\n",
    " code_show = !code_show\n",
    "} \n",
    "$( document ).ready(code_toggle);\n",
    "</script>\n",
    "<form action=\"javascript:code_toggle()\"><input type=\"submit\" value=\"Aprete aqui para visualizar/esconder bloques de codigo.\"></form>''')"
   ]
  },
  {
   "cell_type": "markdown",
   "id": "8b31a811",
   "metadata": {},
   "source": [
    "## Libraries y Display"
   ]
  },
  {
   "cell_type": "code",
   "execution_count": 2,
   "id": "c493fd39",
   "metadata": {},
   "outputs": [],
   "source": [
    "import pandas as pd\n",
    "import numpy as np\n",
    "import os\n",
    "from sklearn.model_selection import train_test_split\n",
    "import matplotlib.pyplot as plt\n",
    "import seaborn as sns\n",
    "from sklearn.metrics import confusion_matrix\n",
    "from sklearn.metrics import accuracy_score\n",
    "from sklearn.metrics import roc_auc_score\n",
    "from sklearn.metrics import roc_curve\n",
    "from sklearn.metrics import mean_squared_error\n",
    "from sklearn.preprocessing import StandardScaler\n",
    "from sklearn.linear_model import LogisticRegression\n",
    "from sklearn.discriminant_analysis import LinearDiscriminantAnalysis\n",
    "from sklearn.neighbors import KNeighborsClassifier\n",
    "from sklearn.model_selection import KFold\n",
    "import statistics\n",
    "\n",
    "pd.set_option('display.max_columns', None)\n",
    "pd.set_option('display.max_rows', None)"
   ]
  },
  {
   "cell_type": "markdown",
   "id": "d299638d",
   "metadata": {},
   "source": [
    "# Parte I: Análisis de la base de hogares y cálculo de pobreza"
   ]
  },
  {
   "cell_type": "markdown",
   "id": "13a5e8d5",
   "metadata": {},
   "source": [
    "1)  Abrimos la base de datos de la EPH y nos quedamos con los observaciones de GBA."
   ]
  },
  {
   "cell_type": "code",
   "execution_count": 3,
   "id": "0df0ea16",
   "metadata": {},
   "outputs": [],
   "source": [
    "#Abrimos la base\n",
    "hogar = pd.read_excel('./EPH_usu_1er_Trim_2022_xlsx/usu_hogar_T122.xlsx')\n",
    "\n",
    "#Eliminamos todos los aglomerados que no correspondan a CABA (cód 32) o GBA (cód 33)\n",
    "hogar_cortado = hogar.query(\"AGLOMERADO in (32, 33)\") # la manera mas rapida y facil de hacerlo\n"
   ]
  },
  {
   "cell_type": "markdown",
   "id": "a0c136c0",
   "metadata": {},
   "source": [
    "2) Unimos encuesta individual y encuesta hogar (en base a CODUDU y NRO HOGAR)"
   ]
  },
  {
   "cell_type": "code",
   "execution_count": 4,
   "id": "7be4cd57",
   "metadata": {
    "scrolled": true
   },
   "outputs": [],
   "source": [
    "#Importamos tabla individual \n",
    "#Abrimos la base\n",
    "individual = pd.read_excel('./EPH_usu_1er_Trim_2022_xlsx/usu_individual_T122.xlsx')\n",
    "\n",
    "#Eliminamos todos los aglomerados que no correspondan a CABA (cód 32) o GBA (cód 33)\n",
    "individual_cortado = individual.query(\"AGLOMERADO in (32, 33)\") # la manera mas rapida y facil de hacerlo\n"
   ]
  },
  {
   "cell_type": "code",
   "execution_count": 5,
   "id": "52f481d6",
   "metadata": {},
   "outputs": [],
   "source": [
    "#Mergeamos ambos DF\n",
    "eph = individual_cortado.merge(hogar_cortado,how='left',on=['CODUSU', 'NRO_HOGAR'], suffixes=('', '_y'))\n",
    "\n",
    "#notamos que hay columnas repetidas\n",
    "eph['ITF'].equals(eph['ITF_y'])\n",
    "\n",
    "#Borramos las que tengan sufijo  _y\n",
    "eph.drop(eph.filter(regex='_y$').columns, axis=1, inplace=True)\n",
    "\n"
   ]
  },
  {
   "cell_type": "markdown",
   "id": "7949ce90",
   "metadata": {},
   "source": [
    "<span style='background :yellow' > Está bien, otra forma de solucionar el tema de las repetidas es hacer lo siguiente:"
   ]
  },
  {
   "cell_type": "code",
   "execution_count": 6,
   "id": "cf7c4331",
   "metadata": {},
   "outputs": [],
   "source": [
    "# Definimos las intersección entre las dos bases como una lista\n",
    "columnas_duplicadas = set(individual_cortado.columns).intersection(set(hogar_cortado.columns))\n",
    "# Removemos CODUSU y NRO_HOGAR de la lista ya que queremos usarlas para la intersección (y las columnas sobre las que se une\n",
    "# no generan duplicados)\n",
    "columnas_duplicadas.remove(\"CODUSU\")\n",
    "columnas_duplicadas.remove(\"NRO_HOGAR\")\n",
    "\n",
    "# Hacemos el merge habiendo dropeado las columnas repetidas\n",
    "eph = pd.merge(\n",
    "    individual_cortado.drop(columnas_duplicadas, axis=1), \n",
    "    hogar_cortado,\n",
    "    on= ['NRO_HOGAR', 'CODUSU']\n",
    ")"
   ]
  },
  {
   "cell_type": "markdown",
   "id": "bd4fe945",
   "metadata": {},
   "source": [
    "3) \n",
    "- A continuación, listamos las funciones y procediientos que usamos para limpiar la base:\n",
    "\n",
    "- Para eliminar aquellas observaciones relacionadas a ingreso que sea negativo, utilizaremos el metodo .loc, combinando con el prefijo ~ para expresar que queremos localizar aquellas que no sean negativas en algun punto.\n",
    "-  Eliminamos duplicados con .drop_duplicates\n",
    "- Con .isnull, .dropna y .shape eliminamos aquellas columnas que tengan mas de un porcentaje de NAs.\n",
    "- Armando un interquantile range score eliminamos outliers que en cierto rango.\n",
    "- Para Boxplots, seaborn y matplotlib.\n",
    "- Con .dtypes nos fijamos el tipo de las variables restantes.\n",
    "- Categoricas reemplazamos NaN por metodos .fillna, .isnull, .add_categories.\n",
    "- Continuas relacionadas a ingreso con NAs, asumimos que la no respuesta es un 0 en caso de que no venga ya asi la base.\n",
    "- Eliminaremos outliers utilizando interquantile range scores para detectarlos y eliminarlos.\n"
   ]
  },
  {
   "cell_type": "code",
   "execution_count": 7,
   "id": "99c78f32",
   "metadata": {
    "scrolled": true
   },
   "outputs": [],
   "source": [
    "#Eliminamos aquellas que tengan ingreso o edad negativa\n",
    "eph = eph.loc[~(\n",
    "(eph['CH06']<0) | \n",
    "(eph['PP08D1']<0) | \n",
    "(eph['PP08D4']<0) |\n",
    "(eph['PP08F1']<0) |\n",
    "(eph['PP08F2']<0) |\n",
    "(eph['PP08J1']<0) |\n",
    "(eph['PP08J2']<0) |\n",
    "(eph['PP08J3']<0) |\n",
    "(eph['ITF']<0) |\n",
    "(eph['IPCF']<0) )]"
   ]
  },
  {
   "cell_type": "code",
   "execution_count": 8,
   "id": "a7973a12",
   "metadata": {
    "scrolled": true
   },
   "outputs": [],
   "source": [
    "#Chequeamos si hay duplicados y los dropeamos\n",
    "eph = eph.drop_duplicates()\n",
    "#no hay duplicados, cool!"
   ]
  },
  {
   "cell_type": "code",
   "execution_count": 9,
   "id": "f1d8f843",
   "metadata": {},
   "outputs": [],
   "source": [
    "#Cheque columnas con muchos NAs, si tiene mas de 70% los vamos a  borrar \n",
    "#Notese quiebre de NAs en 96% y 81%, no es tan arbitrario el 70%\n",
    "percent_missing = eph.isnull().sum() * 100 / len(eph)\n",
    "missing_value_eph = pd.DataFrame({'Columna': eph.columns,\n",
    "                                 'Porcentaje de NAs': percent_missing})\n",
    "missing_value_eph.sort_values('Porcentaje de NAs', inplace=True,ascending=False)\n"
   ]
  },
  {
   "cell_type": "code",
   "execution_count": 10,
   "id": "3908a2e0",
   "metadata": {
    "scrolled": true
   },
   "outputs": [],
   "source": [
    "#Borramos mas de 80%\n",
    "perc = 70.0\n",
    "min_count =  int(((100-perc)/100)*eph.shape[0] + 1)\n",
    "eph = eph.dropna( axis=1, \n",
    "                thresh=min_count)\n",
    "#chequeamos haber borrado lo que queriamos\n",
    "percent_missing = eph.isnull().sum() * 100 / len(eph)\n",
    "missing_value_eph = pd.DataFrame({'Columna': eph.columns,\n",
    "                                 'Porcentaje de NAs': percent_missing})\n",
    "missing_value_eph.sort_values('Porcentaje de NAs', inplace=True,ascending=False)\n"
   ]
  },
  {
   "cell_type": "code",
   "execution_count": 11,
   "id": "ffcc33f8",
   "metadata": {
    "scrolled": false
   },
   "outputs": [],
   "source": [
    "#Outliers: Nos quedaremos con los valores de ingreso entre los cuantiles\n",
    "#siguiendo el metodo de interquantile range score propuesto en https://www.pluralsight.com/guides/cleaning-up-data-from-outliers\n",
    "\n",
    "variables_para_outliers=[\n",
    "'PP08D1','PP08D4','PP08F1','PP08F2','PP08J1','PP08J2','PP08J3','ITF','IPCF',\n",
    "'P21', 'TOT_P12', 'P47T'\n",
    "]\n"
   ]
  },
  {
   "cell_type": "code",
   "execution_count": 12,
   "id": "d2273732",
   "metadata": {},
   "outputs": [
    {
     "data": {
      "text/plain": [
       "<AxesSubplot:xlabel='variable', ylabel='value'>"
      ]
     },
     "execution_count": 12,
     "metadata": {},
     "output_type": "execute_result"
    },
    {
     "data": {
      "image/png": "[encoded data removed]",
      "text/plain": [
       "<Figure size 1170x827 with 1 Axes>"
      ]
     },
     "metadata": {},
     "output_type": "display_data"
    }
   ],
   "source": [
    "#Boxplots de variables que chequeamos outliers\n",
    "sns.set(rc={'figure.figsize':(11.7,8.27)})\n",
    "sns.boxplot(x=\"variable\", y=\"value\", data=pd.melt(eph[variables_para_outliers]))\n",
    "\n"
   ]
  },
  {
   "cell_type": "code",
   "execution_count": 13,
   "id": "2d531f79",
   "metadata": {
    "scrolled": true
   },
   "outputs": [
    {
     "name": "stdout",
     "output_type": "stream",
     "text": [
      "PP08D1     110000.0\n",
      "PP08D4          0.0\n",
      "PP08F1          0.0\n",
      "PP08F2          0.0\n",
      "PP08J1      13000.0\n",
      "PP08J2          0.0\n",
      "PP08J3          0.0\n",
      "ITF        203000.0\n",
      "IPCF        70800.0\n",
      "P21         80009.0\n",
      "TOT_P12         9.0\n",
      "P47T        95709.0\n",
      "dtype: float64\n",
      "No es sorpresa que sean 0 las que en graficos no tienen outliers faciles de observar a ojo. Notar que todas con outliers para arriba, no borramos los 0, mas en variables donde sean NO RESPONDE.\n"
     ]
    }
   ],
   "source": [
    "#Generamos Interquantile Ranges, con eso sacamos los que queden afuera\n",
    "#Asimetrico por ser ingreso una variable con lower bound pero no upper bound\n",
    "Qlow = eph[variables_para_outliers].quantile(0)\n",
    "Qhigh = eph[variables_para_outliers].quantile(0.90)\n",
    "IQR = Qhigh - Qlow\n",
    "print(IQR)\n",
    "eph_inc = eph[variables_para_outliers]\n",
    "eph_out = eph_inc[~((eph_inc < (Qlow - 1.5 * IQR)) |(eph_inc > (Qhigh + 1.5 * IQR))).any(axis=1)]\n",
    "indexes = eph_out.index.values.tolist() \n",
    "eph=eph.loc[indexes]\n",
    "print('No es sorpresa que sean 0 las que en graficos no tienen outliers faciles de observar a ojo. Notar que todas con outliers para arriba, no borramos los 0, mas en variables donde sean NO RESPONDE.')"
   ]
  },
  {
   "cell_type": "code",
   "execution_count": 14,
   "id": "b22f9418",
   "metadata": {},
   "outputs": [
    {
     "data": {
      "text/plain": [
       "0"
      ]
     },
     "execution_count": 14,
     "metadata": {},
     "output_type": "execute_result"
    }
   ],
   "source": [
    "eph['ITF'].min()"
   ]
  },
  {
   "cell_type": "code",
   "execution_count": 15,
   "id": "76c01db4",
   "metadata": {},
   "outputs": [
    {
     "name": "stdout",
     "output_type": "stream",
     "text": [
      "<class 'pandas.core.frame.DataFrame'>\n",
      "Int64Index: 5459 entries, 0 to 6705\n",
      "Data columns (total 198 columns):\n",
      " #    Column      Dtype  \n",
      "---   ------      -----  \n",
      " 0    CODUSU      object \n",
      " 1    NRO_HOGAR   int64  \n",
      " 2    COMPONENTE  int64  \n",
      " 3    H15         int64  \n",
      " 4    CH03        int64  \n",
      " 5    CH04        int64  \n",
      " 6    CH05        object \n",
      " 7    CH06        int64  \n",
      " 8    CH07        int64  \n",
      " 9    CH08        int64  \n",
      " 10   CH09        int64  \n",
      " 11   CH10        int64  \n",
      " 12   CH11        int64  \n",
      " 13   CH12        int64  \n",
      " 14   CH13        int64  \n",
      " 15   CH14        float64\n",
      " 16   CH15        int64  \n",
      " 17   CH16        int64  \n",
      " 18   NIVEL_ED    int64  \n",
      " 19   ESTADO      int64  \n",
      " 20   CAT_OCUP    int64  \n",
      " 21   CAT_INAC    int64  \n",
      " 22   PP02C1      int64  \n",
      " 23   PP02C2      int64  \n",
      " 24   PP02C3      int64  \n",
      " 25   PP02C4      int64  \n",
      " 26   PP02C5      int64  \n",
      " 27   PP02C6      int64  \n",
      " 28   PP02C7      int64  \n",
      " 29   PP02C8      int64  \n",
      " 30   PP02E       int64  \n",
      " 31   PP02H       int64  \n",
      " 32   PP02I       int64  \n",
      " 33   PP03C       float64\n",
      " 34   PP03D       float64\n",
      " 35   PP3E_TOT    float64\n",
      " 36   PP3F_TOT    float64\n",
      " 37   PP03G       float64\n",
      " 38   PP03H       float64\n",
      " 39   PP03I       float64\n",
      " 40   PP03J       float64\n",
      " 41   INTENSI     float64\n",
      " 42   PP04A       float64\n",
      " 43   PP04B_COD   float64\n",
      " 44   PP04B1      float64\n",
      " 45   PP04B2      float64\n",
      " 46   PP04B3_MES  float64\n",
      " 47   PP04B3_ANO  float64\n",
      " 48   PP04B3_DIA  float64\n",
      " 49   PP04C       float64\n",
      " 50   PP04C99     float64\n",
      " 51   PP04D_COD   float64\n",
      " 52   PP04G       float64\n",
      " 53   PP05B2_MES  float64\n",
      " 54   PP05B2_ANO  float64\n",
      " 55   PP05B2_DIA  float64\n",
      " 56   PP05C_1     float64\n",
      " 57   PP05C_2     float64\n",
      " 58   PP05C_3     float64\n",
      " 59   PP05E       float64\n",
      " 60   PP05F       float64\n",
      " 61   PP05H       float64\n",
      " 62   PP06A       float64\n",
      " 63   PP06C       float64\n",
      " 64   PP06D       float64\n",
      " 65   PP06E       float64\n",
      " 66   PP06H       float64\n",
      " 67   PP07A       float64\n",
      " 68   PP07C       float64\n",
      " 69   PP07D       float64\n",
      " 70   PP07E       float64\n",
      " 71   PP07F1      float64\n",
      " 72   PP07F2      float64\n",
      " 73   PP07F3      float64\n",
      " 74   PP07F4      float64\n",
      " 75   PP07F5      float64\n",
      " 76   PP07G1      float64\n",
      " 77   PP07G2      float64\n",
      " 78   PP07G3      float64\n",
      " 79   PP07G4      float64\n",
      " 80   PP07G_59    float64\n",
      " 81   PP07H       float64\n",
      " 82   PP07I       float64\n",
      " 83   PP07J       float64\n",
      " 84   PP07K       float64\n",
      " 85   PP08D1      float64\n",
      " 86   PP08D4      float64\n",
      " 87   PP08F1      float64\n",
      " 88   PP08F2      float64\n",
      " 89   PP08J1      float64\n",
      " 90   PP08J2      float64\n",
      " 91   PP08J3      float64\n",
      " 92   PP09A       float64\n",
      " 93   PP09B       float64\n",
      " 94   PP09C       float64\n",
      " 95   P21         int64  \n",
      " 96   DECOCUR     int64  \n",
      " 97   RDECOCUR    int64  \n",
      " 98   GDECOCUR    float64\n",
      " 99   ADECOCUR    int64  \n",
      " 100  PONDIIO     int64  \n",
      " 101  TOT_P12     int64  \n",
      " 102  P47T        float64\n",
      " 103  DECINDR     int64  \n",
      " 104  RDECINDR    int64  \n",
      " 105  GDECINDR    float64\n",
      " 106  ADECINDR    int64  \n",
      " 107  PONDII      int64  \n",
      " 108  V2_M        int64  \n",
      " 109  V3_M        int64  \n",
      " 110  V4_M        int64  \n",
      " 111  V5_M        int64  \n",
      " 112  V8_M        int64  \n",
      " 113  V9_M        int64  \n",
      " 114  V10_M       int64  \n",
      " 115  V11_M       int64  \n",
      " 116  V12_M       int64  \n",
      " 117  V18_M       int64  \n",
      " 118  V19_AM      int64  \n",
      " 119  V21_M       int64  \n",
      " 120  T_VI        int64  \n",
      " 121  ANO4        int64  \n",
      " 122  TRIMESTRE   int64  \n",
      " 123  REALIZADA   int64  \n",
      " 124  REGION      int64  \n",
      " 125  MAS_500     object \n",
      " 126  AGLOMERADO  int64  \n",
      " 127  PONDERA     int64  \n",
      " 128  IV1         int64  \n",
      " 129  IV2         int64  \n",
      " 130  IV3         int64  \n",
      " 131  IV4         int64  \n",
      " 132  IV5         int64  \n",
      " 133  IV6         int64  \n",
      " 134  IV7         int64  \n",
      " 135  IV8         int64  \n",
      " 136  IV9         int64  \n",
      " 137  IV10        int64  \n",
      " 138  IV11        int64  \n",
      " 139  IV12_1      int64  \n",
      " 140  IV12_2      int64  \n",
      " 141  IV12_3      int64  \n",
      " 142  II1         int64  \n",
      " 143  II2         int64  \n",
      " 144  II3         int64  \n",
      " 145  II3_1       int64  \n",
      " 146  II4_1       int64  \n",
      " 147  II4_2       int64  \n",
      " 148  II4_3       int64  \n",
      " 149  II5         int64  \n",
      " 150  II5_1       int64  \n",
      " 151  II6         int64  \n",
      " 152  II6_1       int64  \n",
      " 153  II7         int64  \n",
      " 154  II8         int64  \n",
      " 155  II9         int64  \n",
      " 156  V1          int64  \n",
      " 157  V2          int64  \n",
      " 158  V21         int64  \n",
      " 159  V22         int64  \n",
      " 160  V3          int64  \n",
      " 161  V4          int64  \n",
      " 162  V5          int64  \n",
      " 163  V6          int64  \n",
      " 164  V7          int64  \n",
      " 165  V8          int64  \n",
      " 166  V9          int64  \n",
      " 167  V10         int64  \n",
      " 168  V11         int64  \n",
      " 169  V12         int64  \n",
      " 170  V13         int64  \n",
      " 171  V14         int64  \n",
      " 172  V15         int64  \n",
      " 173  V16         int64  \n",
      " 174  V17         int64  \n",
      " 175  V18         int64  \n",
      " 176  V19_A       int64  \n",
      " 177  V19_B       int64  \n",
      " 178  IX_TOT      int64  \n",
      " 179  IX_MEN10    int64  \n",
      " 180  IX_MAYEQ10  int64  \n",
      " 181  ITF         int64  \n",
      " 182  DECIFR      int64  \n",
      " 183  RDECIFR     int64  \n",
      " 184  GDECIFR     float64\n",
      " 185  ADECIFR     int64  \n",
      " 186  IPCF        float64\n",
      " 187  DECCFR      int64  \n",
      " 188  RDECCFR     int64  \n",
      " 189  GDECCFR     float64\n",
      " 190  ADECCFR     int64  \n",
      " 191  PONDIH      int64  \n",
      " 192  VII1_1      int64  \n",
      " 193  VII1_2      int64  \n",
      " 194  VII2_1      int64  \n",
      " 195  VII2_2      int64  \n",
      " 196  VII2_3      int64  \n",
      " 197  VII2_4      int64  \n",
      "dtypes: float64(69), int64(126), object(3)\n",
      "memory usage: 8.3+ MB\n",
      "Son todas object, int64 o float64, visto en una tabla:\n"
     ]
    },
    {
     "data": {
      "text/plain": [
       "int64      126\n",
       "float64     69\n",
       "object       3\n",
       "dtype: int64"
      ]
     },
     "execution_count": 15,
     "metadata": {},
     "output_type": "execute_result"
    }
   ],
   "source": [
    "#Chequeamos tipo de las variable restantes\n",
    "eph.info(verbose=True)\n",
    "print(\"Son todas object, int64 o float64, visto en una tabla:\")\n",
    "eph.dtypes.value_counts()"
   ]
  },
  {
   "cell_type": "code",
   "execution_count": 17,
   "id": "9d05c114",
   "metadata": {
    "scrolled": true
   },
   "outputs": [],
   "source": [
    "#Definimos que variables no son categoricas\n",
    "categoricas = ['CH03', 'CH04', 'CH07', 'CH08', 'CH09', 'CH10', 'CH11', 'CH12', 'CH13', 'CH14', 'CH15', 'CH16', 'NIVEL_ED',\n",
    "               'ESTADO', 'CAT_OCUP', 'CAT_INAC', 'PP02C1', 'PP02C2', 'PP02C3', 'PP02C4', 'PP02C5', 'PP02C6', 'PP02C7', \n",
    "               'PP02C8', 'PP02E', 'PP02H', 'PP02I', 'PP03C', 'PP03G', 'PP03H', 'PP03I', 'PP03J', 'INTENSI', 'PP04A', \n",
    "               'PP04B1', 'PP04B3_MES', 'PP04B3_ANO', 'PP04B3_DIA', 'PP04C', 'PP04C99', 'PP04G', 'PP05B2_MES', 'PP05B2_ANO',\n",
    "               'PP05B2_DIA', 'PP05C_1', 'PP05C_2', 'PP05C_3', 'PP05E', 'PP05F', 'PP05H', 'PP06A', 'PP06E', 'PP06H', 'PP07A',\n",
    "               'PP07C', 'PP07D', 'PP07E', 'PP07F1', 'PP07F2', 'PP07F3', 'PP07F4', 'PP07F5', 'PP07G1', 'PP07G2', 'PP07G3', \n",
    "               'PP07G4', 'PP07G_59', 'PP07H', 'PP07I', 'PP07J', 'PP07K', 'PP09A', 'PP09B', 'PP09C', 'IV1', 'IV2', 'IV3', \n",
    "               'IV4', 'IV5', 'IV6', 'IV7', 'IV8', 'IV9', 'IV10', 'IV11', 'IV12_1', 'IV12_2', 'IV12_3', 'II1', 'II2', 'II3', \n",
    "               'II3_1', 'II4_1', 'II4_2', 'II4_3', 'II5', 'II5_1', 'II6', 'II6_1', 'II7', 'II8', 'II9', 'V1', 'V2', 'V21', \n",
    "               'V22', 'V3', 'V4', 'V5', 'V6', 'V7', 'V8', 'V9', 'V10', 'V11', 'V12', 'V13', 'V14', 'V15', 'V16', 'V17',\n",
    "               'V18', 'V19_A', 'V19_B', 'IX_TOT', 'IX_MEN10', 'IX_MAYEQ10', 'VII1_1', 'VII1_2', 'VII2_1', 'VII2_2',\n",
    "               'VII2_3', 'VII2_4']\n",
    "#Me fijo cuales fueron borradas mas arriba por tener muchos NAs\n",
    "no_borradas = pd.Index(categoricas).difference(eph.columns).tolist()\n",
    "#las saco\n",
    "categoricas = pd.Index(categoricas).difference(no_borradas).tolist()"
   ]
  },
  {
   "cell_type": "code",
   "execution_count": 18,
   "id": "9a0b96e0",
   "metadata": {
    "scrolled": false
   },
   "outputs": [],
   "source": [
    "#Las convertimos a categoricas\n",
    "eph_d=eph.copy()\n",
    "eph_d[categoricas] = eph_d[categoricas].astype('category')\n"
   ]
  },
  {
   "cell_type": "code",
   "execution_count": 19,
   "id": "a53b2359",
   "metadata": {},
   "outputs": [],
   "source": [
    "#Reemplazamos NAs de categoricas por -1\n",
    "for col in categoricas:\n",
    "    eph_d[col]=eph_d[col].cat.add_categories(['-1'])\n",
    "    eph_d[col]=eph_d[col].fillna('-1')\n"
   ]
  },
  {
   "cell_type": "code",
   "execution_count": 20,
   "id": "9619b40e",
   "metadata": {},
   "outputs": [],
   "source": [
    "columnas_llenar_con_ceros = eph.columns[eph.isnull().any()]\n",
    "eph[columnas_llenar_con_ceros]=eph[columnas_llenar_con_ceros].fillna(0)"
   ]
  },
  {
   "cell_type": "markdown",
   "id": "bc2d856b",
   "metadata": {},
   "source": [
    "PARA QUE ES eph_d ??????"
   ]
  },
  {
   "cell_type": "markdown",
   "id": "6f06458d",
   "metadata": {},
   "source": [
    "4) Creamos 2 nuevas variables:\n",
    " _hab= cociente entre miembros del hogar y cantidad de habitaciones\n",
    " _niños= proporción de niños menores a 10 años en el hogar"
   ]
  },
  {
   "cell_type": "code",
   "execution_count": 22,
   "id": "da41e2bc",
   "metadata": {},
   "outputs": [],
   "source": [
    "#Definimos hab\n",
    "eph[\"hab\"]=eph[\"IX_TOT\"]/eph[\"IV2\"]\n",
    "\n",
    "#Definimos niños\n",
    "eph[\"niños\"]=eph[\"IX_MEN10\"]/eph[\"IX_TOT\"]"
   ]
  },
  {
   "cell_type": "markdown",
   "id": "59452f9c",
   "metadata": {},
   "source": [
    "6) Elegimos como relevantes las variabes para predecir pobreza varias de las mencionadas en el punto 1, sumado a 'NIVEL_ED', asumiendo que menor nivel educativo se relaciona con mayor probabilidad de ser pobre. Las demas justificaciones son las mismas que en el primer inciso."
   ]
  },
  {
   "cell_type": "code",
   "execution_count": 24,
   "id": "599ecc39",
   "metadata": {
    "scrolled": true
   },
   "outputs": [
    {
     "name": "stdout",
     "output_type": "stream",
     "text": [
      "          NIVEL_ED           V5          II8     IX_MEN10          IV7\n",
      "count  5459.000000  5459.000000  5459.000000  5459.000000  5459.000000\n",
      "mean      3.645539     1.783477     1.316725     0.573731     1.231361\n",
      "std       1.788625     0.424184     0.572258     0.912945     0.434157\n",
      "min       1.000000     1.000000     0.000000     0.000000     1.000000\n",
      "25%       2.000000     2.000000     1.000000     0.000000     1.000000\n",
      "50%       4.000000     2.000000     1.000000     0.000000     1.000000\n",
      "75%       5.000000     2.000000     2.000000     1.000000     1.000000\n",
      "max       7.000000     9.000000     4.000000     5.000000     4.000000\n"
     ]
    }
   ],
   "source": [
    "#Estadisticas descriptivas \n",
    "listadeelegidas = ['NIVEL_ED','V5', 'II8', 'IX_MEN10', 'IV7' ]\n",
    "summary = eph[listadeelegidas].describe(include='all')\n",
    "print(summary)\n",
    "        "
   ]
  },
  {
   "cell_type": "markdown",
   "id": "cbcc3be8",
   "metadata": {},
   "source": [
    "<span style='background :yellow' >  En general, cuando las variables son categóricas, en lugar de `describe()` se usa `value_counts`, porque lo que nos interesa en estas variables es la proporción en los distintos valores. Además, se esperaba que comenten un poco sobre las estadísticas, o almenos comenten los distintos valores que toman. Por ejemplo, qué significa que IV7 tenga básicamente todos los valores en 1?"
   ]
  },
  {
   "cell_type": "markdown",
   "id": "4ae17e75",
   "metadata": {},
   "source": [
    "7. Agregamos la columna adulto_equiv y adulto_equiv_hogar"
   ]
  },
  {
   "cell_type": "code",
   "execution_count": 29,
   "id": "2ede18e2",
   "metadata": {},
   "outputs": [
    {
     "name": "stdout",
     "output_type": "stream",
     "text": [
      "      CH06  Mujeres  Varones\n",
      "0        0     0.35     0.35\n",
      "1        1     0.37     0.37\n",
      "2        2     0.46     0.46\n",
      "3        3     0.51     0.51\n",
      "4        4     0.55     0.55\n",
      "5        5     0.60     0.60\n",
      "6        6     0.64     0.64\n",
      "7        7     0.66     0.66\n",
      "8        8     0.68     0.68\n",
      "9        9     0.69     0.69\n",
      "10      10     0.70     0.79\n",
      "11      11     0.72     0.82\n",
      "12      12     0.74     0.85\n",
      "13      13     0.76     0.90\n",
      "14      14     0.76     0.96\n",
      "15      15     0.77     1.00\n",
      "16      16     0.77     1.03\n",
      "17      17     0.77     1.04\n",
      "18      18     0.76     1.02\n",
      "19      19     0.76     1.02\n",
      "20      20     0.76     1.02\n",
      "21      21     0.76     1.02\n",
      "22      22     0.76     1.02\n",
      "23    23.0     0.76     1.02\n",
      "24    24.0     0.76     1.02\n",
      "25    25.0     0.76     1.02\n",
      "26    26.0     0.76     1.02\n",
      "27    27.0     0.76     1.02\n",
      "28    28.0     0.76     1.02\n",
      "29    29.0     0.76     1.02\n",
      "30    30.0     0.77     1.00\n",
      "31    31.0     0.77     1.00\n",
      "32    32.0     0.77     1.00\n",
      "33    33.0     0.77     1.00\n",
      "34    34.0     0.77     1.00\n",
      "35    35.0     0.77     1.00\n",
      "36    36.0     0.77     1.00\n",
      "37    37.0     0.77     1.00\n",
      "38    38.0     0.77     1.00\n",
      "39    39.0     0.77     1.00\n",
      "40    40.0     0.77     1.00\n",
      "41    41.0     0.77     1.00\n",
      "42    42.0     0.77     1.00\n",
      "43    43.0     0.77     1.00\n",
      "44    44.0     0.77     1.00\n",
      "45    45.0     0.77     1.00\n",
      "46    46.0     0.76     1.00\n",
      "47    47.0     0.76     1.00\n",
      "48    48.0     0.76     1.00\n",
      "49    49.0     0.76     1.00\n",
      "50    50.0     0.76     1.00\n",
      "51    51.0     0.76     1.00\n",
      "52    52.0     0.76     1.00\n",
      "53    53.0     0.76     1.00\n",
      "54    54.0     0.76     1.00\n",
      "55    55.0     0.76     1.00\n",
      "56    56.0     0.76     1.00\n",
      "57    57.0     0.76     1.00\n",
      "58    58.0     0.76     1.00\n",
      "59    59.0     0.76     1.00\n",
      "60    60.0     0.76     1.00\n",
      "61    61.0     0.67     0.83\n",
      "62    62.0     0.67     0.83\n",
      "63    63.0     0.67     0.83\n",
      "64    64.0     0.67     0.83\n",
      "65    65.0     0.67     0.83\n",
      "66    66.0     0.67     0.83\n",
      "67    67.0     0.67     0.83\n",
      "68    68.0     0.67     0.83\n",
      "69    69.0     0.67     0.83\n",
      "70    70.0     0.67     0.83\n",
      "71    71.0     0.67     0.83\n",
      "72    72.0     0.67     0.83\n",
      "73    73.0     0.67     0.83\n",
      "74    74.0     0.67     0.83\n",
      "75    75.0     0.67     0.83\n",
      "76    76.0     0.63     0.74\n",
      "77    77.0     0.63     0.74\n",
      "78    78.0     0.63     0.74\n",
      "79    79.0     0.63     0.74\n",
      "80    80.0     0.63     0.74\n",
      "81    81.0     0.63     0.74\n",
      "82    82.0     0.63     0.74\n",
      "83    83.0     0.63     0.74\n",
      "84    84.0     0.63     0.74\n",
      "85    85.0     0.63     0.74\n",
      "86    86.0     0.63     0.74\n",
      "87    87.0     0.63     0.74\n",
      "88    88.0     0.63     0.74\n",
      "89    89.0     0.63     0.74\n",
      "90    90.0     0.63     0.74\n",
      "91    91.0     0.63     0.74\n",
      "92    92.0     0.63     0.74\n",
      "93    93.0     0.63     0.74\n",
      "94    94.0     0.63     0.74\n",
      "95    95.0     0.63     0.74\n",
      "96    96.0     0.63     0.74\n",
      "97    97.0     0.63     0.74\n",
      "98    98.0     0.63     0.74\n",
      "99    99.0     0.63     0.74\n",
      "100  100.0     0.63     0.74\n",
      "101  101.0     0.63     0.74\n",
      "102  102.0     0.63     0.74\n",
      "103  103.0     0.63     0.74\n",
      "104  104.0     0.63     0.74\n",
      "105  105.0     0.63     0.74\n"
     ]
    }
   ],
   "source": [
    "df_equiv = pd.read_excel('tabla_adulto_equiv.xlsx')\n",
    "\n",
    "df_equiv.loc[1,\"Edad\"]=1\n",
    "\n",
    "\n",
    "for i in range(0,18):\n",
    "    df_equiv.loc[i,\"Edad\"]= i \n",
    "\n",
    "for i in range(18,30): #18-29 años 0.76/1.02\n",
    "    df_equiv.loc[i]= [i,0.76,1.02] \n",
    "\n",
    "for i in range(30,46): #30-45 años 0.77/1\n",
    "    df_equiv.loc[i]= [i,0.77,1] \n",
    "\n",
    "for i in range(46,61): #46-60 años 0.76/1\n",
    "    df_equiv.loc[i]= [i,0.76,1] \n",
    "\n",
    "for i in range(61,76): #61-75 años 0.67/0.83\n",
    "    df_equiv.loc[i]= [i,0.67,0.83]\n",
    "\n",
    "for i in range(76,106): #18-29 años 0.63/0.74. La edad max en la EPH es 105 años. \n",
    "    df_equiv.loc[i]= [i,0.63,0.74] \n",
    "\n",
    "df_equiv = df_equiv.rename(columns={'Edad':'CH06'})\n",
    "print(df_equiv)"
   ]
  },
  {
   "cell_type": "code",
   "execution_count": 30,
   "id": "0b2dea3f",
   "metadata": {},
   "outputs": [],
   "source": [
    "df_eph= eph.merge(df_equiv, on='CH06')\n",
    "\n",
    "for i in range(len(df_eph)):\n",
    "    if df_eph.loc[i,\"CH04\"]==1:\n",
    "        df_eph.loc[i,\"adulto_equiv\"]=df_eph.loc[i,\"Varones\"]\n",
    "    elif df_eph.loc[i,\"CH04\"]==2:\n",
    "        df_eph.loc[i,\"adulto_equiv\"]=df_eph.loc[i,\"Mujeres\"]\n",
    "\n",
    "\n",
    "df_eph.drop ([\"Varones\",\"Mujeres\"] , axis =1 , inplace = True)"
   ]
  },
  {
   "cell_type": "code",
   "execution_count": 31,
   "id": "882adc69",
   "metadata": {},
   "outputs": [],
   "source": [
    "df_sum=df_eph.groupby(['CODUSU', 'NRO_HOGAR'])[['adulto_equiv']].agg('sum')\n",
    "df_sum.reset_index( inplace = True )\n",
    "df_sum = df_sum.rename(columns={'adulto_equiv':'ad_equiv_hogar'})\n",
    "\n",
    "df_eph=df_eph.merge(df_sum, on=[\"CODUSU\", \"NRO_HOGAR\"])\n",
    "df_eph=df_eph.sort_values(by=\"CODUSU\")\n",
    "\n",
    "#El data frame relevante ahora es df_eph\n"
   ]
  },
  {
   "cell_type": "markdown",
   "id": "d772063a",
   "metadata": {},
   "source": [
    "8. Dividimos la base en respondieron y no respondieron "
   ]
  },
  {
   "cell_type": "code",
   "execution_count": 32,
   "id": "98127498",
   "metadata": {},
   "outputs": [
    {
     "name": "stdout",
     "output_type": "stream",
     "text": [
      "2146\n"
     ]
    }
   ],
   "source": [
    "#Guardamos las obs que respondieron en el df 'df_respondieron':\n",
    "df_respondieron = df_eph.drop(df_eph[df_eph['ITF']<=0].index)\n",
    "df_respondieron.reset_index(inplace=True, drop=True)\n",
    "\n",
    "##Guardamos las obs que no respondieron en el df 'df_norespondieron':\n",
    "df_norespondieron= df_eph.drop(df_eph[df_eph['ITF']>0].index) \n",
    "df_norespondieron.reset_index( inplace = True )\n",
    "print(len(df_norespondieron)) #chequeamos que la cantidad de obs sea igual a no_resp"
   ]
  },
  {
   "cell_type": "markdown",
   "id": "94bca3e6",
   "metadata": {},
   "source": [
    "Agregamos la variable \"ingreso_necesario\""
   ]
  },
  {
   "cell_type": "code",
   "execution_count": 33,
   "id": "46ed7818",
   "metadata": {},
   "outputs": [],
   "source": [
    "df_respondieron[\"ingreso_necesario\"]=df_respondieron[\"ad_equiv_hogar\"]*(27197.64) #$27197.64 es la CBA\n"
   ]
  },
  {
   "cell_type": "markdown",
   "id": "2ac35ee8",
   "metadata": {},
   "source": [
    "9. Agregamos la variable \"pobre\""
   ]
  },
  {
   "cell_type": "code",
   "execution_count": 34,
   "id": "2c98b7a9",
   "metadata": {},
   "outputs": [],
   "source": [
    "df_respondieron[\"Pobre\"]=0\n",
    "\n",
    "for i in range(len(df_respondieron)):\n",
    "    if df_respondieron.loc[i,\"ITF\"] < df_respondieron.loc[i,\"ingreso_necesario\"] :\n",
    "        df_respondieron.loc[i,\"Pobre\"]= 1"
   ]
  },
  {
   "cell_type": "markdown",
   "id": "021f35b5",
   "metadata": {},
   "source": [
    "<span style='background :yellow' > Está bien, esto probablemente se vea mejor:"
   ]
  },
  {
   "cell_type": "code",
   "execution_count": null,
   "id": "0f53892e",
   "metadata": {},
   "outputs": [],
   "source": [
    "import numpy as np\n",
    "\n",
    "df_respondieron['Pobre'] = np.where(df_respondieron['ITF'] < df_respondieron['ingreso_necesario'], 1, 0)"
   ]
  },
  {
   "cell_type": "markdown",
   "id": "3612b094",
   "metadata": {},
   "source": [
    "10. Calculamos la tasa de hogares pobres para GBA, utilizando el ponderador PONDICH.\n"
   ]
  },
  {
   "cell_type": "code",
   "execution_count": 35,
   "id": "1a9bc2d8",
   "metadata": {},
   "outputs": [],
   "source": [
    "#Me quedo solo con GBA\n",
    "df_respondieron_GBA =df_respondieron[df_respondieron['REGION']==1]"
   ]
  },
  {
   "cell_type": "code",
   "execution_count": 39,
   "id": "9d820fde",
   "metadata": {
    "scrolled": true
   },
   "outputs": [
    {
     "name": "stdout",
     "output_type": "stream",
     "text": [
      "          PONDIH\n",
      "Pobre           \n",
      "0.0    62.907318\n",
      "1.0    37.092682\n"
     ]
    }
   ],
   "source": [
    "#Creamos base con solo una observacion por hogar\n",
    "eph_hogares=df_respondieron_GBA.groupby(['CODUSU','NRO_HOGAR']).agg({\"Pobre\" : \"mean\",\"PONDIH\" : \"sum\"})\n",
    "#Sumamos cuanto hay de cada uno. \n",
    "sumas=eph_hogares.groupby(\"Pobre\").PONDIH.sum().to_frame()\n",
    "eph_porcentajes = sumas.apply(lambda x:\n",
    "                                                 100 * x / float(x.sum()))\n",
    "print(eph_porcentajes)\n"
   ]
  },
  {
   "cell_type": "markdown",
   "id": "ef6b80a2",
   "metadata": {},
   "source": [
    "Notese que el porcentaje de pobres utilizando este metodo solo para REGION del GBA (distinto era si usabamos AGLOMERADO 33, partidos del GBA) es de 34.34%, mas de 4 p.p. por debajo del 39,2% reportado por INDEC considerando a nivel individual. "
   ]
  },
  {
   "cell_type": "markdown",
   "id": "d022fcd3",
   "metadata": {},
   "source": [
    "## PARTE II"
   ]
  },
  {
   "cell_type": "markdown",
   "id": "1698ce87",
   "metadata": {},
   "source": [
    "1) Definimos la función evalua_metodo. Qué toma como inputs las bases de train y test para X e Y y el modelo deseado (LogisticRegression, LinearDiscriminantAnalysis o KNeighborsClassifier) con su hiperparámetro. Y devuelve una colección de métricas del modelo que consiste en accuracy, auc y ecm."
   ]
  },
  {
   "cell_type": "code",
   "execution_count": 44,
   "id": "61d124e3",
   "metadata": {},
   "outputs": [],
   "source": [
    "def evalua_metodo(X_train, X_test, y_train, y_test, model, k=5, landa=1):\n",
    "    '''    \n",
    "    Toma como parametros las bases de train y test y el modelo deseado: LogisticRegression, LinearDiscriminantAnalysis,KNeighborsClassifier\n",
    "    Devuelve las métricas: Accuracy, AUC y ECM.\n",
    "    '''\n",
    "    if model==KNeighborsClassifier:\n",
    "        y = model(k).fit(X_train, y_train)\n",
    "    elif model== LogisticRegression:\n",
    "        y = model(C=1/landa).fit(X_train, y_train)\n",
    "    elif model== LinearDiscriminantAnalysis:\n",
    "        y = model().fit(X_train, y_train)\n",
    "    else:\n",
    "        y = model.fit(X_train, y_train)\n",
    "    \n",
    "    y_pred = y.predict(X_test)\n",
    "\n",
    "    matriz_confusion = confusion_matrix(y_test, y_pred)\n",
    "    auc = roc_auc_score(y_test, y_pred)\n",
    "    fpr, tpr, tresholds = roc_curve(y_test, y_pred)\n",
    "    accuracy = accuracy_score(y_test, y_pred)\n",
    "\n",
    "    ecm = mean_squared_error(y_test, y_pred)\n",
    "\n",
    "    df_metrics = pd.DataFrame({'modelo': [model], 'accuracy': [accuracy], 'auc':[auc], 'ecm':[ecm]})\n",
    "\n",
    "    return df_metrics"
   ]
  },
  {
   "cell_type": "markdown",
   "id": "a3c11422",
   "metadata": {},
   "source": [
    "<span style='background :yellow' > Me duele que digan \"landa\", es \"lambda\". Sé que lo hacen porque lambda es una función, pero ponganle hiperparámetro o algo (es una sugerencia, no los obligo ni nada)"
   ]
  },
  {
   "cell_type": "markdown",
   "id": "01db1480",
   "metadata": {},
   "source": [
    "2) Definimos la función cross_validation(model, k,x,y,standard=false) que toma como input el modelo desado (LogisticRegression, LinearDiscriminantAnalysis o KNeighborsClassifier),la cantidad de particiones 'k' para hacer CV, las bases X e Y y standard=True indica si se quiere estandarizar las variables para hacer CV. La función devuelve la media de los ECM de las k estimaciones realizadas por el método de cross-validation."
   ]
  },
  {
   "cell_type": "code",
   "execution_count": 78,
   "id": "66e1409a",
   "metadata": {},
   "outputs": [],
   "source": [
    "def cross_validation(model, k, x, y, standard=False):\n",
    "    sc = StandardScaler()\n",
    "    \n",
    "    if standard==True:\n",
    "    \n",
    "        kf = KFold(n_splits=k, shuffle=True)\n",
    "\n",
    "        ecm = []\n",
    "\n",
    "        for i, (train_index, test_index) in enumerate(kf.split(x)):   \n",
    "            x_train, x_test = x.iloc[list(train_index)], x.iloc[list(test_index)]  \n",
    "            y_train, y_test = y.iloc[list(train_index)], y.iloc[list(test_index)]\n",
    "\n",
    "            # Estandarizamos las observaciones de entrenamiento\n",
    "            x_train_transformed = pd.DataFrame(sc.fit_transform(x_train),index=x_train.index, columns=x_train.columns)\n",
    "            # Estandarizamos las observaciones de test\n",
    "            x_test_transformed = pd.DataFrame(sc.transform(x_test),index=x_test.index, columns=x_test.columns)\n",
    "\n",
    "            ecm2 = evalua_metodo(x_train_transformed, x_test_transformed, y_train, y_test, model)\n",
    "            ecm3 = ecm2['ecm'][0]\n",
    "            ecm.append(ecm3)\n",
    "        \n",
    "        final_ecm = statistics.mean(ecm)\n",
    "\n",
    "        return final_ecm\n",
    "    \n",
    "    elif standard==False:\n",
    "    \n",
    "        kf = KFold(n_splits=k, shuffle=True)\n",
    "\n",
    "        ecm = []\n",
    "\n",
    "        for i, (train_index, test_index) in enumerate(kf.split(x)):   \n",
    "            x_train, x_test = x.iloc[list(train_index)], x.iloc[list(test_index)]  \n",
    "            y_train, y_test = y.iloc[list(train_index)], y.iloc[list(test_index)]\n",
    "\n",
    "            ecm2 = evalua_metodo(x_train, x_test, y_train, y_test, model)\n",
    "            ecm3 = ecm2['ecm']\n",
    "            ecm.append(ecm3)\n",
    "\n",
    "        final_ecm = statistics.mean(ecm)\n",
    "\n",
    "        return final_ecm"
   ]
  },
  {
   "cell_type": "markdown",
   "id": "1f460b7b",
   "metadata": {},
   "source": [
    "<span style='background :yellow' > Fijense que lo que hacen en ambos condicionales es casi lo mismo excepto por dos lineas en el medio. En estos casos conviene hacer algo así en vez de lo que hicieron:"
   ]
  },
  {
   "cell_type": "code",
   "execution_count": 45,
   "id": "1c22e9a3",
   "metadata": {},
   "outputs": [],
   "source": [
    "def cross_validation(model, k, x, y, standard=False):\n",
    "    sc = StandardScaler()\n",
    "    \n",
    "    if standard==True:\n",
    "    \n",
    "        kf = KFold(n_splits=k, shuffle=True)\n",
    "\n",
    "        ecm = []\n",
    "\n",
    "        for i, (train_index, test_index) in enumerate(kf.split(x)):   \n",
    "            x_train, x_test = x.iloc[list(train_index)], x.iloc[list(test_index)]  \n",
    "            y_train, y_test = y.iloc[list(train_index)], y.iloc[list(test_index)]\n",
    "            \n",
    "            if standard==True:\n",
    "                # Estandarizamos las observaciones de entrenamiento\n",
    "                x_train = pd.DataFrame(sc.fit_transform(x_train),index=x_train.index, columns=x_train.columns)\n",
    "                # Estandarizamos las observaciones de test\n",
    "                x_test = pd.DataFrame(sc.transform(x_test),index=x_test.index, columns=x_test.columns)\n",
    "\n",
    "            ecm2 = evalua_metodo(x_train, x_test, y_train, y_test, model)\n",
    "            ecm3 = ecm2['ecm'][0]\n",
    "            ecm.append(ecm3)\n",
    "        \n",
    "        final_ecm = statistics.mean(ecm)\n",
    "\n",
    "        return final_ecm"
   ]
  },
  {
   "cell_type": "markdown",
   "id": "0db8e92b",
   "metadata": {},
   "source": [
    "3) Definimos la función evalua_config(landa, k, x, y, l_1ratio) que toma cómo inputs una collección de valores de lambdas (pueden ser una matriz o lista), el k de cross-validation, las bases X e Y y un valor para l1_ratio que debe estar entre 0 y 1 (1 indica que la función hace Lasso, 0 que hace Ridge, y cualquier valor intermedio hace Elastic Net ponderando en 'l1_ratio' a Lasso y '1-l1_ratio' a Ridge). Con esta información la función se encarga de calcular el lambda que minimiza el ECM por Cross-validation para la regresion logistica estimando por la elección de Lasso/Ridge/Elastic Net. Retorna el lambda óptimo y el valor del ECM para ese lambda."
   ]
  },
  {
   "cell_type": "code",
   "execution_count": 46,
   "id": "bbde9fed",
   "metadata": {},
   "outputs": [],
   "source": [
    "def evalua_config (landa, k, x, y, l1_ratio=1):\n",
    "    '''\n",
    "    Toma cómo input una serie de valores de Lambda y el K para CV, y devuelve el lambda que minimiza el ECM por CV, usando elastic net para reg_logit\n",
    "    l1_ratio=1 se hace Lasso\n",
    "    l1_ratio=0 se hace Ridge\n",
    "    0 <l1_ratio< 1 combinación de ambos en elastic net.  \n",
    "    '''\n",
    "    \n",
    "    ret={}\n",
    "    for elem in landa:\n",
    "        clf_en_LR = LogisticRegression(\n",
    "        C=1/elem, penalty=\"elasticnet\", solver=\"saga\", l1_ratio=l1_ratio, tol=0.01)\n",
    "        ecm=cross_validation(clf_en_LR,k, x, y, standard=True)\n",
    "        ret[elem]= ecm \n",
    "\n",
    "        \n",
    "    return min(ret, key=ret.get)"
   ]
  },
  {
   "cell_type": "markdown",
   "id": "4e580321",
   "metadata": {},
   "source": [
    "4) Definimos la función evalua_metodos(k_cv,k_knn, landa_max, x_train, x_test , y_train, y_test, x, y) que toma cómo inputs el k de Cross-Validation, el k de KNN, el valor máximo a testear de lambda para el modelo de regresión logistica, las bases de train y test de X e Y, y las bases completas de X e Y. La función se encarga de calcular los modelos KNN(con el k que le pasamos cómo input), Regresión logistica (con el lambda óptimo por Cross-Valdation) y Análisis Lineal de Discriminante y devuelve una tabla con las métricas correspondientes a cada modelo, entre las que se encuentran: hiperparámetro elegido, Accuracy, Auc y ECM."
   ]
  },
  {
   "cell_type": "code",
   "execution_count": 47,
   "id": "64d6cc9e",
   "metadata": {},
   "outputs": [],
   "source": [
    "def evalua_multiples_metodos (k_cv,k_knn, landa_max, x_train, x_test , y_train, y_test, x, y): \n",
    "    \n",
    "    modelos = ['regresion_logistica','k_vecinos_cercanos','analisis_discriminante']\n",
    "\n",
    "    landas= np.arange(0.01, landa_max,10).tolist()\n",
    "\n",
    "    matriz = pd.DataFrame(columns=[\"Modelo\", \"Hiperparametro\",\"Precisión\", \"AUC\", \"ECM\"])\n",
    "\n",
    "    for modelo in modelos:\n",
    "        if modelo == 'regresion_logistica':\n",
    "            landa_optimo = evalua_config( landas, k_cv ,x, y) #hiperparametro landa\n",
    "            metricas_log= evalua_metodo(x_train, x_test , y_train, y_test , LogisticRegression, landa=landa_optimo )\n",
    "            results = [modelo, landa_optimo, metricas_log['accuracy'][0], metricas_log['auc'][0], metricas_log['ecm'][0]]\n",
    "            matriz.loc[len(matriz)] = results\n",
    "\n",
    "        elif modelo =='k_vecinos_cercanos':\n",
    "            metricas_kvc = evalua_metodo( x_train, x_test, y_train, y_test, KNeighborsClassifier, k=k_knn)\n",
    "            results = [modelo, k_knn, metricas_kvc['accuracy'][0], metricas_kvc['auc'][0], metricas_kvc['ecm'][0]]\n",
    "            matriz.loc[len(matriz)] = results\n",
    "        \n",
    "        elif modelo == 'analisis_discriminante':\n",
    "            metricas_ad = evalua_metodo(x_train, x_test, y_train, y_test, LinearDiscriminantAnalysis)\n",
    "            results = [modelo, \"NA\", metricas_ad['accuracy'][0], metricas_ad['auc'][0], metricas_ad['ecm'][0]]\n",
    "            matriz.loc[len(matriz)] = results\n",
    "        \n",
    "    \n",
    "    return(matriz)"
   ]
  },
  {
   "cell_type": "markdown",
   "id": "d9e0380a",
   "metadata": {},
   "source": [
    "<span style='background :yellow' > Está bien, está un poco demasiado hardcoded para cada modelo. En algun momento tienen que poner if's de acuerdo al modelo, pero se puede generalizar más que esto. Después van a tener que correr más modelos y van a tener un condicional para cada uno con mucho código repetido."
   ]
  },
  {
   "cell_type": "markdown",
   "id": "9664f908",
   "metadata": {},
   "source": [
    "## PARTE III"
   ]
  },
  {
   "cell_type": "markdown",
   "id": "460bf806",
   "metadata": {},
   "source": [
    "1) Eliminamos todas variables de ingreso. Especificamos a que tipo de ingreso esta relacionada cada una. Dado que borramos algunas por tener demasiados NAs, borramos obviamente las no previamente decartadas, sacando la diferencia entre las variables definidas y las ya borradas. "
   ]
  },
  {
   "cell_type": "code",
   "execution_count": 48,
   "id": "3dc07742",
   "metadata": {},
   "outputs": [
    {
     "name": "stdout",
     "output_type": "stream",
     "text": [
      "                          CODUSU  ANO4  TRIMESTRE  NRO_HOGAR  COMPONENTE  H15  \\\n",
      "0  TQRMNOPPQHJMNRCDEIJAH00693035  2022          1          1           4    0   \n",
      "1  TQRMNOPPQHJMNRCDEIJAH00693035  2022          1          1           1    1   \n",
      "2  TQRMNOPPQHJMNRCDEIJAH00693035  2022          1          1           3    0   \n",
      "3  TQRMNOPPQHJMQLCDEIJAH00702455  2022          1          1           1    1   \n",
      "4  TQRMNOPPQHJNMQCDEIJAH00698190  2022          1          1           4    0   \n",
      "5  TQRMNOPPQHJNMQCDEIJAH00698190  2022          1          1           1    1   \n",
      "6  TQRMNOPPQHJNMQCDEIJAH00698190  2022          1          1           3    1   \n",
      "7  TQRMNOPPQHJNMQCDEIJAH00698190  2022          1          1           2    1   \n",
      "8  TQRMNOPPQHKMQRCDEIJAH00780809  2022          1          1           3    1   \n",
      "9  TQRMNOPPQHKMQRCDEIJAH00780809  2022          1          1           5    0   \n",
      "\n",
      "   REGION MAS_500  AGLOMERADO  PONDERA  CH03  CH04                 CH05 CH06  \\\n",
      "0       1       S          33     1427     3     2  2019-12-19 00:00:00    2   \n",
      "1       1       S          33     1427     1     1  1994-03-03 00:00:00   27   \n",
      "2       1       S          33     1427     3     2  2015-10-26 00:00:00    6   \n",
      "3       1       S          33     2054     1     2  1957-01-26 00:00:00   65   \n",
      "4       1       S          33     1735     3     2  2015-05-16 00:00:00    6   \n",
      "5       1       S          33     1735     1     1  1990-05-27 00:00:00   31   \n",
      "6       1       S          33     1735     3     2  2008-12-20 00:00:00   13   \n",
      "7       1       S          33     1735     2     2  1991-12-07 00:00:00   30   \n",
      "8       1       S          33     4912     3     2  2011-01-13 00:00:00   11   \n",
      "9       1       S          33     4912     3     1  2018-07-18 00:00:00    3   \n",
      "\n",
      "   CH07  CH08  CH09  CH10  CH11  CH12  CH13  CH14  CH15  CH16  NIVEL_ED  \\\n",
      "0     5     4     2     3     0     0     0   0.0     1     6         7   \n",
      "1     1     4     1     2     0     4     2   3.0     1     1         3   \n",
      "2     5     4     2     1     1     2     2   0.0     1     1         1   \n",
      "3     4     1     1     2     0     2     1   0.0     1     1         2   \n",
      "4     5     4     1     1     1     2     2   1.0     1     1         1   \n",
      "5     2     4     1     2     0     4     2   1.0     1     1         3   \n",
      "6     5     4     1     1     1     4     2   1.0     1     1         3   \n",
      "7     2     4     1     2     0     4     2   2.0     1     1         3   \n",
      "8     5     1     1     1     1     2     2   5.0     1     1         1   \n",
      "9     5     1     2     1     1     1     2   0.0     1     6         7   \n",
      "\n",
      "   ESTADO  CAT_OCUP  CAT_INAC  PP02C1  PP02C2  PP02C3  PP02C4  PP02C5  PP02C6  \\\n",
      "0       4         0         5       0       0       0       0       0       0   \n",
      "1       1         2         0       0       0       0       0       0       0   \n",
      "2       4         0         3       0       0       0       0       0       0   \n",
      "3       3         0         1       0       0       0       0       0       0   \n",
      "4       4         0         3       0       0       0       0       0       0   \n",
      "5       1         3         0       0       0       0       0       0       0   \n",
      "6       3         0         3       0       0       0       0       0       0   \n",
      "7       3         0         7       0       0       0       0       0       0   \n",
      "8       3         0         3       0       0       0       0       0       0   \n",
      "9       4         0         5       0       0       0       0       0       0   \n",
      "\n",
      "   PP02C7  PP02C8  PP02E  PP02H  PP02I  PP03C  PP03D  PP3E_TOT  PP3F_TOT  \\\n",
      "0       0       0      0      0      0    0.0    0.0       0.0       0.0   \n",
      "1       0       0      0      0      0    1.0    0.0      18.0       0.0   \n",
      "2       0       0      0      0      0    0.0    0.0       0.0       0.0   \n",
      "3       0       0      0      2      2    0.0    0.0       0.0       0.0   \n",
      "4       0       0      0      0      0    0.0    0.0       0.0       0.0   \n",
      "5       0       0      0      0      0    1.0    0.0      72.0       0.0   \n",
      "6       0       0      0      2      2    0.0    0.0       0.0       0.0   \n",
      "7       0       0      0      2      2    0.0    0.0       0.0       0.0   \n",
      "8       0       0      0      2      2    0.0    0.0       0.0       0.0   \n",
      "9       0       0      0      0      0    0.0    0.0       0.0       0.0   \n",
      "\n",
      "   PP03G  PP03H  PP03I  PP03J  INTENSI  PP04A  PP04B_COD  PP04B1  PP04B2  \\\n",
      "0    0.0    0.0    0.0    0.0      0.0    0.0        0.0     0.0     0.0   \n",
      "1    1.0    1.0    2.0    1.0      1.0    2.0     4903.0     2.0     0.0   \n",
      "2    0.0    0.0    0.0    0.0      0.0    0.0        0.0     0.0     0.0   \n",
      "3    0.0    0.0    0.0    0.0      0.0    0.0        0.0     0.0     0.0   \n",
      "4    0.0    0.0    0.0    0.0      0.0    0.0        0.0     0.0     0.0   \n",
      "5    2.0    0.0    2.0    2.0      3.0    2.0     4803.0     2.0     0.0   \n",
      "6    0.0    0.0    0.0    0.0      0.0    0.0        0.0     0.0     0.0   \n",
      "7    0.0    0.0    0.0    0.0      0.0    0.0        0.0     0.0     0.0   \n",
      "8    0.0    0.0    0.0    0.0      0.0    0.0        0.0     0.0     0.0   \n",
      "9    0.0    0.0    0.0    0.0      0.0    0.0        0.0     0.0     0.0   \n",
      "\n",
      "   PP04B3_MES  PP04B3_ANO  PP04B3_DIA  PP04C  PP04C99  PP04D_COD  PP04G  \\\n",
      "0         0.0         0.0         0.0    0.0      0.0        0.0    0.0   \n",
      "1         0.0         0.0         0.0    1.0      0.0    34123.0    4.0   \n",
      "2         0.0         0.0         0.0    0.0      0.0        0.0    0.0   \n",
      "3         0.0         0.0         0.0    0.0      0.0        0.0    0.0   \n",
      "4         0.0         0.0         0.0    0.0      0.0        0.0    0.0   \n",
      "5         0.0         0.0         0.0    7.0      0.0    30203.0    1.0   \n",
      "6         0.0         0.0         0.0    0.0      0.0        0.0    0.0   \n",
      "7         0.0         0.0         0.0    0.0      0.0        0.0    0.0   \n",
      "8         0.0         0.0         0.0    0.0      0.0        0.0    0.0   \n",
      "9         0.0         0.0         0.0    0.0      0.0        0.0    0.0   \n",
      "\n",
      "   PP05B2_MES  PP05B2_ANO  PP05B2_DIA  PP05C_1  PP05C_2  PP05C_3  PP05E  \\\n",
      "0         0.0         0.0         0.0      0.0      0.0      0.0    0.0   \n",
      "1         0.0         0.0         0.0      3.0      3.0      1.0    1.0   \n",
      "2         0.0         0.0         0.0      0.0      0.0      0.0    0.0   \n",
      "3         0.0         0.0         0.0      0.0      0.0      0.0    0.0   \n",
      "4         0.0         0.0         0.0      0.0      0.0      0.0    0.0   \n",
      "5         0.0         0.0         0.0      0.0      0.0      0.0    0.0   \n",
      "6         0.0         0.0         0.0      0.0      0.0      0.0    0.0   \n",
      "7         0.0         0.0         0.0      0.0      0.0      0.0    0.0   \n",
      "8         0.0         0.0         0.0      0.0      0.0      0.0    0.0   \n",
      "9         0.0         0.0         0.0      0.0      0.0      0.0    0.0   \n",
      "\n",
      "   PP05F  PP05H  PP06A    PP06C  PP06D  PP06E  PP06H  PP07A  PP07C  PP07D  \\\n",
      "0    0.0    0.0    0.0      0.0    0.0    0.0    0.0    0.0    0.0    0.0   \n",
      "1    7.0    3.0    2.0  40000.0    0.0    0.0    0.0    0.0    0.0    0.0   \n",
      "2    0.0    0.0    0.0      0.0    0.0    0.0    0.0    0.0    0.0    0.0   \n",
      "3    0.0    0.0    0.0      0.0    0.0    0.0    0.0    0.0    0.0    0.0   \n",
      "4    0.0    0.0    0.0      0.0    0.0    0.0    0.0    0.0    0.0    0.0   \n",
      "5    0.0    0.0    0.0      0.0    0.0    0.0    0.0    5.0    2.0    0.0   \n",
      "6    0.0    0.0    0.0      0.0    0.0    0.0    0.0    0.0    0.0    0.0   \n",
      "7    0.0    0.0    0.0      0.0    0.0    0.0    0.0    0.0    0.0    0.0   \n",
      "8    0.0    0.0    0.0      0.0    0.0    0.0    0.0    0.0    0.0    0.0   \n",
      "9    0.0    0.0    0.0      0.0    0.0    0.0    0.0    0.0    0.0    0.0   \n",
      "\n",
      "   PP07E  PP07F1  PP07F2  PP07F3  PP07F4  PP07F5  PP07G1  PP07G2  PP07G3  \\\n",
      "0    0.0     0.0     0.0     0.0     0.0     0.0     0.0     0.0     0.0   \n",
      "1    0.0     0.0     0.0     0.0     0.0     0.0     0.0     0.0     0.0   \n",
      "2    0.0     0.0     0.0     0.0     0.0     0.0     0.0     0.0     0.0   \n",
      "3    0.0     0.0     0.0     0.0     0.0     0.0     0.0     0.0     0.0   \n",
      "4    0.0     0.0     0.0     0.0     0.0     0.0     0.0     0.0     0.0   \n",
      "5    0.0     1.0     2.0     2.0     2.0     0.0     1.0     2.0     2.0   \n",
      "6    0.0     0.0     0.0     0.0     0.0     0.0     0.0     0.0     0.0   \n",
      "7    0.0     0.0     0.0     0.0     0.0     0.0     0.0     0.0     0.0   \n",
      "8    0.0     0.0     0.0     0.0     0.0     0.0     0.0     0.0     0.0   \n",
      "9    0.0     0.0     0.0     0.0     0.0     0.0     0.0     0.0     0.0   \n",
      "\n",
      "   PP07G4  PP07G_59  PP07H  PP07I  PP07J  PP07K    PP08D1  PP08D4  PP08F1  \\\n",
      "0     0.0       0.0    0.0    0.0    0.0    0.0       0.0     0.0     0.0   \n",
      "1     0.0       0.0    0.0    0.0    0.0    0.0       0.0     0.0     0.0   \n",
      "2     0.0       0.0    0.0    0.0    0.0    0.0       0.0     0.0     0.0   \n",
      "3     0.0       0.0    0.0    0.0    0.0    0.0       0.0     0.0     0.0   \n",
      "4     0.0       0.0    0.0    0.0    0.0    0.0       0.0     0.0     0.0   \n",
      "5     2.0       0.0    2.0    2.0    1.0    4.0  100000.0     0.0     0.0   \n",
      "6     0.0       0.0    0.0    0.0    0.0    0.0       0.0     0.0     0.0   \n",
      "7     0.0       0.0    0.0    0.0    0.0    0.0       0.0     0.0     0.0   \n",
      "8     0.0       0.0    0.0    0.0    0.0    0.0       0.0     0.0     0.0   \n",
      "9     0.0       0.0    0.0    0.0    0.0    0.0       0.0     0.0     0.0   \n",
      "\n",
      "   PP08F2  PP08J1  PP08J2  PP08J3  PP09A  PP09B  PP09C     P21  DECOCUR  \\\n",
      "0     0.0     0.0     0.0     0.0    0.0    0.0    0.0       0        0   \n",
      "1     0.0     0.0     0.0     0.0    2.0    0.0    0.0   40000        4   \n",
      "2     0.0     0.0     0.0     0.0    0.0    0.0    0.0       0        0   \n",
      "3     0.0     0.0     0.0     0.0    0.0    0.0    0.0       0        0   \n",
      "4     0.0     0.0     0.0     0.0    0.0    0.0    0.0       0        0   \n",
      "5     0.0     0.0     0.0     0.0    2.0    0.0    0.0  100000        9   \n",
      "6     0.0     0.0     0.0     0.0    0.0    0.0    0.0       0        0   \n",
      "7     0.0     0.0     0.0     0.0    0.0    0.0    0.0       0        0   \n",
      "8     0.0     0.0     0.0     0.0    0.0    0.0    0.0       0        0   \n",
      "9     0.0     0.0     0.0     0.0    0.0    0.0    0.0       0        0   \n",
      "\n",
      "   RDECOCUR  GDECOCUR  ADECOCUR  PONDIIO  TOT_P12      P47T  DECINDR  \\\n",
      "0         0       0.0         0     1427        0       0.0        0   \n",
      "1         4       4.0         4     2244        0   40000.0        5   \n",
      "2         0       0.0         0     1427        0       0.0        0   \n",
      "3         0       0.0         0     2054        0   48000.0        5   \n",
      "4         0       0.0         0     1735        0       0.0        0   \n",
      "5         9       9.0         9     2182        0  100000.0        9   \n",
      "6         0       0.0         0     1735        0       0.0        0   \n",
      "7         0       0.0         0     1735        0   15000.0        1   \n",
      "8         0       0.0         0     4912        0       0.0        0   \n",
      "9         0       0.0         0     4912        0       0.0        0   \n",
      "\n",
      "   RDECINDR  GDECINDR  ADECINDR  PONDII   V2_M  V3_M  V4_M   V5_M  V8_M  V9_M  \\\n",
      "0         0       0.0         0    1427      0     0     0      0     0     0   \n",
      "1         4       5.0         5    2357      0     0     0      0     0     0   \n",
      "2         0       0.0         0    1427      0     0     0      0     0     0   \n",
      "3         5       5.0         6    2199  32000     0     0      0     0     0   \n",
      "4         0       0.0         0    1735      0     0     0      0     0     0   \n",
      "5         9       9.0         9    2235      0     0     0      0     0     0   \n",
      "6         0       0.0         0    1735      0     0     0      0     0     0   \n",
      "7         1       1.0         2    2042      0     0     0  15000     0     0   \n",
      "8         0       0.0         0    4912      0     0     0      0     0     0   \n",
      "9         0       0.0         0    4912      0     0     0      0     0     0   \n",
      "\n",
      "   V10_M  V11_M  V12_M  V18_M  V19_AM  V21_M   T_VI     ITF  DECIFR  RDECIFR  \\\n",
      "0      0      0      0      0       0      0      0  130000       7        7   \n",
      "1      0      0      0      0       0      0      0  130000       7        7   \n",
      "2      0      0      0      0       0      0      0  130000       7        7   \n",
      "3      0      0      0      0       0  16000  48000  110000       6        6   \n",
      "4      0      0      0      0       0      0      0  115000       7        6   \n",
      "5      0      0      0      0       0      0      0  115000       7        6   \n",
      "6      0      0      0      0       0      0      0  115000       7        6   \n",
      "7      0      0      0      0       0      0  15000  115000       7        6   \n",
      "8      0      0      0      0       0      0      0   13000       1        1   \n",
      "9      0      0      0      0       0      0      0   13000       1        1   \n",
      "\n",
      "   GDECIFR  ADECIFR     IPCF  DECCFR  RDECCFR  GDECCFR  ADECCFR  PONDIH  \\\n",
      "0      7.0        7  26000.0       4        4      4.0        4    2359   \n",
      "1      7.0        7  26000.0       4        4      4.0        4    2359   \n",
      "2      7.0        7  26000.0       4        4      4.0        4    2359   \n",
      "3      6.0        6  55000.0       8        7      8.0        8    3275   \n",
      "4      6.0        7  28750.0       4        4      4.0        5    2173   \n",
      "5      6.0        7  28750.0       4        4      4.0        5    2173   \n",
      "6      6.0        7  28750.0       4        4      4.0        5    2173   \n",
      "7      6.0        7  28750.0       4        4      4.0        5    2173   \n",
      "8      1.0        1   2600.0       1        1      1.0        1    3543   \n",
      "9      1.0        1   2600.0       1        1      1.0        1    3543   \n",
      "\n",
      "   REALIZADA  IV1  IV2  IV3  IV4  IV5  IV6  IV7  IV8  IV9  IV10  IV11  IV12_1  \\\n",
      "0          1    2    2    2    4    2    2    2    1    1     2     2       1   \n",
      "1          1    2    2    2    4    2    2    2    1    1     2     2       1   \n",
      "2          1    2    2    2    4    2    2    2    1    1     2     2       1   \n",
      "3          1    1    3    1    1    2    1    1    1    1     1     1       2   \n",
      "4          1    1    2    2    4    2    1    1    1    1     1     1       2   \n",
      "5          1    1    2    2    4    2    1    1    1    1     1     1       2   \n",
      "6          1    1    2    2    4    2    1    1    1    1     1     1       2   \n",
      "7          1    1    2    2    4    2    1    1    1    1     1     1       2   \n",
      "8          1    1    2    1    5    1    1    1    1    1     2     1       2   \n",
      "9          1    1    2    1    5    1    1    1    1    1     2     1       2   \n",
      "\n",
      "   IV12_2  IV12_3  II1  II2  II3  II3_1  II4_1  II4_2  II4_3  II5  II5_1  II6  \\\n",
      "0       1       2    2    1    2      0      1      2      2    2      0    2   \n",
      "1       1       2    2    1    2      0      1      2      2    2      0    2   \n",
      "2       1       2    2    1    2      0      1      2      2    2      0    2   \n",
      "3       2       2    3    2    2      0      1      2      1    2      0    2   \n",
      "4       2       2    2    1    2      0      1      2      2    2      0    2   \n",
      "5       2       2    2    1    2      0      1      2      2    2      0    2   \n",
      "6       2       2    2    1    2      0      1      2      2    2      0    2   \n",
      "7       2       2    2    1    2      0      1      2      2    2      0    2   \n",
      "8       2       2    2    1    2      0      1      2      2    2      0    2   \n",
      "9       2       2    2    1    2      0      1      2      2    2      0    2   \n",
      "\n",
      "   II6_1  II7  II8  II9  V1  V2  V21  V22  V3  V4  V5  V6  V7  V8  V9  V10  \\\n",
      "0      0    1    2    1   1   2    2    2   2   2   1   2   2   2   2    2   \n",
      "1      0    1    2    1   1   2    2    2   2   2   1   2   2   2   2    2   \n",
      "2      0    1    2    1   1   2    2    2   2   2   1   2   2   2   2    2   \n",
      "3      0    1    1    1   1   1    1    2   2   2   2   2   2   2   2    2   \n",
      "4      0    6    2    1   1   2    2    2   2   2   1   2   2   2   2    2   \n",
      "5      0    6    2    1   1   2    2    2   2   2   1   2   2   2   2    2   \n",
      "6      0    6    2    1   1   2    2    2   2   2   1   2   2   2   2    2   \n",
      "7      0    6    2    1   1   2    2    2   2   2   1   2   2   2   2    2   \n",
      "8      0    3    2    1   1   2    2    2   2   2   1   2   2   2   2    2   \n",
      "9      0    3    2    1   1   2    2    2   2   2   1   2   2   2   2    2   \n",
      "\n",
      "   V11  V12  V13  V14  V15  V16  V17  V18  V19_A  V19_B  IX_TOT  IX_MEN10  \\\n",
      "0    2    2    2    2    2    2    2    2      2      2       5         3   \n",
      "1    2    2    2    2    2    2    2    2      2      2       5         3   \n",
      "2    2    2    2    2    2    2    2    2      2      2       5         3   \n",
      "3    2    2    1    2    1    2    1    2      2      2       2         0   \n",
      "4    2    2    1    2    2    1    2    2      2      2       4         1   \n",
      "5    2    2    1    2    2    1    2    2      2      2       4         1   \n",
      "6    2    2    1    2    2    1    2    2      2      2       4         1   \n",
      "7    2    2    1    2    2    1    2    2      2      2       4         1   \n",
      "8    2    2    2    1    1    2    2    2      2      2       5         2   \n",
      "9    2    2    2    1    1    2    2    2      2      2       5         2   \n",
      "\n",
      "   IX_MAYEQ10  VII1_1  VII1_2  VII2_1  VII2_2  VII2_3  VII2_4  adulto_equiv  \\\n",
      "0           2       2       0      98       0       0       0          0.46   \n",
      "1           2       2       0      98       0       0       0          1.02   \n",
      "2           2       2       0      98       0       0       0          0.64   \n",
      "3           2       1       2      98       0       0       0          0.67   \n",
      "4           3       1       0      98       0       0       0          0.64   \n",
      "5           3       1       0      98       0       0       0          1.00   \n",
      "6           3       1       0      98       0       0       0          0.76   \n",
      "7           3       1       0      98       0       0       0          0.77   \n",
      "8           3       1       2      98       0       0       0          0.72   \n",
      "9           3       1       2      98       0       0       0          0.51   \n",
      "\n",
      "   ad_equiv_hogar  ingreso_necesario  Pobre  \n",
      "0            2.12         57658.9968      0  \n",
      "1            2.12         57658.9968      0  \n",
      "2            2.12         57658.9968      0  \n",
      "3            0.67         18222.4188      0  \n",
      "4            3.17         86216.5188      0  \n",
      "5            3.17         86216.5188      0  \n",
      "6            3.17         86216.5188      0  \n",
      "7            3.17         86216.5188      0  \n",
      "8            3.42         93015.9288      1  \n",
      "9            3.42         93015.9288      1  \n",
      "   index                         CODUSU  ANO4  TRIMESTRE  NRO_HOGAR  \\\n",
      "0   4027  TQRMNOPPQHLNKTCDEIIAD00780107  2022          1          1   \n",
      "1   4026  TQRMNOPPQHLNKTCDEIIAD00780107  2022          1          1   \n",
      "2   2083  TQRMNOPPRHJNMQCDEIJAH00780845  2022          1          1   \n",
      "3   2084  TQRMNOPPRHJNMQCDEIJAH00780845  2022          1          1   \n",
      "4   2085  TQRMNOPPRHJNMQCDEIJAH00780845  2022          1          1   \n",
      "5   2087  TQRMNOPPRHJNMQCDEIJAH00780845  2022          1          1   \n",
      "6   2088  TQRMNOPPRHJNMQCDEIJAH00780845  2022          1          1   \n",
      "7   2089  TQRMNOPPRHJNMQCDEIJAH00780845  2022          1          1   \n",
      "8   2086  TQRMNOPPRHJNMQCDEIJAH00780845  2022          1          1   \n",
      "9   3522  TQRMNOPPSHJKRNCDEIJAH00719500  2022          1          1   \n",
      "\n",
      "   COMPONENTE  H15  REGION MAS_500  AGLOMERADO  PONDERA  CH03  CH04  \\\n",
      "0           2    1       1       S          32     4628     2     1   \n",
      "1           1    1       1       S          32     4628     1     2   \n",
      "2           4    1       1       S          33     1499     8     1   \n",
      "3           5    1       1       S          33     1499     8     1   \n",
      "4           3    1       1       S          33     1499     9     1   \n",
      "5           2    1       1       S          33     1499     8     2   \n",
      "6           6    1       1       S          33     1499     3     1   \n",
      "7           1    1       1       S          33     1499     1     2   \n",
      "8           7    1       1       S          33     1499     3     2   \n",
      "9           4    1       1       S          33     2468     3     2   \n",
      "\n",
      "                  CH05 CH06  CH07  CH08  CH09  CH10  CH11  CH12  CH13  CH14  \\\n",
      "0  1986-06-30 00:00:00   35     1     1     1     2     0     7     1   0.0   \n",
      "1  1986-02-22 00:00:00   35     1     2     1     2     0     7     1   0.0   \n",
      "2  1900-01-01 00:00:00   39     5     4     1     2     0     2     1   0.0   \n",
      "3  1900-01-01 00:00:00   38     5     4     1     2     0     2     1   0.0   \n",
      "4  1900-01-01 00:00:00   45     1     4     1     2     0     2     1   0.0   \n",
      "5  1900-01-01 00:00:00   40     1     1     1     2     0     2     1   0.0   \n",
      "6  1900-01-01 00:00:00   28     5     1     1     2     0     2     1   0.0   \n",
      "7  1900-01-01 00:00:00   50     3     1     1     2     0     2     1   0.0   \n",
      "8  1900-01-01 00:00:00   16     5     1     1     1     1     4     2   3.0   \n",
      "9  1900-01-01 00:00:00   12     5     2     1     1     1     4     2   0.0   \n",
      "\n",
      "   CH15  CH16  NIVEL_ED  ESTADO  CAT_OCUP  CAT_INAC  PP02C1  PP02C2  PP02C3  \\\n",
      "0     2     1         6       1         3         0       0       0       0   \n",
      "1     2     1         6       1         3         0       0       0       0   \n",
      "2     1     1         2       1         2         0       0       0       0   \n",
      "3     1     1         2       1         2         0       0       0       0   \n",
      "4     1     1         2       1         2         0       0       0       0   \n",
      "5     1     1         2       1         3         0       0       0       0   \n",
      "6     1     1         2       2         3         0       2       2       2   \n",
      "7     1     1         2       1         3         0       0       0       0   \n",
      "8     1     1         3       3         0         3       0       0       0   \n",
      "9     1     1         3       3         0         3       0       0       0   \n",
      "\n",
      "   PP02C4  PP02C5  PP02C6  PP02C7  PP02C8  PP02E  PP02H  PP02I  PP03C  PP03D  \\\n",
      "0       0       0       0       0       0      0      0      0    0.0    0.0   \n",
      "1       0       0       0       0       0      0      0      0    0.0    0.0   \n",
      "2       0       0       0       0       0      0      0      0    1.0    0.0   \n",
      "3       0       0       0       0       0      0      0      0    1.0    0.0   \n",
      "4       0       0       0       0       0      0      0      0    1.0    0.0   \n",
      "5       0       0       0       0       0      0      0      0    1.0    0.0   \n",
      "6       2       1       1       2       2      0      0      0    0.0    0.0   \n",
      "7       0       0       0       0       0      0      0      0    1.0    0.0   \n",
      "8       0       0       0       0       0      0      2      2    0.0    0.0   \n",
      "9       0       0       0       0       0      0      2      2    0.0    0.0   \n",
      "\n",
      "   PP3E_TOT  PP3F_TOT  PP03G  PP03H  PP03I  PP03J  INTENSI  PP04A  PP04B_COD  \\\n",
      "0       0.0       0.0    2.0    0.0    2.0    2.0      4.0    1.0     9000.0   \n",
      "1       0.0       0.0    1.0    3.0    2.0    2.0      4.0    2.0     8600.0   \n",
      "2      68.0       0.0    2.0    0.0    2.0    2.0      3.0    2.0     4810.0   \n",
      "3      60.0       0.0    2.0    0.0    2.0    2.0      3.0    2.0     4810.0   \n",
      "4      36.0       0.0    1.0    1.0    1.0    1.0      2.0    2.0     4000.0   \n",
      "5      24.0       0.0    1.0    1.0    1.0    1.0      1.0    2.0     9700.0   \n",
      "6       0.0       0.0    0.0    0.0    0.0    0.0      0.0    0.0        0.0   \n",
      "7      32.0       0.0    1.0    1.0    1.0    1.0      1.0    2.0     9700.0   \n",
      "8       0.0       0.0    0.0    0.0    0.0    0.0      0.0    0.0        0.0   \n",
      "9       0.0       0.0    0.0    0.0    0.0    0.0      0.0    0.0        0.0   \n",
      "\n",
      "   PP04B1  PP04B2  PP04B3_MES  PP04B3_ANO  PP04B3_DIA  PP04C  PP04C99  \\\n",
      "0     2.0     0.0         0.0         0.0         0.0   10.0      0.0   \n",
      "1     2.0     0.0         0.0         0.0         0.0    3.0      0.0   \n",
      "2     2.0     0.0         0.0         0.0         0.0    1.0      0.0   \n",
      "3     2.0     0.0         0.0         0.0         0.0    1.0      0.0   \n",
      "4     2.0     0.0         0.0         0.0         0.0    1.0      0.0   \n",
      "5     1.0     1.0         0.0         5.0         0.0    0.0      0.0   \n",
      "6     0.0     0.0         0.0         0.0         0.0    0.0      0.0   \n",
      "7     1.0     1.0         0.0        20.0         0.0    0.0      0.0   \n",
      "8     0.0     0.0         0.0         0.0         0.0    0.0      0.0   \n",
      "9     0.0     0.0         0.0         0.0         0.0    0.0      0.0   \n",
      "\n",
      "   PP04D_COD  PP04G  PP05B2_MES  PP05B2_ANO  PP05B2_DIA  PP05C_1  PP05C_2  \\\n",
      "0    50311.0    1.0         0.0         0.0         0.0      0.0      0.0   \n",
      "1    40311.0    1.0         0.0         0.0         0.0      0.0      0.0   \n",
      "2    33114.0    9.0         0.0         0.0         0.0      3.0      3.0   \n",
      "3    33114.0    9.0         0.0         0.0         0.0      3.0      3.0   \n",
      "4    72113.0    8.0         0.0         0.0         0.0      1.0      3.0   \n",
      "5    55314.0    0.0         0.0         0.0         0.0      0.0      0.0   \n",
      "6        0.0    0.0         0.0         0.0         0.0      0.0      0.0   \n",
      "7    55314.0    0.0         0.0         0.0         0.0      0.0      0.0   \n",
      "8        0.0    0.0         0.0         0.0         0.0      0.0      0.0   \n",
      "9        0.0    0.0         0.0         0.0         0.0      0.0      0.0   \n",
      "\n",
      "   PP05C_3  PP05E  PP05F  PP05H  PP06A  PP06C  PP06D  PP06E  PP06H  PP07A  \\\n",
      "0      0.0    0.0    0.0    0.0    0.0    0.0    0.0    0.0    0.0    5.0   \n",
      "1      0.0    0.0    0.0    0.0    0.0    0.0    0.0    0.0    0.0    5.0   \n",
      "2      3.0    1.0    7.0    6.0    2.0   -9.0    0.0    0.0    0.0    0.0   \n",
      "3      3.0    1.0    7.0    6.0    2.0   -9.0    0.0    0.0    0.0    0.0   \n",
      "4      3.0    1.0    6.0    1.0    2.0   -9.0    0.0    0.0    0.0    0.0   \n",
      "5      0.0    0.0    0.0    0.0    0.0    0.0    0.0    0.0    0.0    0.0   \n",
      "6      0.0    0.0    0.0    0.0    0.0    0.0    0.0    0.0    0.0    0.0   \n",
      "7      0.0    0.0    0.0    0.0    0.0    0.0    0.0    0.0    0.0    0.0   \n",
      "8      0.0    0.0    0.0    0.0    0.0    0.0    0.0    0.0    0.0    0.0   \n",
      "9      0.0    0.0    0.0    0.0    0.0    0.0    0.0    0.0    0.0    0.0   \n",
      "\n",
      "   PP07C  PP07D  PP07E  PP07F1  PP07F2  PP07F3  PP07F4  PP07F5  PP07G1  \\\n",
      "0    2.0    0.0    0.0     2.0     2.0     2.0     2.0     5.0     1.0   \n",
      "1    2.0    0.0    0.0     2.0     2.0     2.0     2.0     5.0     2.0   \n",
      "2    0.0    0.0    0.0     0.0     0.0     0.0     0.0     0.0     0.0   \n",
      "3    0.0    0.0    0.0     0.0     0.0     0.0     0.0     0.0     0.0   \n",
      "4    0.0    0.0    0.0     0.0     0.0     0.0     0.0     0.0     0.0   \n",
      "5    0.0    0.0    0.0     1.0     2.0     2.0     2.0     0.0     2.0   \n",
      "6    0.0    0.0    0.0     0.0     0.0     0.0     0.0     0.0     0.0   \n",
      "7    0.0    0.0    0.0     1.0     2.0     2.0     2.0     0.0     1.0   \n",
      "8    0.0    0.0    0.0     0.0     0.0     0.0     0.0     0.0     0.0   \n",
      "9    0.0    0.0    0.0     0.0     0.0     0.0     0.0     0.0     0.0   \n",
      "\n",
      "   PP07G2  PP07G3  PP07G4  PP07G_59  PP07H  PP07I  PP07J  PP07K    PP08D1  \\\n",
      "0     1.0     1.0     1.0       0.0    1.0    0.0    1.0    1.0  120000.0   \n",
      "1     2.0     2.0     1.0       0.0    2.0    1.0    1.0    3.0   45000.0   \n",
      "2     0.0     0.0     0.0       0.0    0.0    0.0    0.0    0.0       0.0   \n",
      "3     0.0     0.0     0.0       0.0    0.0    0.0    0.0    0.0       0.0   \n",
      "4     0.0     0.0     0.0       0.0    0.0    0.0    0.0    0.0       0.0   \n",
      "5     2.0     2.0     2.0       5.0    2.0    2.0    1.0    4.0   24000.0   \n",
      "6     0.0     0.0     0.0       0.0    0.0    0.0    0.0    0.0       0.0   \n",
      "7     1.0     1.0     1.0       0.0    1.0    0.0    1.0    1.0   32000.0   \n",
      "8     0.0     0.0     0.0       0.0    0.0    0.0    0.0    0.0       0.0   \n",
      "9     0.0     0.0     0.0       0.0    0.0    0.0    0.0    0.0       0.0   \n",
      "\n",
      "   PP08D4  PP08F1  PP08F2   PP08J1  PP08J2  PP08J3  PP09A  PP09B  PP09C  \\\n",
      "0     0.0     0.0     0.0      0.0     0.0     0.0    1.0    0.0    0.0   \n",
      "1     0.0     0.0     0.0      0.0     0.0     0.0    2.0    0.0    0.0   \n",
      "2     0.0     0.0     0.0      0.0     0.0     0.0    3.0    0.0    0.0   \n",
      "3     0.0     0.0     0.0      0.0     0.0     0.0    3.0    0.0    0.0   \n",
      "4     0.0     0.0     0.0      0.0     0.0     0.0    2.0    0.0    0.0   \n",
      "5     0.0     0.0     0.0      0.0     0.0     0.0    2.0    0.0    0.0   \n",
      "6     0.0     0.0     0.0      0.0     0.0     0.0    0.0    0.0    0.0   \n",
      "7     0.0     0.0     0.0  16000.0     0.0     0.0    1.0    0.0    0.0   \n",
      "8     0.0     0.0     0.0      0.0     0.0     0.0    0.0    0.0    0.0   \n",
      "9     0.0     0.0     0.0      0.0     0.0     0.0    0.0    0.0    0.0   \n",
      "\n",
      "      P21  DECOCUR  RDECOCUR  GDECOCUR  ADECOCUR  PONDIIO  TOT_P12      P47T  \\\n",
      "0  120000        9         9       9.0         8     9198        0  120000.0   \n",
      "1   45000        5         5       5.0         3     6993       -9      -9.0   \n",
      "2      -9       12        12      12.0        12        0        0      -9.0   \n",
      "3      -9       12        12      12.0        12        0        0      -9.0   \n",
      "4      -9       12        12      12.0        12        0        0      -9.0   \n",
      "5   24000        3         2       2.0         3     2042        0   24000.0   \n",
      "6       0        0         0       0.0         0     1499        0       0.0   \n",
      "7   32000        4         3       4.0         4     1480        0   48000.0   \n",
      "8       0        0         0       0.0         0     1499        0       0.0   \n",
      "9       0        0         0       0.0         0     2468        0       0.0   \n",
      "\n",
      "   DECINDR  RDECINDR  GDECINDR  ADECINDR  PONDII  V2_M  V3_M  V4_M  V5_M  \\\n",
      "0        9         9       9.0         8    8549     0     0     0     0   \n",
      "1       12        12      12.0        12       0     0     0     0     0   \n",
      "2       12        12      12.0        12       0     0     0     0     0   \n",
      "3       12        12      12.0        12       0     0     0     0     0   \n",
      "4       12        12      12.0        12       0     0     0     0     0   \n",
      "5        2         2       2.0         2    2022     0     0     0     0   \n",
      "6        0         0       0.0         0    1499     0     0     0     0   \n",
      "7        5         5       5.0         6    1786     0     0     0     0   \n",
      "8        0         0       0.0         0    1499     0     0     0     0   \n",
      "9        0         0       0.0         0    2468     0     0     0     0   \n",
      "\n",
      "   V8_M  V9_M  V10_M  V11_M  V12_M  V18_M  V19_AM  V21_M  T_VI  ITF  DECIFR  \\\n",
      "0     0     0      0      0      0      0       0      0     0    0      12   \n",
      "1     0     0      0      0      0      0       0      0     0    0      12   \n",
      "2     0     0      0      0      0      0       0      0     0    0      12   \n",
      "3     0     0      0      0      0      0       0      0     0    0      12   \n",
      "4     0     0      0      0      0      0       0      0     0    0      12   \n",
      "5     0     0      0      0      0      0       0      0     0    0      12   \n",
      "6     0     0      0      0      0      0       0      0     0    0      12   \n",
      "7     0     0      0      0      0      0       0      0     0    0      12   \n",
      "8     0     0      0      0      0      0       0      0     0    0      12   \n",
      "9     0     0      0      0      0      0       0      0     0    0      12   \n",
      "\n",
      "   RDECIFR  GDECIFR  ADECIFR  IPCF  DECCFR  RDECCFR  GDECCFR  ADECCFR  PONDIH  \\\n",
      "0       12     12.0       12   0.0      12       12     12.0       12       0   \n",
      "1       12     12.0       12   0.0      12       12     12.0       12       0   \n",
      "2       12     12.0       12   0.0      12       12     12.0       12       0   \n",
      "3       12     12.0       12   0.0      12       12     12.0       12       0   \n",
      "4       12     12.0       12   0.0      12       12     12.0       12       0   \n",
      "5       12     12.0       12   0.0      12       12     12.0       12       0   \n",
      "6       12     12.0       12   0.0      12       12     12.0       12       0   \n",
      "7       12     12.0       12   0.0      12       12     12.0       12       0   \n",
      "8       12     12.0       12   0.0      12       12     12.0       12       0   \n",
      "9       12     12.0       12   0.0      12       12     12.0       12       0   \n",
      "\n",
      "   REALIZADA  IV1  IV2  IV3  IV4  IV5  IV6  IV7  IV8  IV9  IV10  IV11  IV12_1  \\\n",
      "0          1    2    2    1    1    2    1    1    1    1     1     1       2   \n",
      "1          1    2    2    1    1    2    1    1    1    1     1     1       2   \n",
      "2          1    1    4    2    2    1    1    1    1    1     2     1       2   \n",
      "3          1    1    4    2    2    1    1    1    1    1     2     1       2   \n",
      "4          1    1    4    2    2    1    1    1    1    1     2     1       2   \n",
      "5          1    1    4    2    2    1    1    1    1    1     2     1       2   \n",
      "6          1    1    4    2    2    1    1    1    1    1     2     1       2   \n",
      "7          1    1    4    2    2    1    1    1    1    1     2     1       2   \n",
      "8          1    1    4    2    2    1    1    1    1    1     2     1       2   \n",
      "9          1    1    4    1    1    1    1    1    1    1     1     1       2   \n",
      "\n",
      "   IV12_2  IV12_3  II1  II2  II3  II3_1  II4_1  II4_2  II4_3  II5  II5_1  II6  \\\n",
      "0       2       2    2    1    2      0      1      2      2    2      0    2   \n",
      "1       2       2    2    1    2      0      1      2      2    2      0    2   \n",
      "2       2       2    4    3    2      0      1      2      2    2      0    2   \n",
      "3       2       2    4    3    2      0      1      2      2    2      0    2   \n",
      "4       2       2    4    3    2      0      1      2      2    2      0    2   \n",
      "5       2       2    4    3    2      0      1      2      2    2      0    2   \n",
      "6       2       2    4    3    2      0      1      2      2    2      0    2   \n",
      "7       2       2    4    3    2      0      1      2      2    2      0    2   \n",
      "8       2       2    4    3    2      0      1      2      2    2      0    2   \n",
      "9       2       2    4    3    2      0      1      1      1    2      0    2   \n",
      "\n",
      "   II6_1  II7  II8  II9  V1  V2  V21  V22  V3  V4  V5  V6  V7  V8  V9  V10  \\\n",
      "0      0    3    1    1   1   2    2    2   2   2   2   2   2   2   2    2   \n",
      "1      0    3    1    1   1   2    2    2   2   2   2   2   2   2   2    2   \n",
      "2      0    1    2    1   1   2    2    2   2   2   2   2   2   2   2    2   \n",
      "3      0    1    2    1   1   2    2    2   2   2   2   2   2   2   2    2   \n",
      "4      0    1    2    1   1   2    2    2   2   2   2   2   2   2   2    2   \n",
      "5      0    1    2    1   1   2    2    2   2   2   2   2   2   2   2    2   \n",
      "6      0    1    2    1   1   2    2    2   2   2   2   2   2   2   2    2   \n",
      "7      0    1    2    1   1   2    2    2   2   2   2   2   2   2   2    2   \n",
      "8      0    1    2    1   1   2    2    2   2   2   2   2   2   2   2    2   \n",
      "9      0    1    4    1   1   2    2    2   2   2   2   2   2   2   2    2   \n",
      "\n",
      "   V11  V12  V13  V14  V15  V16  V17  V18  V19_A  V19_B  IX_TOT  IX_MEN10  \\\n",
      "0    2    2    1    1    1    2    2    2      2      2       3         1   \n",
      "1    2    2    1    1    1    2    2    2      2      2       3         1   \n",
      "2    2    2    2    2    2    2    2    2      2      2       7         0   \n",
      "3    2    2    2    2    2    2    2    2      2      2       7         0   \n",
      "4    2    2    2    2    2    2    2    2      2      2       7         0   \n",
      "5    2    2    2    2    2    2    2    2      2      2       7         0   \n",
      "6    2    2    2    2    2    2    2    2      2      2       7         0   \n",
      "7    2    2    2    2    2    2    2    2      2      2       7         0   \n",
      "8    2    2    2    2    2    2    2    2      2      2       7         0   \n",
      "9    2    2    2    2    2    1    2    2      2      2       4         0   \n",
      "\n",
      "   IX_MAYEQ10  VII1_1  VII1_2  VII2_1  VII2_2  VII2_3  VII2_4  adulto_equiv  \\\n",
      "0           2       1       2      98       0       0       0          1.00   \n",
      "1           2       1       2      98       0       0       0          0.77   \n",
      "2           7       1       2       7       0       0       0          1.00   \n",
      "3           7       1       2       7       0       0       0          1.00   \n",
      "4           7       1       2       7       0       0       0          1.00   \n",
      "5           7       1       2       7       0       0       0          0.77   \n",
      "6           7       1       2       7       0       0       0          1.02   \n",
      "7           7       1       2       7       0       0       0          0.76   \n",
      "8           7       1       2       7       0       0       0          0.77   \n",
      "9           4       2       1      96       0       0       0          0.74   \n",
      "\n",
      "   ad_equiv_hogar  \n",
      "0            1.77  \n",
      "1            1.77  \n",
      "2            6.32  \n",
      "3            6.32  \n",
      "4            6.32  \n",
      "5            6.32  \n",
      "6            6.32  \n",
      "7            6.32  \n",
      "8            6.32  \n",
      "9            1.50  \n"
     ]
    }
   ],
   "source": [
    "variables_ingreso = [\n",
    "    \"ITF\",\"DECIFR\",\"IDECIFR\",\"RDECIFR\",\"GDECIFR\", \"PDECIFR\",\"ADECIFR\", #Ingreso total familiar\n",
    "    \"IPCF\", \"DECCFR\", \"IDECCFR\", \"RDECCFR\", \"GDECCFR\", \"PDECCFR\", \"ADECCFR\", \"PONDIH\", #Ingreso per capita familiar\n",
    "    \"PP06A\", \"PP06C\", \"PP06D\", \"PP06E\", \"PP06H\", #Ingreso de las ocupaciones principales de independientes\n",
    "    \"PP08D1\", \"PP08D4\", \"PP08F1\", \"PP08F2\", \"PP08J1\", \"PP08J2\", \"PP08J3\",#Ingreso de las ocupaciones principales de asalariados\n",
    "    \"P21\", \"DECOCUR\", \"IDECOCUR\", \"RDECOCUR\", \"GDECOCUR\", \"PDECOCUR\", \"ADECOCUR\", \"PONDIIO\", #Ingreso de la ocupacion principal\n",
    "    \"TOT_P12\", #Ingreso de otras ocupaciones\n",
    "    \"P47T\", \"DECINDR\", \"IDECINDR\", \"RDECINDR\", \"GDECINDR\", \"PDECINDR\", \"ADECINDR\", \"PONDII\",#Ingreso total individual\n",
    "    \"V2_M\", \"V3_M\", \"V4_M\", \"V5_M\", \"V8_M\", \"V9_M\", \"V10_M\", \"V11_M\", \"V12_M\", \"V18_M\", \"V19_AM\", \"V21_M\", \"T_VI\", #Ingresos no laborales\n",
    "    \"adulto_equiv\", \"ad_equiv_hogar\",  \"ingreso_necesario\"#Equivalentes e ingreso necesario\n",
    "]\n",
    "#Me fijo cuales fueron borradas mas arriba por tener muchos NAs\n",
    "borradas = pd.Index(variables_ingreso).difference(df_norespondieron.columns).tolist()\n",
    "#las saco\n",
    "variables_ingreso_no_borradas = pd.Index(variables_ingreso).difference(borradas).tolist()\n",
    "\n",
    "#Eliminamos\n",
    "df_respondieron.drop(columns = variables_ingreso_no_borradas)\n",
    "df_respondieron.drop(columns = ['ingreso_necesario']) #Esta solo en df_respondieron\n",
    "df_norespondieron.drop(columns = variables_ingreso_no_borradas)\n",
    "\n",
    "print(df_respondieron.head(10))\n",
    "print(df_norespondieron.head(10))\n",
    "\n"
   ]
  },
  {
   "cell_type": "markdown",
   "id": "f1f58ca9",
   "metadata": {},
   "source": [
    "Definimos y como la variable de si es pobre o no. X es el resto de variables, agregamos constante. "
   ]
  },
  {
   "cell_type": "code",
   "execution_count": 49,
   "id": "51bedd2f",
   "metadata": {},
   "outputs": [],
   "source": [
    "y=df_respondieron['Pobre'] \n",
    "X=df_respondieron.loc[:, df_respondieron.columns != 'Pobre']\n",
    "X['Constante']=1"
   ]
  },
  {
   "cell_type": "markdown",
   "id": "863b20ed",
   "metadata": {},
   "source": [
    "2) Corremos la funcion evalua_multiples_metodos."
   ]
  },
  {
   "cell_type": "code",
   "execution_count": 50,
   "id": "5784e741",
   "metadata": {},
   "outputs": [],
   "source": [
    "#Recordemos que tenemos 2 data base relevantes: df_respondieron y df_norespondieron\n",
    "#Pasamos a float la variable MAS_500 que es de tipo String:\n",
    "for i in range(len(df_respondieron)):\n",
    "    if df_respondieron.loc[i,\"MAS_500\"] == \"S\" :\n",
    "        df_respondieron.loc[i,\"MAS_500\"]= 1\n",
    "    elif df_respondieron.loc[i,\"MAS_500\"] == \"N\":\n",
    "        df_respondieron.loc[i,\"MAS_500\"]=0 \n",
    "\n",
    "for i in range(len(df_norespondieron)):\n",
    "    if df_norespondieron.loc[i,\"MAS_500\"] == \"S\" :\n",
    "        df_norespondieron.loc[i,\"MAS_500\"]= 1\n",
    "    elif df_norespondieron.loc[i,\"MAS_500\"] == \"N\":\n",
    "        df_norespondieron.loc[i,\"MAS_500\"]=0"
   ]
  },
  {
   "cell_type": "code",
   "execution_count": 51,
   "id": "442d8a3d",
   "metadata": {},
   "outputs": [],
   "source": [
    "#Eliminamos CODUSU Y CH05, que son strings\n",
    "df_norespondieron.drop ([\"CODUSU\", \"CH05\"] , axis =1 , inplace = True)\n",
    "df_respondieron.drop ([\"CODUSU\", \"CH05\"] , axis =1 , inplace = True)"
   ]
  },
  {
   "cell_type": "code",
   "execution_count": 52,
   "id": "477ca6f6",
   "metadata": {},
   "outputs": [],
   "source": [
    "y=df_respondieron['Pobre'] \n",
    "X=df_respondieron.loc[:, df_respondieron.columns != 'Pobre']\n",
    "X['Constante']=1"
   ]
  },
  {
   "cell_type": "code",
   "execution_count": 79,
   "id": "92681487",
   "metadata": {},
   "outputs": [
    {
     "name": "stderr",
     "output_type": "stream",
     "text": [
      "C:\\Users\\Matias\\AppData\\Local\\Programs\\Python\\Python310\\lib\\site-packages\\sklearn\\linear_model\\_logistic.py:444: ConvergenceWarning: lbfgs failed to converge (status=1):\n",
      "STOP: TOTAL NO. of ITERATIONS REACHED LIMIT.\n",
      "\n",
      "Increase the number of iterations (max_iter) or scale the data as shown in:\n",
      "    https://scikit-learn.org/stable/modules/preprocessing.html\n",
      "Please also refer to the documentation for alternative solver options:\n",
      "    https://scikit-learn.org/stable/modules/linear_model.html#logistic-regression\n",
      "  n_iter_i = _check_optimize_result(\n"
     ]
    },
    {
     "data": {
      "text/html": [
       "<div>\n",
       "<style scoped>\n",
       "    .dataframe tbody tr th:only-of-type {\n",
       "        vertical-align: middle;\n",
       "    }\n",
       "\n",
       "    .dataframe tbody tr th {\n",
       "        vertical-align: top;\n",
       "    }\n",
       "\n",
       "    .dataframe thead th {\n",
       "        text-align: right;\n",
       "    }\n",
       "</style>\n",
       "<table border=\"1\" class=\"dataframe\">\n",
       "  <thead>\n",
       "    <tr style=\"text-align: right;\">\n",
       "      <th></th>\n",
       "      <th>Modelo</th>\n",
       "      <th>Hiperparametro</th>\n",
       "      <th>Precisión</th>\n",
       "      <th>AUC</th>\n",
       "      <th>ECM</th>\n",
       "    </tr>\n",
       "  </thead>\n",
       "  <tbody>\n",
       "    <tr>\n",
       "      <th>0</th>\n",
       "      <td>regresion_logistica</td>\n",
       "      <td>10.01</td>\n",
       "      <td>0.997988</td>\n",
       "      <td>0.997735</td>\n",
       "      <td>0.002012</td>\n",
       "    </tr>\n",
       "    <tr>\n",
       "      <th>1</th>\n",
       "      <td>k_vecinos_cercanos</td>\n",
       "      <td>5.0</td>\n",
       "      <td>0.963783</td>\n",
       "      <td>0.962261</td>\n",
       "      <td>0.036217</td>\n",
       "    </tr>\n",
       "    <tr>\n",
       "      <th>2</th>\n",
       "      <td>analisis_discriminante</td>\n",
       "      <td>NA</td>\n",
       "      <td>0.949698</td>\n",
       "      <td>0.957754</td>\n",
       "      <td>0.050302</td>\n",
       "    </tr>\n",
       "  </tbody>\n",
       "</table>\n",
       "</div>"
      ],
      "text/plain": [
       "                   Modelo Hiperparametro  Precisión       AUC       ECM\n",
       "0     regresion_logistica          10.01   0.997988  0.997735  0.002012\n",
       "1      k_vecinos_cercanos            5.0   0.963783  0.962261  0.036217\n",
       "2  analisis_discriminante             NA   0.949698  0.957754  0.050302"
      ]
     },
     "execution_count": 79,
     "metadata": {},
     "output_type": "execute_result"
    }
   ],
   "source": [
    "X_train, X_test, y_train, y_test = train_test_split(X, y, test_size=0.3)\n",
    "evalua_multiples_metodos (5,5, 30, X_train, X_test , y_train, y_test, X, y)"
   ]
  },
  {
   "cell_type": "markdown",
   "id": "0add444a",
   "metadata": {},
   "source": [
    "<span style='background :yellow' > No muestran el tipo de penalty utilizado (no podemos determinar si es mejor Lasso o Ridge). Es medio tonto dado que su función solo funciona para un penalty y evalua_config no permite cambiarlo. En realidad, el problema es que debería poder funcionar para chequear tanto Ridge y Lasso al mismo tiempo o el que uno quiera."
   ]
  },
  {
   "cell_type": "markdown",
   "id": "a96cc340",
   "metadata": {},
   "source": [
    "3) Se utiliza un metodo de K-Fold cross validation con la intencion de minimizar el error de prediccion por fuera de la muestra. Con varios $\\lambda$ alternativos calculamos el error de pronostico partiendo los datos al azar en $K$ partes, ajustandolo dejando al azar afuera algunas de estas. Se elige el $\\lambda$ con mejor predicciones. \n",
    "\n",
    "No se usan los datos de test ya que queremos comparar desempeño entre modelos, todos entrenados con la base de train. Como luego los compararemos en base al desempeño en test, no tiene sentido que lo elijamos con este mismo. "
   ]
  },
  {
   "cell_type": "markdown",
   "id": "818c7f12",
   "metadata": {},
   "source": [
    "<span style='background :yellow' > Es más que no tener sentido, usar la base de test para estimar el modelo es incorrecto porque lleva a overfit y probablemente un sesgo en las predicciones."
   ]
  },
  {
   "cell_type": "markdown",
   "id": "66167b31",
   "metadata": {},
   "source": [
    "4) $K$ grande maximiza los datos utilizados para estimar, por lo que resulta sensible a los valores especificos, dependiendo el error de lo que pase con pocos datos de test.\n",
    "\n",
    "$K$ chico maximiza los datos para utilizados para evaluar, el modelo estimado resulta menos preciso por ello.\n",
    "\n",
    "$K=n$ resulta ser leave one out, estimandolo n veces con $n-1$ datos. "
   ]
  },
  {
   "cell_type": "markdown",
   "id": "364ff209",
   "metadata": {},
   "source": [
    "5) "
   ]
  },
  {
   "cell_type": "code",
   "execution_count": 80,
   "id": "d64d75ba",
   "metadata": {},
   "outputs": [],
   "source": [
    "# Ridge y Lasso\n",
    "lambdas=10**np.linspace(-5,5,11)\n",
    "landa_optimo_lasso = evalua_config(lambdas, 10, X, y, l1_ratio=1) #Lasso\n",
    "landa_optimo_ridge = evalua_config(lambdas, 10, X, y, l1_ratio=0) #Ridge"
   ]
  },
  {
   "cell_type": "code",
   "execution_count": 81,
   "id": "1f3baa17",
   "metadata": {},
   "outputs": [
    {
     "name": "stdout",
     "output_type": "stream",
     "text": [
      "0.001\n",
      "10.0\n"
     ]
    }
   ],
   "source": [
    "print(landa_optimo_ridge)\n",
    "print(landa_optimo_lasso)"
   ]
  },
  {
   "cell_type": "code",
   "execution_count": 82,
   "id": "6f286e83",
   "metadata": {},
   "outputs": [
    {
     "name": "stdout",
     "output_type": "stream",
     "text": [
      "El λ elegido con Ridge es 0.001 y Lasso es 10.0.\n"
     ]
    }
   ],
   "source": [
    "print(f'El λ elegido con Ridge es {landa_optimo_ridge} y Lasso es {landa_optimo_lasso}.')"
   ]
  },
  {
   "cell_type": "code",
   "execution_count": 83,
   "id": "00a760b6",
   "metadata": {},
   "outputs": [],
   "source": [
    "def cross_validation2(model, k, x, y, standard=False):\n",
    "    sc = StandardScaler()\n",
    "    \n",
    "    if standard==True:\n",
    "    \n",
    "        kf = KFold(n_splits=k, shuffle=True)\n",
    "\n",
    "        ecm = []\n",
    "\n",
    "        for i, (train_index, test_index) in enumerate(kf.split(x)):   \n",
    "            x_train, x_test = x.iloc[list(train_index)], x.iloc[list(test_index)]  \n",
    "            y_train, y_test = y.iloc[list(train_index)], y.iloc[list(test_index)]\n",
    "\n",
    "            # Estandarizamos las observaciones de entrenamiento\n",
    "            x_train_transformed = pd.DataFrame(sc.fit_transform(x_train),index=x_train.index, columns=x_train.columns)\n",
    "            # Estandarizamos las observaciones de test\n",
    "            x_test_transformed = pd.DataFrame(sc.transform(x_test),index=x_test.index, columns=x_test.columns)\n",
    "\n",
    "            ecm2 = evalua_metodo(x_train_transformed, x_test_transformed, y_train, y_test, model)\n",
    "            ecm3 = ecm2['ecm'][0]\n",
    "            ecm.append(ecm3)\n",
    "        \n",
    "        final_ecm = statistics.mean(ecm)\n",
    "\n",
    "        return final_ecm\n",
    "    \n",
    "    elif standard==False:\n",
    "    \n",
    "        kf = KFold(n_splits=k, shuffle=True)\n",
    "\n",
    "        ecm = []\n",
    "\n",
    "        for i, (train_index, test_index) in enumerate(kf.split(x)):   \n",
    "            x_train, x_test = x.iloc[list(train_index)], x.iloc[list(test_index)]  \n",
    "            y_train, y_test = y.iloc[list(train_index)], y.iloc[list(test_index)]\n",
    "\n",
    "            ecm2 = evalua_metodo(x_train, x_test, y_train, y_test, model)\n",
    "            ecm3 = ecm2['ecm']\n",
    "            ecm.append(ecm3)\n",
    "\n",
    "        final_ecm = ecm\n",
    "\n",
    "        return final_ecm\n",
    "#Armamos para que nos devuelva todos\n",
    "def evalua_config2 (landa, k, x, y, l1_ratio=1):\n",
    "    '''\n",
    "    Toma cómo input una serie de valores de Lambda y el K para CV, y devuelve el lambda que minimiza el ECM por CV, usando elastic net para reg_logit\n",
    "    l1_ratio=1 se hace Lasso\n",
    "    l1_ratio=0 se hace Ridge\n",
    "    0 <l1_ratio< 1 combinación de ambos en elastic net.  \n",
    "    '''\n",
    "    \n",
    "    ret=pd.DataFrame(columns=[ \"ecm\", \"parámetro\"])\n",
    "    for i in range(len(landa)):\n",
    "        clf_en_LR = LogisticRegression(\n",
    "        C=1/landa[i], penalty=\"elasticnet\", solver=\"saga\", l1_ratio=l1_ratio, tol=0.01)\n",
    "        ecm=cross_validation2(clf_en_LR,k, x, y, standard=True)\n",
    "        ret.loc[i]= [ecm,landa[i]]\n",
    "        \n",
    "    return ret\n",
    "\n",
    "#Corremos\n",
    "lassos = evalua_config2(lambdas, 10, X, y, l1_ratio=1) #Lasso\n",
    "ridges = evalua_config2(lambdas, 10, X, y, l1_ratio=0) #Ridge"
   ]
  },
  {
   "cell_type": "markdown",
   "id": "167f3932",
   "metadata": {},
   "source": [
    "<span style='background :yellow' > No es ideal ir creando nuevas funciones en base a los puntos, la idea es que las funciones originales permitan hacer estas cosas."
   ]
  },
  {
   "cell_type": "code",
   "execution_count": 84,
   "id": "8ec72119",
   "metadata": {},
   "outputs": [
    {
     "name": "stdout",
     "output_type": "stream",
     "text": [
      "         ecm     parámetro\n",
      "0   0.035308       0.00001\n",
      "1   0.034704       0.00010\n",
      "2   0.034403       0.00100\n",
      "3   0.033810       0.01000\n",
      "4   0.031994       0.10000\n",
      "5   0.034407       1.00000\n",
      "6   0.037426      10.00000\n",
      "7   0.040735     100.00000\n",
      "8   0.060054    1000.00000\n",
      "9   0.131024   10000.00000\n",
      "10  0.326589  100000.00000\n"
     ]
    }
   ],
   "source": [
    "print(ridges)"
   ]
  },
  {
   "cell_type": "code",
   "execution_count": 85,
   "id": "60e2db04",
   "metadata": {},
   "outputs": [
    {
     "name": "stderr",
     "output_type": "stream",
     "text": [
      "C:\\Users\\Matias\\AppData\\Local\\Temp\\ipykernel_24364\\920968289.py:13: UserWarning: FixedFormatter should only be used together with FixedLocator\n",
      "  ax.xaxis.set(ticklabels=[0.00001,0.0001,0.001,0.01,0.1,1,10,100,1000,10000,100000])\n"
     ]
    },
    {
     "data": {
      "image/png": "[encoded data removed]",
      "text/plain": [
       "<Figure size 1080x504 with 1 Axes>"
      ]
     },
     "metadata": {
      "needs_background": "light"
     },
     "output_type": "display_data"
    }
   ],
   "source": [
    "# Creamos las variables en las cuales almaceno su ecm por parámetro, para las diferentes particiones\n",
    "for i, x in zip(lambdas, range(1,12,1)):\n",
    "     locals()[\"l_\"+str(x)] = lassos[lassos[\"parámetro\"]==i].ecm\n",
    "for i, x in zip(lambdas, range(1,12,1)):\n",
    "     locals()[\"r_\"+str(x)] = ridges[ridges[\"parámetro\"]==i].ecm\n",
    "        \n",
    "# Definimos una variable con todas las variables con los ecm por parámetro para hacer el boxplot\n",
    "data_l = (l_1,l_2,l_3,l_4,l_5,l_6,l_7,l_8,l_9,l_10,l_11)\n",
    "data_r = (r_1,r_2,r_3,r_4,r_5,r_6,r_7,r_8,r_9,r_10,r_11)\n",
    "\n",
    "# Boxplot para Lasso\n",
    "fig, ax = plt.subplots(figsize =(15, 7))\n",
    "ax.xaxis.set(ticklabels=[0.00001,0.0001,0.001,0.01,0.1,1,10,100,1000,10000,100000])\n",
    "ax.set(title=\"ECM por parámetro para Lasso\" , ylabel= \"ECM\", xlabel= \"Parámetro\")\n",
    "ax.boxplot(data_l)\n",
    "plt.show()"
   ]
  },
  {
   "cell_type": "code",
   "execution_count": 86,
   "id": "f4fb0e49",
   "metadata": {
    "scrolled": true
   },
   "outputs": [
    {
     "name": "stderr",
     "output_type": "stream",
     "text": [
      "C:\\Users\\Matias\\AppData\\Local\\Temp\\ipykernel_24364\\3743415611.py:3: UserWarning: FixedFormatter should only be used together with FixedLocator\n",
      "  ax.xaxis.set(ticklabels=[0.00001,0.0001,0.001,0.01,0.1,1,10,100,1000,10000,100000])\n"
     ]
    },
    {
     "data": {
      "image/png": "[encoded data removed]",
      "text/plain": [
       "<Figure size 1080x504 with 1 Axes>"
      ]
     },
     "metadata": {
      "needs_background": "light"
     },
     "output_type": "display_data"
    }
   ],
   "source": [
    "# Boxplot para Ridge\n",
    "fig, ax = plt.subplots(figsize =(15, 7))\n",
    "ax.xaxis.set(ticklabels=[0.00001,0.0001,0.001,0.01,0.1,1,10,100,1000,10000,100000])\n",
    "ax.set(title=\"ECM por parámetro para Ridge\" , ylabel= \"ECM\", xlabel= \"Parámetro\")\n",
    "ax.boxplot(data_r)\n",
    "plt.show()"
   ]
  },
  {
   "cell_type": "markdown",
   "id": "09cc683e",
   "metadata": {},
   "source": [
    "<span style='background :yellow' > No responden proporción de variables eliminadas por LASSO ni punto 6."
   ]
  },
  {
   "cell_type": "markdown",
   "id": "f027bf38",
   "metadata": {},
   "source": [
    "7) Comparamos para el caso donde $\\lambda=0.2$."
   ]
  },
  {
   "cell_type": "code",
   "execution_count": 87,
   "id": "a0e1fc8c",
   "metadata": {
    "scrolled": true
   },
   "outputs": [
    {
     "name": "stdout",
     "output_type": "stream",
     "text": [
      "De elegir landa igual a 0.1, el ECM de Lasso es 0.03531831252502457 y de Ridge 0.03199413970079715. Siendo el menor 0.03199413970079715, de Lasso.\n"
     ]
    }
   ],
   "source": [
    "r=ridges.ecm[4]\n",
    "l=lassos.ecm[4]\n",
    "print(f'De elegir landa igual a 0.1, el ECM de Lasso es {l} y de Ridge {r}. Siendo el menor {min(l,r)}, de Lasso.')"
   ]
  },
  {
   "cell_type": "markdown",
   "id": "71dd74bd",
   "metadata": {},
   "source": [
    "<span style='background :yellow' > No es lo que se pide. Tenían que decir, para toda una lista de hiperparámetros, cuál modelo minimizaba el ECM."
   ]
  },
  {
   "cell_type": "markdown",
   "id": "93526418",
   "metadata": {},
   "source": [
    "8) Buscamos cual predice mejor. "
   ]
  },
  {
   "cell_type": "code",
   "execution_count": 88,
   "id": "c49fe484",
   "metadata": {},
   "outputs": [
    {
     "name": "stderr",
     "output_type": "stream",
     "text": [
      "C:\\Users\\Matias\\AppData\\Local\\Programs\\Python\\Python310\\lib\\site-packages\\sklearn\\linear_model\\_logistic.py:444: ConvergenceWarning: lbfgs failed to converge (status=1):\n",
      "STOP: TOTAL NO. of ITERATIONS REACHED LIMIT.\n",
      "\n",
      "Increase the number of iterations (max_iter) or scale the data as shown in:\n",
      "    https://scikit-learn.org/stable/modules/preprocessing.html\n",
      "Please also refer to the documentation for alternative solver options:\n",
      "    https://scikit-learn.org/stable/modules/linear_model.html#logistic-regression\n",
      "  n_iter_i = _check_optimize_result(\n"
     ]
    }
   ],
   "source": [
    "m=evalua_multiples_metodos (5,5, 20, X_train, X_test , y_train, y_test, X, y)\n"
   ]
  },
  {
   "cell_type": "code",
   "execution_count": 89,
   "id": "e6072b6e",
   "metadata": {
    "scrolled": true
   },
   "outputs": [
    {
     "name": "stdout",
     "output_type": "stream",
     "text": [
      "El modelo que mejor anda es regresion_logistica, con ECM de 0.002012072434607646.\n"
     ]
    }
   ],
   "source": [
    "print(f'El modelo que mejor anda es {m.loc[m[\"ECM\"] == min(m[\"ECM\"])][\"Modelo\"][0]}, con ECM de {min(m[\"ECM\"])}.')\n"
   ]
  },
  {
   "cell_type": "markdown",
   "id": "2a71605b",
   "metadata": {},
   "source": [
    "9) Predecimos pobres entre los que no respondieron."
   ]
  },
  {
   "cell_type": "code",
   "execution_count": 90,
   "id": "12cdb125",
   "metadata": {},
   "outputs": [
    {
     "name": "stderr",
     "output_type": "stream",
     "text": [
      "C:\\Users\\Matias\\AppData\\Local\\Programs\\Python\\Python310\\lib\\site-packages\\sklearn\\base.py:493: FutureWarning: The feature names should match those that were passed during fit. Starting version 1.2, an error will be raised.\n",
      "Feature names unseen at fit time:\n",
      "- index\n",
      "Feature names seen at fit time, yet now missing:\n",
      "- ingreso_necesario\n",
      "\n",
      "  warnings.warn(message, FutureWarning)\n"
     ]
    }
   ],
   "source": [
    "df_norespondieron['Constante']=1\n",
    "lambdas=np.arange(0.01, 10000,1000).tolist()\n",
    "landa_optimo_en = evalua_config(lambdas, 10, X, y, l1_ratio=0.5) \n",
    "logi=LogisticRegression(\n",
    "        C=1/landa_optimo_en, penalty=\"elasticnet\", solver=\"saga\", l1_ratio=0.5, tol=0.01).fit(X_train,y_train)\n",
    "pobres_no_respondieron=logi.predict(df_norespondieron)\n"
   ]
  },
  {
   "cell_type": "code",
   "execution_count": 91,
   "id": "06a0dfe8",
   "metadata": {},
   "outputs": [
    {
     "name": "stdout",
     "output_type": "stream",
     "text": [
      "Entre los que no respondieron hay 1075, siendo de una proporcion 0.5009319664492078.\n"
     ]
    }
   ],
   "source": [
    "pobres_nr=np.sum(pobres_no_respondieron)\n",
    "tasa_pobreza_nr=np.sum(pobres_no_respondieron)/len(pobres_no_respondieron)\n",
    "print(f'Entre los que no respondieron hay {pobres_nr}, siendo de una proporcion {tasa_pobreza_nr}.')"
   ]
  },
  {
   "cell_type": "markdown",
   "id": "62462ec6",
   "metadata": {},
   "source": [
    "<span style='background :yellow' > Les da bastante alto, no? Por qué cambiaron el modelo a elasticnet si el elegido fue regresión logística, que en su función corre con penalty l1 por default? También pusieron una lista de hiperparámetros distinta..."
   ]
  }
 ],
 "metadata": {
  "kernelspec": {
   "display_name": "Python 3.9.13 ('base')",
   "language": "python",
   "name": "python3"
  },
  "language_info": {
   "codemirror_mode": {
    "name": "ipython",
    "version": 3
   },
   "file_extension": ".py",
   "mimetype": "text/x-python",
   "name": "python",
   "nbconvert_exporter": "python",
   "pygments_lexer": "ipython3",
   "version": "3.9.13"
  },
  "vscode": {
   "interpreter": {
    "hash": "8bffcb00b7ac34bf829d2aec2cc2dc2ffd9f66546b23bd1c848b28266b45973a"
   }
  }
 },
 "nbformat": 4,
 "nbformat_minor": 5
}
