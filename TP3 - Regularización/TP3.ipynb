{
 "cells": [
  {
   "cell_type": "code",
   "execution_count": null,
   "metadata": {},
   "outputs": [],
   "source": [
    "import pandas as pd\n",
    "import numpy as np\n",
    "\n",
    "#Abrimos la base\n",
    "\n",
    "df_individual = pd.read_excel('./data/usu_individual_T122.xlsx')\n",
    "df_hogar = pd.read_excel('./data/usu_hogar_T122.xlsx')"
   ]
  },
  {
   "cell_type": "code",
   "execution_count": null,
   "metadata": {},
   "outputs": [],
   "source": [
    "df_individual_cortado = df_individual.query(\"AGLOMERADO in (32, 33)\") # la manera mas rapida y facil de hacerlo (que nos salio xd)\n",
    "df_hogar_cortado = df_hogar.query(\"AGLOMERADO in (32, 33)\") # la manera mas rapida y facil de hacerlo (que nos salio xd)\n",
    "\n",
    "print(len(df_individual_cortado))\n",
    "print(len(df_hogar_cortado))\n",
    "\n",
    "df_individual_cortado.sample(10)"
   ]
  },
  {
   "cell_type": "markdown",
   "metadata": {},
   "source": [
    "hasta acá llegue por ahora se me traba el kernel"
   ]
  }
 ],
 "metadata": {
  "kernelspec": {
   "display_name": "Python 3.9.14 ('env': venv)",
   "language": "python",
   "name": "python3"
  },
  "language_info": {
   "codemirror_mode": {
    "name": "ipython",
    "version": 3
   },
   "file_extension": ".py",
   "mimetype": "text/x-python",
   "name": "python",
   "nbconvert_exporter": "python",
   "pygments_lexer": "ipython3",
   "version": "3.9.14"
  },
  "orig_nbformat": 4,
  "vscode": {
   "interpreter": {
    "hash": "f1418e0d3fbd976afb9b884081a920b6b4f9e9f1ba7048dda807860eb997cff5"
   }
  }
 },
 "nbformat": 4,
 "nbformat_minor": 2
}
